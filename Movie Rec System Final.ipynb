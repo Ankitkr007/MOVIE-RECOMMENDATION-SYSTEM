{
  "cells": [
    {
      "cell_type": "markdown",
      "source": [
        "#Project : Build a Movie Recommendation System \n"
      ],
      "metadata": {
        "id": "9UHAqYMq4PBD"
      }
    },
    {
      "cell_type": "code",
      "source": [
        "import numpy as np \n",
        "import pandas as pd\n",
        "import matplotlib.pyplot as plt\n",
        "import seaborn as sns\n",
        "import warnings\n",
        "warnings.filterwarnings('ignore')\n",
        "pd.set_option(\"display.max_columns\",None)"
      ],
      "metadata": {
        "id": "QLMb6p3q4NAa"
      },
      "execution_count": 27,
      "outputs": []
    },
    {
      "cell_type": "code",
      "execution_count": 28,
      "metadata": {
        "id": "c1aEj64T8qjq"
      },
      "outputs": [],
      "source": [
        "\n",
        "data1=pd.read_csv('/content/TMDB_10000_Popular_Movies.csv')"
      ]
    },
    {
      "cell_type": "code",
      "execution_count": 29,
      "metadata": {
        "id": "9Kl-qH5s_aS5"
      },
      "outputs": [],
      "source": [
        "data2=pd.read_csv('/content/TMDB_7000_Top_Rated_Movies.csv')"
      ]
    },
    {
      "cell_type": "code",
      "execution_count": 30,
      "metadata": {
        "id": "n5_r3o-Q_5ZC"
      },
      "outputs": [],
      "source": [
        "data=pd.concat([data1,data2], axis='rows')"
      ]
    },
    {
      "cell_type": "code",
      "execution_count": 31,
      "metadata": {
        "id": "D67Vg5CxAtW9",
        "colab": {
          "base_uri": "https://localhost:8080/",
          "height": 384
        },
        "outputId": "9a756afd-2faa-4e7c-9c0a-eae51ee4a936"
      },
      "outputs": [
        {
          "output_type": "execute_result",
          "data": {
            "text/plain": [
              "   TMDb_Id    IMDb_Id      Title Original_Title  \\\n",
              "0   419704  tt2935510   Ad Astra       Ad Astra   \n",
              "1   338762  tt1634106  Bloodshot      Bloodshot   \n",
              "\n",
              "                                            Overview  \\\n",
              "0  The near future, a time when both hope and har...   \n",
              "1  After he and his wife are murdered, marine Ray...   \n",
              "\n",
              "                     Genres  \\\n",
              "0   Drama | Science Fiction   \n",
              "1  Action | Science Fiction   \n",
              "\n",
              "                                                Cast  \\\n",
              "0  Brad Pitt | Tommy Lee Jones | Ruth Negga | Joh...   \n",
              "1  Vin Diesel | Eiza González | Sam Heughan | Tob...   \n",
              "\n",
              "                                                Crew Collection Release_Date  \\\n",
              "0  Brad Pitt | Arnon Milchan | Gary Rydstrom | Ga...     Single   2019-09-17   \n",
              "1  John Papsidera | Matthew Vaughn | Jim May | Ne...     Single   2020-03-05   \n",
              "\n",
              "  Release_Status Original_Language Languages_Spoken  Runtime  \\\n",
              "0       Released                en  English | Norsk    123.0   \n",
              "1       Released                en          English    110.0   \n",
              "\n",
              "                                          Tagline  Popularity  Rating_average  \\\n",
              "0  The answers we seek are just outside our reach     463.487             5.9   \n",
              "1               Being a superhero is in his blood     235.701             7.2   \n",
              "\n",
              "   Rating_Count                               Production_Companies  \\\n",
              "0          2863  New Regency Productions | Keep Your Head | Mad...   \n",
              "1          1384  Sony Pictures | Cross Creek Pictures | Mimran ...   \n",
              "\n",
              "                           Country_of_Origin      Budget      Revenue  \n",
              "0  Brazil | China | United States of America  87500000.0  127175922.0  \n",
              "1           China | United States of America  42000000.0   24573617.0  "
            ],
            "text/html": [
              "\n",
              "  <div id=\"df-33fa1d43-68cb-43e3-b387-bab0affee6fe\">\n",
              "    <div class=\"colab-df-container\">\n",
              "      <div>\n",
              "<style scoped>\n",
              "    .dataframe tbody tr th:only-of-type {\n",
              "        vertical-align: middle;\n",
              "    }\n",
              "\n",
              "    .dataframe tbody tr th {\n",
              "        vertical-align: top;\n",
              "    }\n",
              "\n",
              "    .dataframe thead th {\n",
              "        text-align: right;\n",
              "    }\n",
              "</style>\n",
              "<table border=\"1\" class=\"dataframe\">\n",
              "  <thead>\n",
              "    <tr style=\"text-align: right;\">\n",
              "      <th></th>\n",
              "      <th>TMDb_Id</th>\n",
              "      <th>IMDb_Id</th>\n",
              "      <th>Title</th>\n",
              "      <th>Original_Title</th>\n",
              "      <th>Overview</th>\n",
              "      <th>Genres</th>\n",
              "      <th>Cast</th>\n",
              "      <th>Crew</th>\n",
              "      <th>Collection</th>\n",
              "      <th>Release_Date</th>\n",
              "      <th>Release_Status</th>\n",
              "      <th>Original_Language</th>\n",
              "      <th>Languages_Spoken</th>\n",
              "      <th>Runtime</th>\n",
              "      <th>Tagline</th>\n",
              "      <th>Popularity</th>\n",
              "      <th>Rating_average</th>\n",
              "      <th>Rating_Count</th>\n",
              "      <th>Production_Companies</th>\n",
              "      <th>Country_of_Origin</th>\n",
              "      <th>Budget</th>\n",
              "      <th>Revenue</th>\n",
              "    </tr>\n",
              "  </thead>\n",
              "  <tbody>\n",
              "    <tr>\n",
              "      <th>0</th>\n",
              "      <td>419704</td>\n",
              "      <td>tt2935510</td>\n",
              "      <td>Ad Astra</td>\n",
              "      <td>Ad Astra</td>\n",
              "      <td>The near future, a time when both hope and har...</td>\n",
              "      <td>Drama | Science Fiction</td>\n",
              "      <td>Brad Pitt | Tommy Lee Jones | Ruth Negga | Joh...</td>\n",
              "      <td>Brad Pitt | Arnon Milchan | Gary Rydstrom | Ga...</td>\n",
              "      <td>Single</td>\n",
              "      <td>2019-09-17</td>\n",
              "      <td>Released</td>\n",
              "      <td>en</td>\n",
              "      <td>English | Norsk</td>\n",
              "      <td>123.0</td>\n",
              "      <td>The answers we seek are just outside our reach</td>\n",
              "      <td>463.487</td>\n",
              "      <td>5.9</td>\n",
              "      <td>2863</td>\n",
              "      <td>New Regency Productions | Keep Your Head | Mad...</td>\n",
              "      <td>Brazil | China | United States of America</td>\n",
              "      <td>87500000.0</td>\n",
              "      <td>127175922.0</td>\n",
              "    </tr>\n",
              "    <tr>\n",
              "      <th>1</th>\n",
              "      <td>338762</td>\n",
              "      <td>tt1634106</td>\n",
              "      <td>Bloodshot</td>\n",
              "      <td>Bloodshot</td>\n",
              "      <td>After he and his wife are murdered, marine Ray...</td>\n",
              "      <td>Action | Science Fiction</td>\n",
              "      <td>Vin Diesel | Eiza González | Sam Heughan | Tob...</td>\n",
              "      <td>John Papsidera | Matthew Vaughn | Jim May | Ne...</td>\n",
              "      <td>Single</td>\n",
              "      <td>2020-03-05</td>\n",
              "      <td>Released</td>\n",
              "      <td>en</td>\n",
              "      <td>English</td>\n",
              "      <td>110.0</td>\n",
              "      <td>Being a superhero is in his blood</td>\n",
              "      <td>235.701</td>\n",
              "      <td>7.2</td>\n",
              "      <td>1384</td>\n",
              "      <td>Sony Pictures | Cross Creek Pictures | Mimran ...</td>\n",
              "      <td>China | United States of America</td>\n",
              "      <td>42000000.0</td>\n",
              "      <td>24573617.0</td>\n",
              "    </tr>\n",
              "  </tbody>\n",
              "</table>\n",
              "</div>\n",
              "      <button class=\"colab-df-convert\" onclick=\"convertToInteractive('df-33fa1d43-68cb-43e3-b387-bab0affee6fe')\"\n",
              "              title=\"Convert this dataframe to an interactive table.\"\n",
              "              style=\"display:none;\">\n",
              "        \n",
              "  <svg xmlns=\"http://www.w3.org/2000/svg\" height=\"24px\"viewBox=\"0 0 24 24\"\n",
              "       width=\"24px\">\n",
              "    <path d=\"M0 0h24v24H0V0z\" fill=\"none\"/>\n",
              "    <path d=\"M18.56 5.44l.94 2.06.94-2.06 2.06-.94-2.06-.94-.94-2.06-.94 2.06-2.06.94zm-11 1L8.5 8.5l.94-2.06 2.06-.94-2.06-.94L8.5 2.5l-.94 2.06-2.06.94zm10 10l.94 2.06.94-2.06 2.06-.94-2.06-.94-.94-2.06-.94 2.06-2.06.94z\"/><path d=\"M17.41 7.96l-1.37-1.37c-.4-.4-.92-.59-1.43-.59-.52 0-1.04.2-1.43.59L10.3 9.45l-7.72 7.72c-.78.78-.78 2.05 0 2.83L4 21.41c.39.39.9.59 1.41.59.51 0 1.02-.2 1.41-.59l7.78-7.78 2.81-2.81c.8-.78.8-2.07 0-2.86zM5.41 20L4 18.59l7.72-7.72 1.47 1.35L5.41 20z\"/>\n",
              "  </svg>\n",
              "      </button>\n",
              "      \n",
              "  <style>\n",
              "    .colab-df-container {\n",
              "      display:flex;\n",
              "      flex-wrap:wrap;\n",
              "      gap: 12px;\n",
              "    }\n",
              "\n",
              "    .colab-df-convert {\n",
              "      background-color: #E8F0FE;\n",
              "      border: none;\n",
              "      border-radius: 50%;\n",
              "      cursor: pointer;\n",
              "      display: none;\n",
              "      fill: #1967D2;\n",
              "      height: 32px;\n",
              "      padding: 0 0 0 0;\n",
              "      width: 32px;\n",
              "    }\n",
              "\n",
              "    .colab-df-convert:hover {\n",
              "      background-color: #E2EBFA;\n",
              "      box-shadow: 0px 1px 2px rgba(60, 64, 67, 0.3), 0px 1px 3px 1px rgba(60, 64, 67, 0.15);\n",
              "      fill: #174EA6;\n",
              "    }\n",
              "\n",
              "    [theme=dark] .colab-df-convert {\n",
              "      background-color: #3B4455;\n",
              "      fill: #D2E3FC;\n",
              "    }\n",
              "\n",
              "    [theme=dark] .colab-df-convert:hover {\n",
              "      background-color: #434B5C;\n",
              "      box-shadow: 0px 1px 3px 1px rgba(0, 0, 0, 0.15);\n",
              "      filter: drop-shadow(0px 1px 2px rgba(0, 0, 0, 0.3));\n",
              "      fill: #FFFFFF;\n",
              "    }\n",
              "  </style>\n",
              "\n",
              "      <script>\n",
              "        const buttonEl =\n",
              "          document.querySelector('#df-33fa1d43-68cb-43e3-b387-bab0affee6fe button.colab-df-convert');\n",
              "        buttonEl.style.display =\n",
              "          google.colab.kernel.accessAllowed ? 'block' : 'none';\n",
              "\n",
              "        async function convertToInteractive(key) {\n",
              "          const element = document.querySelector('#df-33fa1d43-68cb-43e3-b387-bab0affee6fe');\n",
              "          const dataTable =\n",
              "            await google.colab.kernel.invokeFunction('convertToInteractive',\n",
              "                                                     [key], {});\n",
              "          if (!dataTable) return;\n",
              "\n",
              "          const docLinkHtml = 'Like what you see? Visit the ' +\n",
              "            '<a target=\"_blank\" href=https://colab.research.google.com/notebooks/data_table.ipynb>data table notebook</a>'\n",
              "            + ' to learn more about interactive tables.';\n",
              "          element.innerHTML = '';\n",
              "          dataTable['output_type'] = 'display_data';\n",
              "          await google.colab.output.renderOutput(dataTable, element);\n",
              "          const docLink = document.createElement('div');\n",
              "          docLink.innerHTML = docLinkHtml;\n",
              "          element.appendChild(docLink);\n",
              "        }\n",
              "      </script>\n",
              "    </div>\n",
              "  </div>\n",
              "  "
            ]
          },
          "metadata": {},
          "execution_count": 31
        }
      ],
      "source": [
        "data.head(2)"
      ]
    },
    {
      "cell_type": "markdown",
      "metadata": {
        "id": "al5tKA5xxrip"
      },
      "source": [
        "##Data Preprocessing"
      ]
    },
    {
      "cell_type": "code",
      "execution_count": 32,
      "metadata": {
        "colab": {
          "base_uri": "https://localhost:8080/"
        },
        "id": "2xc-ROhwAv1R",
        "outputId": "87412474-4e1a-4d49-fa1b-c97d2a6bce41"
      },
      "outputs": [
        {
          "output_type": "execute_result",
          "data": {
            "text/plain": [
              "(17101, 22)"
            ]
          },
          "metadata": {},
          "execution_count": 32
        }
      ],
      "source": [
        "data.shape"
      ]
    },
    {
      "cell_type": "code",
      "execution_count": 33,
      "metadata": {
        "colab": {
          "base_uri": "https://localhost:8080/"
        },
        "id": "Dj-pZ6VTA7LD",
        "outputId": "0e067b76-9948-436f-dd22-dd1011a8e2be"
      },
      "outputs": [
        {
          "output_type": "stream",
          "name": "stdout",
          "text": [
            "<class 'pandas.core.frame.DataFrame'>\n",
            "Int64Index: 17101 entries, 0 to 7100\n",
            "Data columns (total 22 columns):\n",
            " #   Column                Non-Null Count  Dtype  \n",
            "---  ------                --------------  -----  \n",
            " 0   TMDb_Id               17101 non-null  int64  \n",
            " 1   IMDb_Id               17029 non-null  object \n",
            " 2   Title                 17101 non-null  object \n",
            " 3   Original_Title        17101 non-null  object \n",
            " 4   Overview              17060 non-null  object \n",
            " 5   Genres                17030 non-null  object \n",
            " 6   Cast                  17043 non-null  object \n",
            " 7   Crew                  17088 non-null  object \n",
            " 8   Collection            17100 non-null  object \n",
            " 9   Release_Date          17098 non-null  object \n",
            " 10  Release_Status        17100 non-null  object \n",
            " 11  Original_Language     17101 non-null  object \n",
            " 12  Languages_Spoken      17014 non-null  object \n",
            " 13  Runtime               17085 non-null  float64\n",
            " 14  Tagline               13429 non-null  object \n",
            " 15  Popularity            17101 non-null  float64\n",
            " 16  Rating_average        17101 non-null  float64\n",
            " 17  Rating_Count          17101 non-null  int64  \n",
            " 18  Production_Companies  16719 non-null  object \n",
            " 19  Country_of_Origin     16968 non-null  object \n",
            " 20  Budget                17100 non-null  float64\n",
            " 21  Revenue               17100 non-null  float64\n",
            "dtypes: float64(5), int64(2), object(15)\n",
            "memory usage: 3.0+ MB\n"
          ]
        }
      ],
      "source": [
        "data.info()"
      ]
    },
    {
      "cell_type": "code",
      "source": [
        "data['Languages_Spoken'].unique()"
      ],
      "metadata": {
        "colab": {
          "base_uri": "https://localhost:8080/"
        },
        "id": "P0w4gcxNKZGh",
        "outputId": "1b8c3951-e92e-413c-f39f-6707ff09b20a"
      },
      "execution_count": 34,
      "outputs": [
        {
          "output_type": "execute_result",
          "data": {
            "text/plain": [
              "array(['English | Norsk', 'English', 'Español | English', ...,\n",
              "       'Català | Español | Français | Galego | English',\n",
              "       'Español | Français | Polski | Português',\n",
              "       'Français | Nederlands | Português'], dtype=object)"
            ]
          },
          "metadata": {},
          "execution_count": 34
        }
      ]
    },
    {
      "cell_type": "code",
      "execution_count": 35,
      "metadata": {
        "colab": {
          "base_uri": "https://localhost:8080/"
        },
        "id": "wzmDN-7Wf9_1",
        "outputId": "f6a2d1b8-f104-4cbd-bde3-d80708a94592"
      },
      "outputs": [
        {
          "output_type": "execute_result",
          "data": {
            "text/plain": [
              "array(['en', 'fr', 'es', 'tr', 'ko', 'tl', 'ja', 'it', 'id', 'ru', 'pl',\n",
              "       'cn', 'da', 'hi', 'sv', 'zh', 'no', 'lv', 'ro', 'ar', 'el', 'ta',\n",
              "       'sq', 'de', 'ml', 'th', 'nl', 'pt', 'sr', 'mk', 'te', 'xx', 'hu',\n",
              "       'is', 'sh', 'fa', 'cs', 'la', 'he', 'pa', 'nb', 'bs', 'vi', 'eu',\n",
              "       'fi', 'af', 'ab', 'ka', 'ms', 'mr', 'et', 'uk'], dtype=object)"
            ]
          },
          "metadata": {},
          "execution_count": 35
        }
      ],
      "source": [
        "data[\"Original_Language\"].unique()"
      ]
    },
    {
      "cell_type": "code",
      "source": [
        "data=data.drop('Languages_Spoken',axis=1)"
      ],
      "metadata": {
        "id": "7RKQq1VWNp_5"
      },
      "execution_count": 36,
      "outputs": []
    },
    {
      "cell_type": "code",
      "execution_count": 37,
      "metadata": {
        "id": "3kaVn5MegBQg"
      },
      "outputs": [],
      "source": [
        "data[\"Original_Language\"]=data[\"Original_Language\"].replace(\"hi\",\"hindi\")\n",
        "data[\"Original_Language\"]=data[\"Original_Language\"].replace(\"en\",\"english\")"
      ]
    },
    {
      "cell_type": "code",
      "execution_count": 38,
      "metadata": {
        "colab": {
          "base_uri": "https://localhost:8080/"
        },
        "id": "9xjD70lwgEYl",
        "outputId": "1f9d4da4-7e68-4486-b9ea-826629a0252a"
      },
      "outputs": [
        {
          "output_type": "execute_result",
          "data": {
            "text/plain": [
              "array(['english', 'fr', 'es', 'tr', 'ko', 'tl', 'ja', 'it', 'id', 'ru',\n",
              "       'pl', 'cn', 'da', 'hindi', 'sv', 'zh', 'no', 'lv', 'ro', 'ar',\n",
              "       'el', 'ta', 'sq', 'de', 'ml', 'th', 'nl', 'pt', 'sr', 'mk', 'te',\n",
              "       'xx', 'hu', 'is', 'sh', 'fa', 'cs', 'la', 'he', 'pa', 'nb', 'bs',\n",
              "       'vi', 'eu', 'fi', 'af', 'ab', 'ka', 'ms', 'mr', 'et', 'uk'],\n",
              "      dtype=object)"
            ]
          },
          "metadata": {},
          "execution_count": 38
        }
      ],
      "source": [
        "data[\"Original_Language\"].unique()"
      ]
    },
    {
      "cell_type": "code",
      "source": [
        "print (data['Release_Date'].dtype)\n",
        "data['Release_Date'] = pd.to_datetime(data['Release_Date'])\n",
        "\n",
        "print (data['Release_Date'].dtype)\n",
        "data['year_of_release'] = data['Release_Date'].dt.year\n"
      ],
      "metadata": {
        "colab": {
          "base_uri": "https://localhost:8080/"
        },
        "id": "oJFD6YxyhbIz",
        "outputId": "4c77e9a6-d3a0-4c68-aaaf-6c463c37c2ee"
      },
      "execution_count": 39,
      "outputs": [
        {
          "output_type": "stream",
          "name": "stdout",
          "text": [
            "object\n",
            "datetime64[ns]\n"
          ]
        }
      ]
    },
    {
      "cell_type": "code",
      "source": [
        "data['movie_Id'] = data['TMDb_Id'].astype(int)\n",
        "data.head(1)"
      ],
      "metadata": {
        "colab": {
          "base_uri": "https://localhost:8080/",
          "height": 266
        },
        "id": "v67NFLbdjBEb",
        "outputId": "035995f0-62fe-429e-fa31-6ec8db89c042"
      },
      "execution_count": 40,
      "outputs": [
        {
          "output_type": "execute_result",
          "data": {
            "text/plain": [
              "   TMDb_Id    IMDb_Id     Title Original_Title  \\\n",
              "0   419704  tt2935510  Ad Astra       Ad Astra   \n",
              "\n",
              "                                            Overview                   Genres  \\\n",
              "0  The near future, a time when both hope and har...  Drama | Science Fiction   \n",
              "\n",
              "                                                Cast  \\\n",
              "0  Brad Pitt | Tommy Lee Jones | Ruth Negga | Joh...   \n",
              "\n",
              "                                                Crew Collection Release_Date  \\\n",
              "0  Brad Pitt | Arnon Milchan | Gary Rydstrom | Ga...     Single   2019-09-17   \n",
              "\n",
              "  Release_Status Original_Language  Runtime  \\\n",
              "0       Released           english    123.0   \n",
              "\n",
              "                                          Tagline  Popularity  Rating_average  \\\n",
              "0  The answers we seek are just outside our reach     463.487             5.9   \n",
              "\n",
              "   Rating_Count                               Production_Companies  \\\n",
              "0          2863  New Regency Productions | Keep Your Head | Mad...   \n",
              "\n",
              "                           Country_of_Origin      Budget      Revenue  \\\n",
              "0  Brazil | China | United States of America  87500000.0  127175922.0   \n",
              "\n",
              "   year_of_release  movie_Id  \n",
              "0           2019.0    419704  "
            ],
            "text/html": [
              "\n",
              "  <div id=\"df-29234079-d4be-469c-ad47-5ef5d7385f80\">\n",
              "    <div class=\"colab-df-container\">\n",
              "      <div>\n",
              "<style scoped>\n",
              "    .dataframe tbody tr th:only-of-type {\n",
              "        vertical-align: middle;\n",
              "    }\n",
              "\n",
              "    .dataframe tbody tr th {\n",
              "        vertical-align: top;\n",
              "    }\n",
              "\n",
              "    .dataframe thead th {\n",
              "        text-align: right;\n",
              "    }\n",
              "</style>\n",
              "<table border=\"1\" class=\"dataframe\">\n",
              "  <thead>\n",
              "    <tr style=\"text-align: right;\">\n",
              "      <th></th>\n",
              "      <th>TMDb_Id</th>\n",
              "      <th>IMDb_Id</th>\n",
              "      <th>Title</th>\n",
              "      <th>Original_Title</th>\n",
              "      <th>Overview</th>\n",
              "      <th>Genres</th>\n",
              "      <th>Cast</th>\n",
              "      <th>Crew</th>\n",
              "      <th>Collection</th>\n",
              "      <th>Release_Date</th>\n",
              "      <th>Release_Status</th>\n",
              "      <th>Original_Language</th>\n",
              "      <th>Runtime</th>\n",
              "      <th>Tagline</th>\n",
              "      <th>Popularity</th>\n",
              "      <th>Rating_average</th>\n",
              "      <th>Rating_Count</th>\n",
              "      <th>Production_Companies</th>\n",
              "      <th>Country_of_Origin</th>\n",
              "      <th>Budget</th>\n",
              "      <th>Revenue</th>\n",
              "      <th>year_of_release</th>\n",
              "      <th>movie_Id</th>\n",
              "    </tr>\n",
              "  </thead>\n",
              "  <tbody>\n",
              "    <tr>\n",
              "      <th>0</th>\n",
              "      <td>419704</td>\n",
              "      <td>tt2935510</td>\n",
              "      <td>Ad Astra</td>\n",
              "      <td>Ad Astra</td>\n",
              "      <td>The near future, a time when both hope and har...</td>\n",
              "      <td>Drama | Science Fiction</td>\n",
              "      <td>Brad Pitt | Tommy Lee Jones | Ruth Negga | Joh...</td>\n",
              "      <td>Brad Pitt | Arnon Milchan | Gary Rydstrom | Ga...</td>\n",
              "      <td>Single</td>\n",
              "      <td>2019-09-17</td>\n",
              "      <td>Released</td>\n",
              "      <td>english</td>\n",
              "      <td>123.0</td>\n",
              "      <td>The answers we seek are just outside our reach</td>\n",
              "      <td>463.487</td>\n",
              "      <td>5.9</td>\n",
              "      <td>2863</td>\n",
              "      <td>New Regency Productions | Keep Your Head | Mad...</td>\n",
              "      <td>Brazil | China | United States of America</td>\n",
              "      <td>87500000.0</td>\n",
              "      <td>127175922.0</td>\n",
              "      <td>2019.0</td>\n",
              "      <td>419704</td>\n",
              "    </tr>\n",
              "  </tbody>\n",
              "</table>\n",
              "</div>\n",
              "      <button class=\"colab-df-convert\" onclick=\"convertToInteractive('df-29234079-d4be-469c-ad47-5ef5d7385f80')\"\n",
              "              title=\"Convert this dataframe to an interactive table.\"\n",
              "              style=\"display:none;\">\n",
              "        \n",
              "  <svg xmlns=\"http://www.w3.org/2000/svg\" height=\"24px\"viewBox=\"0 0 24 24\"\n",
              "       width=\"24px\">\n",
              "    <path d=\"M0 0h24v24H0V0z\" fill=\"none\"/>\n",
              "    <path d=\"M18.56 5.44l.94 2.06.94-2.06 2.06-.94-2.06-.94-.94-2.06-.94 2.06-2.06.94zm-11 1L8.5 8.5l.94-2.06 2.06-.94-2.06-.94L8.5 2.5l-.94 2.06-2.06.94zm10 10l.94 2.06.94-2.06 2.06-.94-2.06-.94-.94-2.06-.94 2.06-2.06.94z\"/><path d=\"M17.41 7.96l-1.37-1.37c-.4-.4-.92-.59-1.43-.59-.52 0-1.04.2-1.43.59L10.3 9.45l-7.72 7.72c-.78.78-.78 2.05 0 2.83L4 21.41c.39.39.9.59 1.41.59.51 0 1.02-.2 1.41-.59l7.78-7.78 2.81-2.81c.8-.78.8-2.07 0-2.86zM5.41 20L4 18.59l7.72-7.72 1.47 1.35L5.41 20z\"/>\n",
              "  </svg>\n",
              "      </button>\n",
              "      \n",
              "  <style>\n",
              "    .colab-df-container {\n",
              "      display:flex;\n",
              "      flex-wrap:wrap;\n",
              "      gap: 12px;\n",
              "    }\n",
              "\n",
              "    .colab-df-convert {\n",
              "      background-color: #E8F0FE;\n",
              "      border: none;\n",
              "      border-radius: 50%;\n",
              "      cursor: pointer;\n",
              "      display: none;\n",
              "      fill: #1967D2;\n",
              "      height: 32px;\n",
              "      padding: 0 0 0 0;\n",
              "      width: 32px;\n",
              "    }\n",
              "\n",
              "    .colab-df-convert:hover {\n",
              "      background-color: #E2EBFA;\n",
              "      box-shadow: 0px 1px 2px rgba(60, 64, 67, 0.3), 0px 1px 3px 1px rgba(60, 64, 67, 0.15);\n",
              "      fill: #174EA6;\n",
              "    }\n",
              "\n",
              "    [theme=dark] .colab-df-convert {\n",
              "      background-color: #3B4455;\n",
              "      fill: #D2E3FC;\n",
              "    }\n",
              "\n",
              "    [theme=dark] .colab-df-convert:hover {\n",
              "      background-color: #434B5C;\n",
              "      box-shadow: 0px 1px 3px 1px rgba(0, 0, 0, 0.15);\n",
              "      filter: drop-shadow(0px 1px 2px rgba(0, 0, 0, 0.3));\n",
              "      fill: #FFFFFF;\n",
              "    }\n",
              "  </style>\n",
              "\n",
              "      <script>\n",
              "        const buttonEl =\n",
              "          document.querySelector('#df-29234079-d4be-469c-ad47-5ef5d7385f80 button.colab-df-convert');\n",
              "        buttonEl.style.display =\n",
              "          google.colab.kernel.accessAllowed ? 'block' : 'none';\n",
              "\n",
              "        async function convertToInteractive(key) {\n",
              "          const element = document.querySelector('#df-29234079-d4be-469c-ad47-5ef5d7385f80');\n",
              "          const dataTable =\n",
              "            await google.colab.kernel.invokeFunction('convertToInteractive',\n",
              "                                                     [key], {});\n",
              "          if (!dataTable) return;\n",
              "\n",
              "          const docLinkHtml = 'Like what you see? Visit the ' +\n",
              "            '<a target=\"_blank\" href=https://colab.research.google.com/notebooks/data_table.ipynb>data table notebook</a>'\n",
              "            + ' to learn more about interactive tables.';\n",
              "          element.innerHTML = '';\n",
              "          dataTable['output_type'] = 'display_data';\n",
              "          await google.colab.output.renderOutput(dataTable, element);\n",
              "          const docLink = document.createElement('div');\n",
              "          docLink.innerHTML = docLinkHtml;\n",
              "          element.appendChild(docLink);\n",
              "        }\n",
              "      </script>\n",
              "    </div>\n",
              "  </div>\n",
              "  "
            ]
          },
          "metadata": {},
          "execution_count": 40
        }
      ]
    },
    {
      "cell_type": "code",
      "source": [
        "data.keys()"
      ],
      "metadata": {
        "colab": {
          "base_uri": "https://localhost:8080/"
        },
        "id": "q5WoB56OKmgB",
        "outputId": "73cfc7d9-109e-4835-c179-20fb5bde4944"
      },
      "execution_count": 41,
      "outputs": [
        {
          "output_type": "execute_result",
          "data": {
            "text/plain": [
              "Index(['TMDb_Id', 'IMDb_Id', 'Title', 'Original_Title', 'Overview', 'Genres',\n",
              "       'Cast', 'Crew', 'Collection', 'Release_Date', 'Release_Status',\n",
              "       'Original_Language', 'Runtime', 'Tagline', 'Popularity',\n",
              "       'Rating_average', 'Rating_Count', 'Production_Companies',\n",
              "       'Country_of_Origin', 'Budget', 'Revenue', 'year_of_release',\n",
              "       'movie_Id'],\n",
              "      dtype='object')"
            ]
          },
          "metadata": {},
          "execution_count": 41
        }
      ]
    },
    {
      "cell_type": "code",
      "source": [
        "data.isnull().sum()"
      ],
      "metadata": {
        "colab": {
          "base_uri": "https://localhost:8080/"
        },
        "id": "kvo4D5LlObZg",
        "outputId": "845d66ca-a557-494b-822e-083cdd473283"
      },
      "execution_count": 42,
      "outputs": [
        {
          "output_type": "execute_result",
          "data": {
            "text/plain": [
              "TMDb_Id                    0\n",
              "IMDb_Id                   72\n",
              "Title                      0\n",
              "Original_Title             0\n",
              "Overview                  41\n",
              "Genres                    71\n",
              "Cast                      58\n",
              "Crew                      13\n",
              "Collection                 1\n",
              "Release_Date               3\n",
              "Release_Status             1\n",
              "Original_Language          0\n",
              "Runtime                   16\n",
              "Tagline                 3672\n",
              "Popularity                 0\n",
              "Rating_average             0\n",
              "Rating_Count               0\n",
              "Production_Companies     382\n",
              "Country_of_Origin        133\n",
              "Budget                     1\n",
              "Revenue                    1\n",
              "year_of_release            3\n",
              "movie_Id                   0\n",
              "dtype: int64"
            ]
          },
          "metadata": {},
          "execution_count": 42
        }
      ]
    },
    {
      "cell_type": "code",
      "execution_count": 43,
      "metadata": {
        "colab": {
          "base_uri": "https://localhost:8080/",
          "height": 35
        },
        "id": "bvt6_-Dwg3DB",
        "outputId": "37cc9e6a-b991-42f7-dc8d-797555d74a2d"
      },
      "outputs": [
        {
          "output_type": "execute_result",
          "data": {
            "text/plain": [
              "'The Untold True Story'"
            ],
            "application/vnd.google.colaboratory.intrinsic+json": {
              "type": "string"
            }
          },
          "metadata": {},
          "execution_count": 43
        }
      ],
      "source": [
        "#As we have more number of missing data in 'Tagline' column. So, we have merged the 'Tagline' and 'Overview'\n",
        "data.iloc[100].Tagline"
      ]
    },
    {
      "cell_type": "code",
      "execution_count": 44,
      "metadata": {
        "colab": {
          "base_uri": "https://localhost:8080/",
          "height": 70
        },
        "id": "igWWVHmZhDAP",
        "outputId": "8089ca3e-3c58-4014-957b-0fe006863827"
      },
      "outputs": [
        {
          "output_type": "execute_result",
          "data": {
            "text/plain": [
              "'The untold true story set in the winter of 1925 that takes you across the treacherous terrain of the Alaskan tundra for an exhilarating and uplifting adventure that will test the strength, courage and determination of one man, Leonhard Seppala, and his lead sled dog, Togo.'"
            ],
            "application/vnd.google.colaboratory.intrinsic+json": {
              "type": "string"
            }
          },
          "metadata": {},
          "execution_count": 44
        }
      ],
      "source": [
        "data.iloc[100].Overview"
      ]
    },
    {
      "cell_type": "code",
      "execution_count": 45,
      "metadata": {
        "id": "qT6B0gcihGSs"
      },
      "outputs": [],
      "source": [
        "data[\"Tagline\"].replace(np.nan,\".\",inplace=True) "
      ]
    },
    {
      "cell_type": "code",
      "execution_count": 46,
      "metadata": {
        "id": "R6kYj4PvhHz1"
      },
      "outputs": [],
      "source": [
        "data[\"Overview\"].replace(np.nan,\".\",inplace=True) "
      ]
    },
    {
      "cell_type": "code",
      "execution_count": 47,
      "metadata": {
        "colab": {
          "base_uri": "https://localhost:8080/"
        },
        "id": "9NugK0PfhOVo",
        "outputId": "54b21a65-c3fc-4728-8bf0-3d2f05aee1f9"
      },
      "outputs": [
        {
          "output_type": "execute_result",
          "data": {
            "text/plain": [
              ".                                                                 3672\n",
              "Based on a true story.                                              11\n",
              "Be careful what you wish for.                                        7\n",
              "The legend comes to life.                                            5\n",
              "Awaken to a World of Wonders!                                        4\n",
              "                                                                  ... \n",
              "Close your eyes and the adventure begins.                            1\n",
              "In the Ghettos of Harlem you don't buy respect... you earn it.       1\n",
              "First you find the sharks. Then they find you.                       1\n",
              "In this daring heist, the only color that counts is green            1\n",
              "The last site you'll ever see.                                       1\n",
              "Name: Tagline, Length: 7815, dtype: int64"
            ]
          },
          "metadata": {},
          "execution_count": 47
        }
      ],
      "source": [
        "data[\"Tagline\"].value_counts()"
      ]
    },
    {
      "cell_type": "code",
      "execution_count": 48,
      "metadata": {
        "id": "ohcVSAXphP11"
      },
      "outputs": [],
      "source": [
        "data[\"tag_final\"]=data[\"Overview\"]+data[\"Tagline\"]"
      ]
    },
    {
      "cell_type": "code",
      "execution_count": 49,
      "metadata": {
        "colab": {
          "base_uri": "https://localhost:8080/",
          "height": 266
        },
        "id": "nzTUNlnThU5e",
        "outputId": "fd86d477-3e23-4d5f-93ea-d7a8c7df74d2"
      },
      "outputs": [
        {
          "output_type": "execute_result",
          "data": {
            "text/plain": [
              "   TMDb_Id    IMDb_Id     Title Original_Title                   Genres  \\\n",
              "0   419704  tt2935510  Ad Astra       Ad Astra  Drama | Science Fiction   \n",
              "\n",
              "                                                Cast  \\\n",
              "0  Brad Pitt | Tommy Lee Jones | Ruth Negga | Joh...   \n",
              "\n",
              "                                                Crew Collection Release_Date  \\\n",
              "0  Brad Pitt | Arnon Milchan | Gary Rydstrom | Ga...     Single   2019-09-17   \n",
              "\n",
              "  Release_Status Original_Language  Runtime  Popularity  Rating_average  \\\n",
              "0       Released           english    123.0     463.487             5.9   \n",
              "\n",
              "   Rating_Count                               Production_Companies  \\\n",
              "0          2863  New Regency Productions | Keep Your Head | Mad...   \n",
              "\n",
              "                           Country_of_Origin      Budget      Revenue  \\\n",
              "0  Brazil | China | United States of America  87500000.0  127175922.0   \n",
              "\n",
              "   year_of_release  movie_Id  \\\n",
              "0           2019.0    419704   \n",
              "\n",
              "                                           tag_final  \n",
              "0  The near future, a time when both hope and har...  "
            ],
            "text/html": [
              "\n",
              "  <div id=\"df-b3b6123b-4403-4dba-afd9-2e977ddccb8c\">\n",
              "    <div class=\"colab-df-container\">\n",
              "      <div>\n",
              "<style scoped>\n",
              "    .dataframe tbody tr th:only-of-type {\n",
              "        vertical-align: middle;\n",
              "    }\n",
              "\n",
              "    .dataframe tbody tr th {\n",
              "        vertical-align: top;\n",
              "    }\n",
              "\n",
              "    .dataframe thead th {\n",
              "        text-align: right;\n",
              "    }\n",
              "</style>\n",
              "<table border=\"1\" class=\"dataframe\">\n",
              "  <thead>\n",
              "    <tr style=\"text-align: right;\">\n",
              "      <th></th>\n",
              "      <th>TMDb_Id</th>\n",
              "      <th>IMDb_Id</th>\n",
              "      <th>Title</th>\n",
              "      <th>Original_Title</th>\n",
              "      <th>Genres</th>\n",
              "      <th>Cast</th>\n",
              "      <th>Crew</th>\n",
              "      <th>Collection</th>\n",
              "      <th>Release_Date</th>\n",
              "      <th>Release_Status</th>\n",
              "      <th>Original_Language</th>\n",
              "      <th>Runtime</th>\n",
              "      <th>Popularity</th>\n",
              "      <th>Rating_average</th>\n",
              "      <th>Rating_Count</th>\n",
              "      <th>Production_Companies</th>\n",
              "      <th>Country_of_Origin</th>\n",
              "      <th>Budget</th>\n",
              "      <th>Revenue</th>\n",
              "      <th>year_of_release</th>\n",
              "      <th>movie_Id</th>\n",
              "      <th>tag_final</th>\n",
              "    </tr>\n",
              "  </thead>\n",
              "  <tbody>\n",
              "    <tr>\n",
              "      <th>0</th>\n",
              "      <td>419704</td>\n",
              "      <td>tt2935510</td>\n",
              "      <td>Ad Astra</td>\n",
              "      <td>Ad Astra</td>\n",
              "      <td>Drama | Science Fiction</td>\n",
              "      <td>Brad Pitt | Tommy Lee Jones | Ruth Negga | Joh...</td>\n",
              "      <td>Brad Pitt | Arnon Milchan | Gary Rydstrom | Ga...</td>\n",
              "      <td>Single</td>\n",
              "      <td>2019-09-17</td>\n",
              "      <td>Released</td>\n",
              "      <td>english</td>\n",
              "      <td>123.0</td>\n",
              "      <td>463.487</td>\n",
              "      <td>5.9</td>\n",
              "      <td>2863</td>\n",
              "      <td>New Regency Productions | Keep Your Head | Mad...</td>\n",
              "      <td>Brazil | China | United States of America</td>\n",
              "      <td>87500000.0</td>\n",
              "      <td>127175922.0</td>\n",
              "      <td>2019.0</td>\n",
              "      <td>419704</td>\n",
              "      <td>The near future, a time when both hope and har...</td>\n",
              "    </tr>\n",
              "  </tbody>\n",
              "</table>\n",
              "</div>\n",
              "      <button class=\"colab-df-convert\" onclick=\"convertToInteractive('df-b3b6123b-4403-4dba-afd9-2e977ddccb8c')\"\n",
              "              title=\"Convert this dataframe to an interactive table.\"\n",
              "              style=\"display:none;\">\n",
              "        \n",
              "  <svg xmlns=\"http://www.w3.org/2000/svg\" height=\"24px\"viewBox=\"0 0 24 24\"\n",
              "       width=\"24px\">\n",
              "    <path d=\"M0 0h24v24H0V0z\" fill=\"none\"/>\n",
              "    <path d=\"M18.56 5.44l.94 2.06.94-2.06 2.06-.94-2.06-.94-.94-2.06-.94 2.06-2.06.94zm-11 1L8.5 8.5l.94-2.06 2.06-.94-2.06-.94L8.5 2.5l-.94 2.06-2.06.94zm10 10l.94 2.06.94-2.06 2.06-.94-2.06-.94-.94-2.06-.94 2.06-2.06.94z\"/><path d=\"M17.41 7.96l-1.37-1.37c-.4-.4-.92-.59-1.43-.59-.52 0-1.04.2-1.43.59L10.3 9.45l-7.72 7.72c-.78.78-.78 2.05 0 2.83L4 21.41c.39.39.9.59 1.41.59.51 0 1.02-.2 1.41-.59l7.78-7.78 2.81-2.81c.8-.78.8-2.07 0-2.86zM5.41 20L4 18.59l7.72-7.72 1.47 1.35L5.41 20z\"/>\n",
              "  </svg>\n",
              "      </button>\n",
              "      \n",
              "  <style>\n",
              "    .colab-df-container {\n",
              "      display:flex;\n",
              "      flex-wrap:wrap;\n",
              "      gap: 12px;\n",
              "    }\n",
              "\n",
              "    .colab-df-convert {\n",
              "      background-color: #E8F0FE;\n",
              "      border: none;\n",
              "      border-radius: 50%;\n",
              "      cursor: pointer;\n",
              "      display: none;\n",
              "      fill: #1967D2;\n",
              "      height: 32px;\n",
              "      padding: 0 0 0 0;\n",
              "      width: 32px;\n",
              "    }\n",
              "\n",
              "    .colab-df-convert:hover {\n",
              "      background-color: #E2EBFA;\n",
              "      box-shadow: 0px 1px 2px rgba(60, 64, 67, 0.3), 0px 1px 3px 1px rgba(60, 64, 67, 0.15);\n",
              "      fill: #174EA6;\n",
              "    }\n",
              "\n",
              "    [theme=dark] .colab-df-convert {\n",
              "      background-color: #3B4455;\n",
              "      fill: #D2E3FC;\n",
              "    }\n",
              "\n",
              "    [theme=dark] .colab-df-convert:hover {\n",
              "      background-color: #434B5C;\n",
              "      box-shadow: 0px 1px 3px 1px rgba(0, 0, 0, 0.15);\n",
              "      filter: drop-shadow(0px 1px 2px rgba(0, 0, 0, 0.3));\n",
              "      fill: #FFFFFF;\n",
              "    }\n",
              "  </style>\n",
              "\n",
              "      <script>\n",
              "        const buttonEl =\n",
              "          document.querySelector('#df-b3b6123b-4403-4dba-afd9-2e977ddccb8c button.colab-df-convert');\n",
              "        buttonEl.style.display =\n",
              "          google.colab.kernel.accessAllowed ? 'block' : 'none';\n",
              "\n",
              "        async function convertToInteractive(key) {\n",
              "          const element = document.querySelector('#df-b3b6123b-4403-4dba-afd9-2e977ddccb8c');\n",
              "          const dataTable =\n",
              "            await google.colab.kernel.invokeFunction('convertToInteractive',\n",
              "                                                     [key], {});\n",
              "          if (!dataTable) return;\n",
              "\n",
              "          const docLinkHtml = 'Like what you see? Visit the ' +\n",
              "            '<a target=\"_blank\" href=https://colab.research.google.com/notebooks/data_table.ipynb>data table notebook</a>'\n",
              "            + ' to learn more about interactive tables.';\n",
              "          element.innerHTML = '';\n",
              "          dataTable['output_type'] = 'display_data';\n",
              "          await google.colab.output.renderOutput(dataTable, element);\n",
              "          const docLink = document.createElement('div');\n",
              "          docLink.innerHTML = docLinkHtml;\n",
              "          element.appendChild(docLink);\n",
              "        }\n",
              "      </script>\n",
              "    </div>\n",
              "  </div>\n",
              "  "
            ]
          },
          "metadata": {},
          "execution_count": 49
        }
      ],
      "source": [
        "data=data.drop([\"Overview\",\"Tagline\"],axis=1)\n",
        "data.head(1)"
      ]
    },
    {
      "cell_type": "code",
      "execution_count": 50,
      "metadata": {
        "colab": {
          "base_uri": "https://localhost:8080/"
        },
        "id": "a6c8399bx3Qv",
        "outputId": "865811ed-75ad-4640-c0f3-bc3ddc23f329"
      },
      "outputs": [
        {
          "output_type": "execute_result",
          "data": {
            "text/plain": [
              "TMDb_Id                   0\n",
              "IMDb_Id                  72\n",
              "Title                     0\n",
              "Original_Title            0\n",
              "Genres                   71\n",
              "Cast                     58\n",
              "Crew                     13\n",
              "Collection                1\n",
              "Release_Date              3\n",
              "Release_Status            1\n",
              "Original_Language         0\n",
              "Runtime                  16\n",
              "Popularity                0\n",
              "Rating_average            0\n",
              "Rating_Count              0\n",
              "Production_Companies    382\n",
              "Country_of_Origin       133\n",
              "Budget                    1\n",
              "Revenue                   1\n",
              "year_of_release           3\n",
              "movie_Id                  0\n",
              "tag_final                 0\n",
              "dtype: int64"
            ]
          },
          "metadata": {},
          "execution_count": 50
        }
      ],
      "source": [
        "data.isnull().sum()"
      ]
    },
    {
      "cell_type": "code",
      "execution_count": 51,
      "metadata": {
        "colab": {
          "base_uri": "https://localhost:8080/",
          "height": 1000
        },
        "id": "FQL_Et1YhzGT",
        "outputId": "fa274460-57af-4a6e-da68-faf3ae69f604"
      },
      "outputs": [
        {
          "output_type": "execute_result",
          "data": {
            "text/plain": [
              "      TMDb_Id    IMDb_Id                           Title  \\\n",
              "0      419704  tt2935510                        Ad Astra   \n",
              "1      338762  tt1634106                       Bloodshot   \n",
              "2       38700  tt1502397               Bad Boys for Life   \n",
              "3      102899  tt0478970                         Ant-Man   \n",
              "4       76285  tt1854564  Percy Jackson: Sea of Monsters   \n",
              "...       ...        ...                             ...   \n",
              "7096    13805  tt1213644                  Disaster Movie   \n",
              "7097    74849  tt0193524   The Star Wars Holiday Special   \n",
              "7098     5491  tt0185183               Battlefield Earth   \n",
              "7099    11059  tt0317676               House of the Dead   \n",
              "7100    14164  tt1098327            Dragonball Evolution   \n",
              "\n",
              "                      Original_Title  \\\n",
              "0                           Ad Astra   \n",
              "1                          Bloodshot   \n",
              "2                  Bad Boys for Life   \n",
              "3                            Ant-Man   \n",
              "4     Percy Jackson: Sea of Monsters   \n",
              "...                              ...   \n",
              "7096                  Disaster Movie   \n",
              "7097   The Star Wars Holiday Special   \n",
              "7098               Battlefield Earth   \n",
              "7099               House of the Dead   \n",
              "7100            Dragonball Evolution   \n",
              "\n",
              "                                                 Genres  \\\n",
              "0                               Drama | Science Fiction   \n",
              "1                              Action | Science Fiction   \n",
              "2                             Action | Crime | Thriller   \n",
              "3                  Action | Adventure | Science Fiction   \n",
              "4                          Adventure | Fantasy | Family   \n",
              "...                                                 ...   \n",
              "7096                                    Action | Comedy   \n",
              "7097  Adventure | Comedy | Science Fiction | Family ...   \n",
              "7098                     Action | Science Fiction | War   \n",
              "7099                         Action | Horror | Thriller   \n",
              "7100  Action | Adventure | Fantasy | Science Fiction...   \n",
              "\n",
              "                                                   Cast  \\\n",
              "0     Brad Pitt | Tommy Lee Jones | Ruth Negga | Joh...   \n",
              "1     Vin Diesel | Eiza González | Sam Heughan | Tob...   \n",
              "2     Will Smith | Martin Lawrence | Paola Nuñez | V...   \n",
              "3     Paul Rudd | Michael Douglas | Evangeline Lilly...   \n",
              "4     Logan Lerman | Alexandra Daddario | Douglas Sm...   \n",
              "...                                                 ...   \n",
              "7096  Matt Lanter | Vanessa Lachey | Crista Flanagan...   \n",
              "7097  Harrison Ford | Mark Hamill | Anthony Daniels ...   \n",
              "7098  John Travolta | Barry Pepper | Forest Whitaker...   \n",
              "7099  Jonathan Cherry | Tyron Leitso | Clint Howard ...   \n",
              "7100  Justin Chatwin | Chow Yun-Fat | Joon Park | Ja...   \n",
              "\n",
              "                                                   Crew  \\\n",
              "0     Brad Pitt | Arnon Milchan | Gary Rydstrom | Ga...   \n",
              "1     John Papsidera | Matthew Vaughn | Jim May | Ne...   \n",
              "2     Jerry Bruckheimer | Mike Stenson | Chad Oman |...   \n",
              "3     David Lazan | Jackie Burch | Sala Baker | Sala...   \n",
              "4     Mark Goldblatt | Shelly Johnson | Karen Rosenf...   \n",
              "...                                                 ...   \n",
              "7096  Peck Prior | Jason Friedberg | Jason Friedberg...   \n",
              "7097  George Lucas | Ben Burtt | Garrett Lewis | Pat...   \n",
              "7098  Lynn Stalmaster | Giles Nuttgens | Roger Chris...   \n",
              "7099  Dan Sales | Uwe Boll | Uwe Boll | Mathias Neum...   \n",
              "7100  John Papsidera | Bruton Jones | Brian Tyler | ...   \n",
              "\n",
              "                        Collection Release_Date Release_Status  \\\n",
              "0                           Single   2019-09-17       Released   \n",
              "1                           Single   2020-03-05       Released   \n",
              "2              Bad Boys Collection   2020-01-15       Released   \n",
              "3               Ant-Man Collection   2015-07-14       Released   \n",
              "4         Percy Jackson Collection   2013-08-07       Released   \n",
              "...                            ...          ...            ...   \n",
              "7096                        Single   2008-08-29       Released   \n",
              "7097                        Single   1978-12-01       Released   \n",
              "7098                        Single   2000-05-10       Released   \n",
              "7099  House of the Dead Collection   2003-04-11       Released   \n",
              "7100                        Single   2009-03-12       Released   \n",
              "\n",
              "     Original_Language  Runtime  Popularity  Rating_average  Rating_Count  \\\n",
              "0              english    123.0     463.487             5.9          2863   \n",
              "1              english    110.0     235.701             7.2          1384   \n",
              "2              english    124.0     255.068             7.1          2596   \n",
              "3              english    117.0     134.294             7.1         13625   \n",
              "4              english    106.0     124.417             5.9          3547   \n",
              "...                ...      ...         ...             ...           ...   \n",
              "7096           english     87.0      11.902             3.1           597   \n",
              "7097           english     97.0       9.147             3.0           238   \n",
              "7098           english    118.0       9.749             2.9           462   \n",
              "7099           english     90.0       8.388             2.9           207   \n",
              "7100           english     85.0      11.502             2.6          1153   \n",
              "\n",
              "                                   Production_Companies  \\\n",
              "0     New Regency Productions | Keep Your Head | Mad...   \n",
              "1     Sony Pictures | Cross Creek Pictures | Mimran ...   \n",
              "2     Columbia Pictures | Platinum Dunes | 2.0 Enter...   \n",
              "3                                        Marvel Studios   \n",
              "4     Fox 2000 Pictures | Sunswept Entertainment | 1...   \n",
              "...                                                 ...   \n",
              "7096  3 in the Box | Lionsgate | Grosvenor Park Medi...   \n",
              "7097  20th Century Fox Television | Smith-Hemion Pro...   \n",
              "7098  Morgan Creek Productions | Franchise Pictures ...   \n",
              "7099  Herold Productions | Boll Kino Beteiligungs Gm...   \n",
              "7100  World Film Magic | Dune Entertainment | Star O...   \n",
              "\n",
              "                                Country_of_Origin       Budget      Revenue  \\\n",
              "0       Brazil | China | United States of America   87500000.0  127175922.0   \n",
              "1                China | United States of America   42000000.0   24573617.0   \n",
              "2               France | United States of America          0.0  191150000.0   \n",
              "3                        United States of America  130000000.0  519311965.0   \n",
              "4                        United States of America   90000000.0  199850315.0   \n",
              "...                                           ...          ...          ...   \n",
              "7096                     United States of America   25000000.0   14109284.0   \n",
              "7097                     United States of America          0.0          0.0   \n",
              "7098                     United States of America   44000000.0   21400000.0   \n",
              "7099  Canada | Germany | United States of America    7000000.0   13818181.0   \n",
              "7100                     United States of America  100000000.0   57497699.0   \n",
              "\n",
              "      year_of_release  movie_Id  \\\n",
              "0              2019.0    419704   \n",
              "1              2020.0    338762   \n",
              "2              2020.0     38700   \n",
              "3              2015.0    102899   \n",
              "4              2013.0     76285   \n",
              "...               ...       ...   \n",
              "7096           2008.0     13805   \n",
              "7097           1978.0     74849   \n",
              "7098           2000.0      5491   \n",
              "7099           2003.0     11059   \n",
              "7100           2009.0     14164   \n",
              "\n",
              "                                              tag_final  \n",
              "0     The near future, a time when both hope and har...  \n",
              "1     After he and his wife are murdered, marine Ray...  \n",
              "2     Marcus and Mike are forced to confront new thr...  \n",
              "3     Armed with the astonishing ability to shrink i...  \n",
              "4     In their quest to confront the ultimate evil, ...  \n",
              "...                                                 ...  \n",
              "7096  The filmmaking team behind the hits \"Scary Mov...  \n",
              "7097  Luke Skywalker and Han Solo battle evil Imperi...  \n",
              "7098  In the year 3000, man is no match for the Psyc...  \n",
              "7099  Set on an island off the coast, a techno rave ...  \n",
              "7100  The young warrior Son Goku sets out on a quest...  \n",
              "\n",
              "[16606 rows x 22 columns]"
            ],
            "text/html": [
              "\n",
              "  <div id=\"df-ec93655c-35e3-4769-a193-050bf6ceb0a8\">\n",
              "    <div class=\"colab-df-container\">\n",
              "      <div>\n",
              "<style scoped>\n",
              "    .dataframe tbody tr th:only-of-type {\n",
              "        vertical-align: middle;\n",
              "    }\n",
              "\n",
              "    .dataframe tbody tr th {\n",
              "        vertical-align: top;\n",
              "    }\n",
              "\n",
              "    .dataframe thead th {\n",
              "        text-align: right;\n",
              "    }\n",
              "</style>\n",
              "<table border=\"1\" class=\"dataframe\">\n",
              "  <thead>\n",
              "    <tr style=\"text-align: right;\">\n",
              "      <th></th>\n",
              "      <th>TMDb_Id</th>\n",
              "      <th>IMDb_Id</th>\n",
              "      <th>Title</th>\n",
              "      <th>Original_Title</th>\n",
              "      <th>Genres</th>\n",
              "      <th>Cast</th>\n",
              "      <th>Crew</th>\n",
              "      <th>Collection</th>\n",
              "      <th>Release_Date</th>\n",
              "      <th>Release_Status</th>\n",
              "      <th>Original_Language</th>\n",
              "      <th>Runtime</th>\n",
              "      <th>Popularity</th>\n",
              "      <th>Rating_average</th>\n",
              "      <th>Rating_Count</th>\n",
              "      <th>Production_Companies</th>\n",
              "      <th>Country_of_Origin</th>\n",
              "      <th>Budget</th>\n",
              "      <th>Revenue</th>\n",
              "      <th>year_of_release</th>\n",
              "      <th>movie_Id</th>\n",
              "      <th>tag_final</th>\n",
              "    </tr>\n",
              "  </thead>\n",
              "  <tbody>\n",
              "    <tr>\n",
              "      <th>0</th>\n",
              "      <td>419704</td>\n",
              "      <td>tt2935510</td>\n",
              "      <td>Ad Astra</td>\n",
              "      <td>Ad Astra</td>\n",
              "      <td>Drama | Science Fiction</td>\n",
              "      <td>Brad Pitt | Tommy Lee Jones | Ruth Negga | Joh...</td>\n",
              "      <td>Brad Pitt | Arnon Milchan | Gary Rydstrom | Ga...</td>\n",
              "      <td>Single</td>\n",
              "      <td>2019-09-17</td>\n",
              "      <td>Released</td>\n",
              "      <td>english</td>\n",
              "      <td>123.0</td>\n",
              "      <td>463.487</td>\n",
              "      <td>5.9</td>\n",
              "      <td>2863</td>\n",
              "      <td>New Regency Productions | Keep Your Head | Mad...</td>\n",
              "      <td>Brazil | China | United States of America</td>\n",
              "      <td>87500000.0</td>\n",
              "      <td>127175922.0</td>\n",
              "      <td>2019.0</td>\n",
              "      <td>419704</td>\n",
              "      <td>The near future, a time when both hope and har...</td>\n",
              "    </tr>\n",
              "    <tr>\n",
              "      <th>1</th>\n",
              "      <td>338762</td>\n",
              "      <td>tt1634106</td>\n",
              "      <td>Bloodshot</td>\n",
              "      <td>Bloodshot</td>\n",
              "      <td>Action | Science Fiction</td>\n",
              "      <td>Vin Diesel | Eiza González | Sam Heughan | Tob...</td>\n",
              "      <td>John Papsidera | Matthew Vaughn | Jim May | Ne...</td>\n",
              "      <td>Single</td>\n",
              "      <td>2020-03-05</td>\n",
              "      <td>Released</td>\n",
              "      <td>english</td>\n",
              "      <td>110.0</td>\n",
              "      <td>235.701</td>\n",
              "      <td>7.2</td>\n",
              "      <td>1384</td>\n",
              "      <td>Sony Pictures | Cross Creek Pictures | Mimran ...</td>\n",
              "      <td>China | United States of America</td>\n",
              "      <td>42000000.0</td>\n",
              "      <td>24573617.0</td>\n",
              "      <td>2020.0</td>\n",
              "      <td>338762</td>\n",
              "      <td>After he and his wife are murdered, marine Ray...</td>\n",
              "    </tr>\n",
              "    <tr>\n",
              "      <th>2</th>\n",
              "      <td>38700</td>\n",
              "      <td>tt1502397</td>\n",
              "      <td>Bad Boys for Life</td>\n",
              "      <td>Bad Boys for Life</td>\n",
              "      <td>Action | Crime | Thriller</td>\n",
              "      <td>Will Smith | Martin Lawrence | Paola Nuñez | V...</td>\n",
              "      <td>Jerry Bruckheimer | Mike Stenson | Chad Oman |...</td>\n",
              "      <td>Bad Boys Collection</td>\n",
              "      <td>2020-01-15</td>\n",
              "      <td>Released</td>\n",
              "      <td>english</td>\n",
              "      <td>124.0</td>\n",
              "      <td>255.068</td>\n",
              "      <td>7.1</td>\n",
              "      <td>2596</td>\n",
              "      <td>Columbia Pictures | Platinum Dunes | 2.0 Enter...</td>\n",
              "      <td>France | United States of America</td>\n",
              "      <td>0.0</td>\n",
              "      <td>191150000.0</td>\n",
              "      <td>2020.0</td>\n",
              "      <td>38700</td>\n",
              "      <td>Marcus and Mike are forced to confront new thr...</td>\n",
              "    </tr>\n",
              "    <tr>\n",
              "      <th>3</th>\n",
              "      <td>102899</td>\n",
              "      <td>tt0478970</td>\n",
              "      <td>Ant-Man</td>\n",
              "      <td>Ant-Man</td>\n",
              "      <td>Action | Adventure | Science Fiction</td>\n",
              "      <td>Paul Rudd | Michael Douglas | Evangeline Lilly...</td>\n",
              "      <td>David Lazan | Jackie Burch | Sala Baker | Sala...</td>\n",
              "      <td>Ant-Man Collection</td>\n",
              "      <td>2015-07-14</td>\n",
              "      <td>Released</td>\n",
              "      <td>english</td>\n",
              "      <td>117.0</td>\n",
              "      <td>134.294</td>\n",
              "      <td>7.1</td>\n",
              "      <td>13625</td>\n",
              "      <td>Marvel Studios</td>\n",
              "      <td>United States of America</td>\n",
              "      <td>130000000.0</td>\n",
              "      <td>519311965.0</td>\n",
              "      <td>2015.0</td>\n",
              "      <td>102899</td>\n",
              "      <td>Armed with the astonishing ability to shrink i...</td>\n",
              "    </tr>\n",
              "    <tr>\n",
              "      <th>4</th>\n",
              "      <td>76285</td>\n",
              "      <td>tt1854564</td>\n",
              "      <td>Percy Jackson: Sea of Monsters</td>\n",
              "      <td>Percy Jackson: Sea of Monsters</td>\n",
              "      <td>Adventure | Fantasy | Family</td>\n",
              "      <td>Logan Lerman | Alexandra Daddario | Douglas Sm...</td>\n",
              "      <td>Mark Goldblatt | Shelly Johnson | Karen Rosenf...</td>\n",
              "      <td>Percy Jackson Collection</td>\n",
              "      <td>2013-08-07</td>\n",
              "      <td>Released</td>\n",
              "      <td>english</td>\n",
              "      <td>106.0</td>\n",
              "      <td>124.417</td>\n",
              "      <td>5.9</td>\n",
              "      <td>3547</td>\n",
              "      <td>Fox 2000 Pictures | Sunswept Entertainment | 1...</td>\n",
              "      <td>United States of America</td>\n",
              "      <td>90000000.0</td>\n",
              "      <td>199850315.0</td>\n",
              "      <td>2013.0</td>\n",
              "      <td>76285</td>\n",
              "      <td>In their quest to confront the ultimate evil, ...</td>\n",
              "    </tr>\n",
              "    <tr>\n",
              "      <th>...</th>\n",
              "      <td>...</td>\n",
              "      <td>...</td>\n",
              "      <td>...</td>\n",
              "      <td>...</td>\n",
              "      <td>...</td>\n",
              "      <td>...</td>\n",
              "      <td>...</td>\n",
              "      <td>...</td>\n",
              "      <td>...</td>\n",
              "      <td>...</td>\n",
              "      <td>...</td>\n",
              "      <td>...</td>\n",
              "      <td>...</td>\n",
              "      <td>...</td>\n",
              "      <td>...</td>\n",
              "      <td>...</td>\n",
              "      <td>...</td>\n",
              "      <td>...</td>\n",
              "      <td>...</td>\n",
              "      <td>...</td>\n",
              "      <td>...</td>\n",
              "      <td>...</td>\n",
              "    </tr>\n",
              "    <tr>\n",
              "      <th>7096</th>\n",
              "      <td>13805</td>\n",
              "      <td>tt1213644</td>\n",
              "      <td>Disaster Movie</td>\n",
              "      <td>Disaster Movie</td>\n",
              "      <td>Action | Comedy</td>\n",
              "      <td>Matt Lanter | Vanessa Lachey | Crista Flanagan...</td>\n",
              "      <td>Peck Prior | Jason Friedberg | Jason Friedberg...</td>\n",
              "      <td>Single</td>\n",
              "      <td>2008-08-29</td>\n",
              "      <td>Released</td>\n",
              "      <td>english</td>\n",
              "      <td>87.0</td>\n",
              "      <td>11.902</td>\n",
              "      <td>3.1</td>\n",
              "      <td>597</td>\n",
              "      <td>3 in the Box | Lionsgate | Grosvenor Park Medi...</td>\n",
              "      <td>United States of America</td>\n",
              "      <td>25000000.0</td>\n",
              "      <td>14109284.0</td>\n",
              "      <td>2008.0</td>\n",
              "      <td>13805</td>\n",
              "      <td>The filmmaking team behind the hits \"Scary Mov...</td>\n",
              "    </tr>\n",
              "    <tr>\n",
              "      <th>7097</th>\n",
              "      <td>74849</td>\n",
              "      <td>tt0193524</td>\n",
              "      <td>The Star Wars Holiday Special</td>\n",
              "      <td>The Star Wars Holiday Special</td>\n",
              "      <td>Adventure | Comedy | Science Fiction | Family ...</td>\n",
              "      <td>Harrison Ford | Mark Hamill | Anthony Daniels ...</td>\n",
              "      <td>George Lucas | Ben Burtt | Garrett Lewis | Pat...</td>\n",
              "      <td>Single</td>\n",
              "      <td>1978-12-01</td>\n",
              "      <td>Released</td>\n",
              "      <td>english</td>\n",
              "      <td>97.0</td>\n",
              "      <td>9.147</td>\n",
              "      <td>3.0</td>\n",
              "      <td>238</td>\n",
              "      <td>20th Century Fox Television | Smith-Hemion Pro...</td>\n",
              "      <td>United States of America</td>\n",
              "      <td>0.0</td>\n",
              "      <td>0.0</td>\n",
              "      <td>1978.0</td>\n",
              "      <td>74849</td>\n",
              "      <td>Luke Skywalker and Han Solo battle evil Imperi...</td>\n",
              "    </tr>\n",
              "    <tr>\n",
              "      <th>7098</th>\n",
              "      <td>5491</td>\n",
              "      <td>tt0185183</td>\n",
              "      <td>Battlefield Earth</td>\n",
              "      <td>Battlefield Earth</td>\n",
              "      <td>Action | Science Fiction | War</td>\n",
              "      <td>John Travolta | Barry Pepper | Forest Whitaker...</td>\n",
              "      <td>Lynn Stalmaster | Giles Nuttgens | Roger Chris...</td>\n",
              "      <td>Single</td>\n",
              "      <td>2000-05-10</td>\n",
              "      <td>Released</td>\n",
              "      <td>english</td>\n",
              "      <td>118.0</td>\n",
              "      <td>9.749</td>\n",
              "      <td>2.9</td>\n",
              "      <td>462</td>\n",
              "      <td>Morgan Creek Productions | Franchise Pictures ...</td>\n",
              "      <td>United States of America</td>\n",
              "      <td>44000000.0</td>\n",
              "      <td>21400000.0</td>\n",
              "      <td>2000.0</td>\n",
              "      <td>5491</td>\n",
              "      <td>In the year 3000, man is no match for the Psyc...</td>\n",
              "    </tr>\n",
              "    <tr>\n",
              "      <th>7099</th>\n",
              "      <td>11059</td>\n",
              "      <td>tt0317676</td>\n",
              "      <td>House of the Dead</td>\n",
              "      <td>House of the Dead</td>\n",
              "      <td>Action | Horror | Thriller</td>\n",
              "      <td>Jonathan Cherry | Tyron Leitso | Clint Howard ...</td>\n",
              "      <td>Dan Sales | Uwe Boll | Uwe Boll | Mathias Neum...</td>\n",
              "      <td>House of the Dead Collection</td>\n",
              "      <td>2003-04-11</td>\n",
              "      <td>Released</td>\n",
              "      <td>english</td>\n",
              "      <td>90.0</td>\n",
              "      <td>8.388</td>\n",
              "      <td>2.9</td>\n",
              "      <td>207</td>\n",
              "      <td>Herold Productions | Boll Kino Beteiligungs Gm...</td>\n",
              "      <td>Canada | Germany | United States of America</td>\n",
              "      <td>7000000.0</td>\n",
              "      <td>13818181.0</td>\n",
              "      <td>2003.0</td>\n",
              "      <td>11059</td>\n",
              "      <td>Set on an island off the coast, a techno rave ...</td>\n",
              "    </tr>\n",
              "    <tr>\n",
              "      <th>7100</th>\n",
              "      <td>14164</td>\n",
              "      <td>tt1098327</td>\n",
              "      <td>Dragonball Evolution</td>\n",
              "      <td>Dragonball Evolution</td>\n",
              "      <td>Action | Adventure | Fantasy | Science Fiction...</td>\n",
              "      <td>Justin Chatwin | Chow Yun-Fat | Joon Park | Ja...</td>\n",
              "      <td>John Papsidera | Bruton Jones | Brian Tyler | ...</td>\n",
              "      <td>Single</td>\n",
              "      <td>2009-03-12</td>\n",
              "      <td>Released</td>\n",
              "      <td>english</td>\n",
              "      <td>85.0</td>\n",
              "      <td>11.502</td>\n",
              "      <td>2.6</td>\n",
              "      <td>1153</td>\n",
              "      <td>World Film Magic | Dune Entertainment | Star O...</td>\n",
              "      <td>United States of America</td>\n",
              "      <td>100000000.0</td>\n",
              "      <td>57497699.0</td>\n",
              "      <td>2009.0</td>\n",
              "      <td>14164</td>\n",
              "      <td>The young warrior Son Goku sets out on a quest...</td>\n",
              "    </tr>\n",
              "  </tbody>\n",
              "</table>\n",
              "<p>16606 rows × 22 columns</p>\n",
              "</div>\n",
              "      <button class=\"colab-df-convert\" onclick=\"convertToInteractive('df-ec93655c-35e3-4769-a193-050bf6ceb0a8')\"\n",
              "              title=\"Convert this dataframe to an interactive table.\"\n",
              "              style=\"display:none;\">\n",
              "        \n",
              "  <svg xmlns=\"http://www.w3.org/2000/svg\" height=\"24px\"viewBox=\"0 0 24 24\"\n",
              "       width=\"24px\">\n",
              "    <path d=\"M0 0h24v24H0V0z\" fill=\"none\"/>\n",
              "    <path d=\"M18.56 5.44l.94 2.06.94-2.06 2.06-.94-2.06-.94-.94-2.06-.94 2.06-2.06.94zm-11 1L8.5 8.5l.94-2.06 2.06-.94-2.06-.94L8.5 2.5l-.94 2.06-2.06.94zm10 10l.94 2.06.94-2.06 2.06-.94-2.06-.94-.94-2.06-.94 2.06-2.06.94z\"/><path d=\"M17.41 7.96l-1.37-1.37c-.4-.4-.92-.59-1.43-.59-.52 0-1.04.2-1.43.59L10.3 9.45l-7.72 7.72c-.78.78-.78 2.05 0 2.83L4 21.41c.39.39.9.59 1.41.59.51 0 1.02-.2 1.41-.59l7.78-7.78 2.81-2.81c.8-.78.8-2.07 0-2.86zM5.41 20L4 18.59l7.72-7.72 1.47 1.35L5.41 20z\"/>\n",
              "  </svg>\n",
              "      </button>\n",
              "      \n",
              "  <style>\n",
              "    .colab-df-container {\n",
              "      display:flex;\n",
              "      flex-wrap:wrap;\n",
              "      gap: 12px;\n",
              "    }\n",
              "\n",
              "    .colab-df-convert {\n",
              "      background-color: #E8F0FE;\n",
              "      border: none;\n",
              "      border-radius: 50%;\n",
              "      cursor: pointer;\n",
              "      display: none;\n",
              "      fill: #1967D2;\n",
              "      height: 32px;\n",
              "      padding: 0 0 0 0;\n",
              "      width: 32px;\n",
              "    }\n",
              "\n",
              "    .colab-df-convert:hover {\n",
              "      background-color: #E2EBFA;\n",
              "      box-shadow: 0px 1px 2px rgba(60, 64, 67, 0.3), 0px 1px 3px 1px rgba(60, 64, 67, 0.15);\n",
              "      fill: #174EA6;\n",
              "    }\n",
              "\n",
              "    [theme=dark] .colab-df-convert {\n",
              "      background-color: #3B4455;\n",
              "      fill: #D2E3FC;\n",
              "    }\n",
              "\n",
              "    [theme=dark] .colab-df-convert:hover {\n",
              "      background-color: #434B5C;\n",
              "      box-shadow: 0px 1px 3px 1px rgba(0, 0, 0, 0.15);\n",
              "      filter: drop-shadow(0px 1px 2px rgba(0, 0, 0, 0.3));\n",
              "      fill: #FFFFFF;\n",
              "    }\n",
              "  </style>\n",
              "\n",
              "      <script>\n",
              "        const buttonEl =\n",
              "          document.querySelector('#df-ec93655c-35e3-4769-a193-050bf6ceb0a8 button.colab-df-convert');\n",
              "        buttonEl.style.display =\n",
              "          google.colab.kernel.accessAllowed ? 'block' : 'none';\n",
              "\n",
              "        async function convertToInteractive(key) {\n",
              "          const element = document.querySelector('#df-ec93655c-35e3-4769-a193-050bf6ceb0a8');\n",
              "          const dataTable =\n",
              "            await google.colab.kernel.invokeFunction('convertToInteractive',\n",
              "                                                     [key], {});\n",
              "          if (!dataTable) return;\n",
              "\n",
              "          const docLinkHtml = 'Like what you see? Visit the ' +\n",
              "            '<a target=\"_blank\" href=https://colab.research.google.com/notebooks/data_table.ipynb>data table notebook</a>'\n",
              "            + ' to learn more about interactive tables.';\n",
              "          element.innerHTML = '';\n",
              "          dataTable['output_type'] = 'display_data';\n",
              "          await google.colab.output.renderOutput(dataTable, element);\n",
              "          const docLink = document.createElement('div');\n",
              "          docLink.innerHTML = docLinkHtml;\n",
              "          element.appendChild(docLink);\n",
              "        }\n",
              "      </script>\n",
              "    </div>\n",
              "  </div>\n",
              "  "
            ]
          },
          "metadata": {},
          "execution_count": 51
        }
      ],
      "source": [
        "data.dropna()"
      ]
    },
    {
      "cell_type": "code",
      "execution_count": 52,
      "metadata": {
        "colab": {
          "base_uri": "https://localhost:8080/"
        },
        "id": "q0zGB_fCh5jR",
        "outputId": "fef3038d-fa32-4630-d0c8-ef88cc39acaa"
      },
      "outputs": [
        {
          "output_type": "execute_result",
          "data": {
            "text/plain": [
              "6215"
            ]
          },
          "metadata": {},
          "execution_count": 52
        }
      ],
      "source": [
        "data.duplicated().sum()"
      ]
    },
    {
      "cell_type": "code",
      "execution_count": 53,
      "metadata": {
        "id": "9pEsiJtbiDox"
      },
      "outputs": [],
      "source": [
        "data=data.drop_duplicates(keep='first')"
      ]
    },
    {
      "cell_type": "code",
      "source": [
        "data.describe(include='all')"
      ],
      "metadata": {
        "colab": {
          "base_uri": "https://localhost:8080/",
          "height": 608
        },
        "id": "sjjqDcfGPsQc",
        "outputId": "576b2965-d2c5-4d16-d75d-03df4e350faf"
      },
      "execution_count": 54,
      "outputs": [
        {
          "output_type": "execute_result",
          "data": {
            "text/plain": [
              "              TMDb_Id    IMDb_Id    Title Original_Title  Genres  \\\n",
              "count    10886.000000      10815    10886          10886   10817   \n",
              "unique            NaN      10578    10307          10375    1534   \n",
              "top               NaN  tt0290673  Dracula        Dracula  Comedy   \n",
              "freq              NaN          2        5              5     754   \n",
              "first             NaN        NaN      NaN            NaN     NaN   \n",
              "last              NaN        NaN      NaN            NaN     NaN   \n",
              "mean    150947.267591        NaN      NaN            NaN     NaN   \n",
              "std     194220.588737        NaN      NaN            NaN     NaN   \n",
              "min          2.000000        NaN      NaN            NaN     NaN   \n",
              "25%      10193.500000        NaN      NaN            NaN     NaN   \n",
              "50%      29830.000000        NaN      NaN            NaN     NaN   \n",
              "75%     298606.500000        NaN      NaN            NaN     NaN   \n",
              "max     688131.000000        NaN      NaN            NaN     NaN   \n",
              "\n",
              "                  Cast                                Crew Collection  \\\n",
              "count            10833                               10873      10885   \n",
              "unique           10589                               10613       1049   \n",
              "top     Dave Chappelle  Yasuichiro Yamamoto | Gosho Aoyama     Single   \n",
              "freq                 3                                   3       8357   \n",
              "first              NaN                                 NaN        NaN   \n",
              "last               NaN                                 NaN        NaN   \n",
              "mean               NaN                                 NaN        NaN   \n",
              "std                NaN                                 NaN        NaN   \n",
              "min                NaN                                 NaN        NaN   \n",
              "25%                NaN                                 NaN        NaN   \n",
              "50%                NaN                                 NaN        NaN   \n",
              "75%                NaN                                 NaN        NaN   \n",
              "max                NaN                                 NaN        NaN   \n",
              "\n",
              "               Release_Date Release_Status Original_Language       Runtime  \\\n",
              "count                 10883          10885             10886  10871.000000   \n",
              "unique                 6183              5                52           NaN   \n",
              "top     2020-04-09 00:00:00       Released           english           NaN   \n",
              "freq                     35          10768              8768           NaN   \n",
              "first   1902-09-01 00:00:00            NaN               NaN           NaN   \n",
              "last    2023-02-16 00:00:00            NaN               NaN           NaN   \n",
              "mean                    NaN            NaN               NaN    102.768927   \n",
              "std                     NaN            NaN               NaN     26.465790   \n",
              "min                     NaN            NaN               NaN      0.000000   \n",
              "25%                     NaN            NaN               NaN     92.000000   \n",
              "50%                     NaN            NaN               NaN    101.000000   \n",
              "75%                     NaN            NaN               NaN    115.000000   \n",
              "max                     NaN            NaN               NaN    400.000000   \n",
              "\n",
              "          Popularity  Rating_average  Rating_Count Production_Companies  \\\n",
              "count   10886.000000    10886.000000  10886.000000                10543   \n",
              "unique           NaN             NaN           NaN                 8567   \n",
              "top              NaN             NaN           NaN            Paramount   \n",
              "freq             NaN             NaN           NaN                  120   \n",
              "first            NaN             NaN           NaN                  NaN   \n",
              "last             NaN             NaN           NaN                  NaN   \n",
              "mean       13.333157        6.323471   1032.841356                  NaN   \n",
              "std        10.232577        1.318914   1994.450056                  NaN   \n",
              "min         0.600000        0.000000      0.000000                  NaN   \n",
              "25%         9.499250        5.800000    154.000000                  NaN   \n",
              "50%        11.464500        6.500000    334.000000                  NaN   \n",
              "75%        14.168750        7.100000    926.000000                  NaN   \n",
              "max       463.487000       10.000000  25159.000000                  NaN   \n",
              "\n",
              "               Country_of_Origin        Budget       Revenue  year_of_release  \\\n",
              "count                      10758  1.088500e+04  1.088500e+04     10883.000000   \n",
              "unique                       915           NaN           NaN              NaN   \n",
              "top     United States of America           NaN           NaN              NaN   \n",
              "freq                        5815           NaN           NaN              NaN   \n",
              "first                        NaN           NaN           NaN              NaN   \n",
              "last                         NaN           NaN           NaN              NaN   \n",
              "mean                         NaN  1.908673e+07  5.634178e+07      2003.528071   \n",
              "std                          NaN  3.588697e+07  1.450983e+08        16.408373   \n",
              "min                          NaN  0.000000e+00  0.000000e+00      1902.000000   \n",
              "25%                          NaN  0.000000e+00  0.000000e+00      1998.000000   \n",
              "50%                          NaN  2.940457e+06  2.002767e+06      2008.000000   \n",
              "75%                          NaN  2.300000e+07  4.546530e+07      2015.000000   \n",
              "max                          NaN  3.870000e+08  2.797801e+09      2023.000000   \n",
              "\n",
              "             movie_Id tag_final  \n",
              "count    10886.000000     10886  \n",
              "unique            NaN     10602  \n",
              "top               NaN        ..  \n",
              "freq              NaN        40  \n",
              "first             NaN       NaN  \n",
              "last              NaN       NaN  \n",
              "mean    150947.267591       NaN  \n",
              "std     194220.588737       NaN  \n",
              "min          2.000000       NaN  \n",
              "25%      10193.500000       NaN  \n",
              "50%      29830.000000       NaN  \n",
              "75%     298606.500000       NaN  \n",
              "max     688131.000000       NaN  "
            ],
            "text/html": [
              "\n",
              "  <div id=\"df-dc7a411e-fe43-4658-97b4-99893b5499b1\">\n",
              "    <div class=\"colab-df-container\">\n",
              "      <div>\n",
              "<style scoped>\n",
              "    .dataframe tbody tr th:only-of-type {\n",
              "        vertical-align: middle;\n",
              "    }\n",
              "\n",
              "    .dataframe tbody tr th {\n",
              "        vertical-align: top;\n",
              "    }\n",
              "\n",
              "    .dataframe thead th {\n",
              "        text-align: right;\n",
              "    }\n",
              "</style>\n",
              "<table border=\"1\" class=\"dataframe\">\n",
              "  <thead>\n",
              "    <tr style=\"text-align: right;\">\n",
              "      <th></th>\n",
              "      <th>TMDb_Id</th>\n",
              "      <th>IMDb_Id</th>\n",
              "      <th>Title</th>\n",
              "      <th>Original_Title</th>\n",
              "      <th>Genres</th>\n",
              "      <th>Cast</th>\n",
              "      <th>Crew</th>\n",
              "      <th>Collection</th>\n",
              "      <th>Release_Date</th>\n",
              "      <th>Release_Status</th>\n",
              "      <th>Original_Language</th>\n",
              "      <th>Runtime</th>\n",
              "      <th>Popularity</th>\n",
              "      <th>Rating_average</th>\n",
              "      <th>Rating_Count</th>\n",
              "      <th>Production_Companies</th>\n",
              "      <th>Country_of_Origin</th>\n",
              "      <th>Budget</th>\n",
              "      <th>Revenue</th>\n",
              "      <th>year_of_release</th>\n",
              "      <th>movie_Id</th>\n",
              "      <th>tag_final</th>\n",
              "    </tr>\n",
              "  </thead>\n",
              "  <tbody>\n",
              "    <tr>\n",
              "      <th>count</th>\n",
              "      <td>10886.000000</td>\n",
              "      <td>10815</td>\n",
              "      <td>10886</td>\n",
              "      <td>10886</td>\n",
              "      <td>10817</td>\n",
              "      <td>10833</td>\n",
              "      <td>10873</td>\n",
              "      <td>10885</td>\n",
              "      <td>10883</td>\n",
              "      <td>10885</td>\n",
              "      <td>10886</td>\n",
              "      <td>10871.000000</td>\n",
              "      <td>10886.000000</td>\n",
              "      <td>10886.000000</td>\n",
              "      <td>10886.000000</td>\n",
              "      <td>10543</td>\n",
              "      <td>10758</td>\n",
              "      <td>1.088500e+04</td>\n",
              "      <td>1.088500e+04</td>\n",
              "      <td>10883.000000</td>\n",
              "      <td>10886.000000</td>\n",
              "      <td>10886</td>\n",
              "    </tr>\n",
              "    <tr>\n",
              "      <th>unique</th>\n",
              "      <td>NaN</td>\n",
              "      <td>10578</td>\n",
              "      <td>10307</td>\n",
              "      <td>10375</td>\n",
              "      <td>1534</td>\n",
              "      <td>10589</td>\n",
              "      <td>10613</td>\n",
              "      <td>1049</td>\n",
              "      <td>6183</td>\n",
              "      <td>5</td>\n",
              "      <td>52</td>\n",
              "      <td>NaN</td>\n",
              "      <td>NaN</td>\n",
              "      <td>NaN</td>\n",
              "      <td>NaN</td>\n",
              "      <td>8567</td>\n",
              "      <td>915</td>\n",
              "      <td>NaN</td>\n",
              "      <td>NaN</td>\n",
              "      <td>NaN</td>\n",
              "      <td>NaN</td>\n",
              "      <td>10602</td>\n",
              "    </tr>\n",
              "    <tr>\n",
              "      <th>top</th>\n",
              "      <td>NaN</td>\n",
              "      <td>tt0290673</td>\n",
              "      <td>Dracula</td>\n",
              "      <td>Dracula</td>\n",
              "      <td>Comedy</td>\n",
              "      <td>Dave Chappelle</td>\n",
              "      <td>Yasuichiro Yamamoto | Gosho Aoyama</td>\n",
              "      <td>Single</td>\n",
              "      <td>2020-04-09 00:00:00</td>\n",
              "      <td>Released</td>\n",
              "      <td>english</td>\n",
              "      <td>NaN</td>\n",
              "      <td>NaN</td>\n",
              "      <td>NaN</td>\n",
              "      <td>NaN</td>\n",
              "      <td>Paramount</td>\n",
              "      <td>United States of America</td>\n",
              "      <td>NaN</td>\n",
              "      <td>NaN</td>\n",
              "      <td>NaN</td>\n",
              "      <td>NaN</td>\n",
              "      <td>..</td>\n",
              "    </tr>\n",
              "    <tr>\n",
              "      <th>freq</th>\n",
              "      <td>NaN</td>\n",
              "      <td>2</td>\n",
              "      <td>5</td>\n",
              "      <td>5</td>\n",
              "      <td>754</td>\n",
              "      <td>3</td>\n",
              "      <td>3</td>\n",
              "      <td>8357</td>\n",
              "      <td>35</td>\n",
              "      <td>10768</td>\n",
              "      <td>8768</td>\n",
              "      <td>NaN</td>\n",
              "      <td>NaN</td>\n",
              "      <td>NaN</td>\n",
              "      <td>NaN</td>\n",
              "      <td>120</td>\n",
              "      <td>5815</td>\n",
              "      <td>NaN</td>\n",
              "      <td>NaN</td>\n",
              "      <td>NaN</td>\n",
              "      <td>NaN</td>\n",
              "      <td>40</td>\n",
              "    </tr>\n",
              "    <tr>\n",
              "      <th>first</th>\n",
              "      <td>NaN</td>\n",
              "      <td>NaN</td>\n",
              "      <td>NaN</td>\n",
              "      <td>NaN</td>\n",
              "      <td>NaN</td>\n",
              "      <td>NaN</td>\n",
              "      <td>NaN</td>\n",
              "      <td>NaN</td>\n",
              "      <td>1902-09-01 00:00:00</td>\n",
              "      <td>NaN</td>\n",
              "      <td>NaN</td>\n",
              "      <td>NaN</td>\n",
              "      <td>NaN</td>\n",
              "      <td>NaN</td>\n",
              "      <td>NaN</td>\n",
              "      <td>NaN</td>\n",
              "      <td>NaN</td>\n",
              "      <td>NaN</td>\n",
              "      <td>NaN</td>\n",
              "      <td>NaN</td>\n",
              "      <td>NaN</td>\n",
              "      <td>NaN</td>\n",
              "    </tr>\n",
              "    <tr>\n",
              "      <th>last</th>\n",
              "      <td>NaN</td>\n",
              "      <td>NaN</td>\n",
              "      <td>NaN</td>\n",
              "      <td>NaN</td>\n",
              "      <td>NaN</td>\n",
              "      <td>NaN</td>\n",
              "      <td>NaN</td>\n",
              "      <td>NaN</td>\n",
              "      <td>2023-02-16 00:00:00</td>\n",
              "      <td>NaN</td>\n",
              "      <td>NaN</td>\n",
              "      <td>NaN</td>\n",
              "      <td>NaN</td>\n",
              "      <td>NaN</td>\n",
              "      <td>NaN</td>\n",
              "      <td>NaN</td>\n",
              "      <td>NaN</td>\n",
              "      <td>NaN</td>\n",
              "      <td>NaN</td>\n",
              "      <td>NaN</td>\n",
              "      <td>NaN</td>\n",
              "      <td>NaN</td>\n",
              "    </tr>\n",
              "    <tr>\n",
              "      <th>mean</th>\n",
              "      <td>150947.267591</td>\n",
              "      <td>NaN</td>\n",
              "      <td>NaN</td>\n",
              "      <td>NaN</td>\n",
              "      <td>NaN</td>\n",
              "      <td>NaN</td>\n",
              "      <td>NaN</td>\n",
              "      <td>NaN</td>\n",
              "      <td>NaN</td>\n",
              "      <td>NaN</td>\n",
              "      <td>NaN</td>\n",
              "      <td>102.768927</td>\n",
              "      <td>13.333157</td>\n",
              "      <td>6.323471</td>\n",
              "      <td>1032.841356</td>\n",
              "      <td>NaN</td>\n",
              "      <td>NaN</td>\n",
              "      <td>1.908673e+07</td>\n",
              "      <td>5.634178e+07</td>\n",
              "      <td>2003.528071</td>\n",
              "      <td>150947.267591</td>\n",
              "      <td>NaN</td>\n",
              "    </tr>\n",
              "    <tr>\n",
              "      <th>std</th>\n",
              "      <td>194220.588737</td>\n",
              "      <td>NaN</td>\n",
              "      <td>NaN</td>\n",
              "      <td>NaN</td>\n",
              "      <td>NaN</td>\n",
              "      <td>NaN</td>\n",
              "      <td>NaN</td>\n",
              "      <td>NaN</td>\n",
              "      <td>NaN</td>\n",
              "      <td>NaN</td>\n",
              "      <td>NaN</td>\n",
              "      <td>26.465790</td>\n",
              "      <td>10.232577</td>\n",
              "      <td>1.318914</td>\n",
              "      <td>1994.450056</td>\n",
              "      <td>NaN</td>\n",
              "      <td>NaN</td>\n",
              "      <td>3.588697e+07</td>\n",
              "      <td>1.450983e+08</td>\n",
              "      <td>16.408373</td>\n",
              "      <td>194220.588737</td>\n",
              "      <td>NaN</td>\n",
              "    </tr>\n",
              "    <tr>\n",
              "      <th>min</th>\n",
              "      <td>2.000000</td>\n",
              "      <td>NaN</td>\n",
              "      <td>NaN</td>\n",
              "      <td>NaN</td>\n",
              "      <td>NaN</td>\n",
              "      <td>NaN</td>\n",
              "      <td>NaN</td>\n",
              "      <td>NaN</td>\n",
              "      <td>NaN</td>\n",
              "      <td>NaN</td>\n",
              "      <td>NaN</td>\n",
              "      <td>0.000000</td>\n",
              "      <td>0.600000</td>\n",
              "      <td>0.000000</td>\n",
              "      <td>0.000000</td>\n",
              "      <td>NaN</td>\n",
              "      <td>NaN</td>\n",
              "      <td>0.000000e+00</td>\n",
              "      <td>0.000000e+00</td>\n",
              "      <td>1902.000000</td>\n",
              "      <td>2.000000</td>\n",
              "      <td>NaN</td>\n",
              "    </tr>\n",
              "    <tr>\n",
              "      <th>25%</th>\n",
              "      <td>10193.500000</td>\n",
              "      <td>NaN</td>\n",
              "      <td>NaN</td>\n",
              "      <td>NaN</td>\n",
              "      <td>NaN</td>\n",
              "      <td>NaN</td>\n",
              "      <td>NaN</td>\n",
              "      <td>NaN</td>\n",
              "      <td>NaN</td>\n",
              "      <td>NaN</td>\n",
              "      <td>NaN</td>\n",
              "      <td>92.000000</td>\n",
              "      <td>9.499250</td>\n",
              "      <td>5.800000</td>\n",
              "      <td>154.000000</td>\n",
              "      <td>NaN</td>\n",
              "      <td>NaN</td>\n",
              "      <td>0.000000e+00</td>\n",
              "      <td>0.000000e+00</td>\n",
              "      <td>1998.000000</td>\n",
              "      <td>10193.500000</td>\n",
              "      <td>NaN</td>\n",
              "    </tr>\n",
              "    <tr>\n",
              "      <th>50%</th>\n",
              "      <td>29830.000000</td>\n",
              "      <td>NaN</td>\n",
              "      <td>NaN</td>\n",
              "      <td>NaN</td>\n",
              "      <td>NaN</td>\n",
              "      <td>NaN</td>\n",
              "      <td>NaN</td>\n",
              "      <td>NaN</td>\n",
              "      <td>NaN</td>\n",
              "      <td>NaN</td>\n",
              "      <td>NaN</td>\n",
              "      <td>101.000000</td>\n",
              "      <td>11.464500</td>\n",
              "      <td>6.500000</td>\n",
              "      <td>334.000000</td>\n",
              "      <td>NaN</td>\n",
              "      <td>NaN</td>\n",
              "      <td>2.940457e+06</td>\n",
              "      <td>2.002767e+06</td>\n",
              "      <td>2008.000000</td>\n",
              "      <td>29830.000000</td>\n",
              "      <td>NaN</td>\n",
              "    </tr>\n",
              "    <tr>\n",
              "      <th>75%</th>\n",
              "      <td>298606.500000</td>\n",
              "      <td>NaN</td>\n",
              "      <td>NaN</td>\n",
              "      <td>NaN</td>\n",
              "      <td>NaN</td>\n",
              "      <td>NaN</td>\n",
              "      <td>NaN</td>\n",
              "      <td>NaN</td>\n",
              "      <td>NaN</td>\n",
              "      <td>NaN</td>\n",
              "      <td>NaN</td>\n",
              "      <td>115.000000</td>\n",
              "      <td>14.168750</td>\n",
              "      <td>7.100000</td>\n",
              "      <td>926.000000</td>\n",
              "      <td>NaN</td>\n",
              "      <td>NaN</td>\n",
              "      <td>2.300000e+07</td>\n",
              "      <td>4.546530e+07</td>\n",
              "      <td>2015.000000</td>\n",
              "      <td>298606.500000</td>\n",
              "      <td>NaN</td>\n",
              "    </tr>\n",
              "    <tr>\n",
              "      <th>max</th>\n",
              "      <td>688131.000000</td>\n",
              "      <td>NaN</td>\n",
              "      <td>NaN</td>\n",
              "      <td>NaN</td>\n",
              "      <td>NaN</td>\n",
              "      <td>NaN</td>\n",
              "      <td>NaN</td>\n",
              "      <td>NaN</td>\n",
              "      <td>NaN</td>\n",
              "      <td>NaN</td>\n",
              "      <td>NaN</td>\n",
              "      <td>400.000000</td>\n",
              "      <td>463.487000</td>\n",
              "      <td>10.000000</td>\n",
              "      <td>25159.000000</td>\n",
              "      <td>NaN</td>\n",
              "      <td>NaN</td>\n",
              "      <td>3.870000e+08</td>\n",
              "      <td>2.797801e+09</td>\n",
              "      <td>2023.000000</td>\n",
              "      <td>688131.000000</td>\n",
              "      <td>NaN</td>\n",
              "    </tr>\n",
              "  </tbody>\n",
              "</table>\n",
              "</div>\n",
              "      <button class=\"colab-df-convert\" onclick=\"convertToInteractive('df-dc7a411e-fe43-4658-97b4-99893b5499b1')\"\n",
              "              title=\"Convert this dataframe to an interactive table.\"\n",
              "              style=\"display:none;\">\n",
              "        \n",
              "  <svg xmlns=\"http://www.w3.org/2000/svg\" height=\"24px\"viewBox=\"0 0 24 24\"\n",
              "       width=\"24px\">\n",
              "    <path d=\"M0 0h24v24H0V0z\" fill=\"none\"/>\n",
              "    <path d=\"M18.56 5.44l.94 2.06.94-2.06 2.06-.94-2.06-.94-.94-2.06-.94 2.06-2.06.94zm-11 1L8.5 8.5l.94-2.06 2.06-.94-2.06-.94L8.5 2.5l-.94 2.06-2.06.94zm10 10l.94 2.06.94-2.06 2.06-.94-2.06-.94-.94-2.06-.94 2.06-2.06.94z\"/><path d=\"M17.41 7.96l-1.37-1.37c-.4-.4-.92-.59-1.43-.59-.52 0-1.04.2-1.43.59L10.3 9.45l-7.72 7.72c-.78.78-.78 2.05 0 2.83L4 21.41c.39.39.9.59 1.41.59.51 0 1.02-.2 1.41-.59l7.78-7.78 2.81-2.81c.8-.78.8-2.07 0-2.86zM5.41 20L4 18.59l7.72-7.72 1.47 1.35L5.41 20z\"/>\n",
              "  </svg>\n",
              "      </button>\n",
              "      \n",
              "  <style>\n",
              "    .colab-df-container {\n",
              "      display:flex;\n",
              "      flex-wrap:wrap;\n",
              "      gap: 12px;\n",
              "    }\n",
              "\n",
              "    .colab-df-convert {\n",
              "      background-color: #E8F0FE;\n",
              "      border: none;\n",
              "      border-radius: 50%;\n",
              "      cursor: pointer;\n",
              "      display: none;\n",
              "      fill: #1967D2;\n",
              "      height: 32px;\n",
              "      padding: 0 0 0 0;\n",
              "      width: 32px;\n",
              "    }\n",
              "\n",
              "    .colab-df-convert:hover {\n",
              "      background-color: #E2EBFA;\n",
              "      box-shadow: 0px 1px 2px rgba(60, 64, 67, 0.3), 0px 1px 3px 1px rgba(60, 64, 67, 0.15);\n",
              "      fill: #174EA6;\n",
              "    }\n",
              "\n",
              "    [theme=dark] .colab-df-convert {\n",
              "      background-color: #3B4455;\n",
              "      fill: #D2E3FC;\n",
              "    }\n",
              "\n",
              "    [theme=dark] .colab-df-convert:hover {\n",
              "      background-color: #434B5C;\n",
              "      box-shadow: 0px 1px 3px 1px rgba(0, 0, 0, 0.15);\n",
              "      filter: drop-shadow(0px 1px 2px rgba(0, 0, 0, 0.3));\n",
              "      fill: #FFFFFF;\n",
              "    }\n",
              "  </style>\n",
              "\n",
              "      <script>\n",
              "        const buttonEl =\n",
              "          document.querySelector('#df-dc7a411e-fe43-4658-97b4-99893b5499b1 button.colab-df-convert');\n",
              "        buttonEl.style.display =\n",
              "          google.colab.kernel.accessAllowed ? 'block' : 'none';\n",
              "\n",
              "        async function convertToInteractive(key) {\n",
              "          const element = document.querySelector('#df-dc7a411e-fe43-4658-97b4-99893b5499b1');\n",
              "          const dataTable =\n",
              "            await google.colab.kernel.invokeFunction('convertToInteractive',\n",
              "                                                     [key], {});\n",
              "          if (!dataTable) return;\n",
              "\n",
              "          const docLinkHtml = 'Like what you see? Visit the ' +\n",
              "            '<a target=\"_blank\" href=https://colab.research.google.com/notebooks/data_table.ipynb>data table notebook</a>'\n",
              "            + ' to learn more about interactive tables.';\n",
              "          element.innerHTML = '';\n",
              "          dataTable['output_type'] = 'display_data';\n",
              "          await google.colab.output.renderOutput(dataTable, element);\n",
              "          const docLink = document.createElement('div');\n",
              "          docLink.innerHTML = docLinkHtml;\n",
              "          element.appendChild(docLink);\n",
              "        }\n",
              "      </script>\n",
              "    </div>\n",
              "  </div>\n",
              "  "
            ]
          },
          "metadata": {},
          "execution_count": 54
        }
      ]
    },
    {
      "cell_type": "code",
      "source": [
        "#Removing the \"pipe\" symbol from the below mntioned features:\n",
        "data['Genres'] = data['Genres'].str.replace('|', ',')\n",
        "data['Cast'] = data['Cast'].str.replace('|', ',')\n",
        "data['Crew'] = data['Crew'].str.replace('|', ',')"
      ],
      "metadata": {
        "id": "opg47tONPcQ1"
      },
      "execution_count": 55,
      "outputs": []
    },
    {
      "cell_type": "code",
      "source": [
        "data.head(2)"
      ],
      "metadata": {
        "colab": {
          "base_uri": "https://localhost:8080/",
          "height": 384
        },
        "id": "NMjADFC3Pzes",
        "outputId": "276a631a-d73f-4b66-b318-ae1cae2874d7"
      },
      "execution_count": 56,
      "outputs": [
        {
          "output_type": "execute_result",
          "data": {
            "text/plain": [
              "   TMDb_Id    IMDb_Id      Title Original_Title                    Genres  \\\n",
              "0   419704  tt2935510   Ad Astra       Ad Astra   Drama , Science Fiction   \n",
              "1   338762  tt1634106  Bloodshot      Bloodshot  Action , Science Fiction   \n",
              "\n",
              "                                                Cast  \\\n",
              "0  Brad Pitt , Tommy Lee Jones , Ruth Negga , Joh...   \n",
              "1  Vin Diesel , Eiza González , Sam Heughan , Tob...   \n",
              "\n",
              "                                                Crew Collection Release_Date  \\\n",
              "0  Brad Pitt , Arnon Milchan , Gary Rydstrom , Ga...     Single   2019-09-17   \n",
              "1  John Papsidera , Matthew Vaughn , Jim May , Ne...     Single   2020-03-05   \n",
              "\n",
              "  Release_Status Original_Language  Runtime  Popularity  Rating_average  \\\n",
              "0       Released           english    123.0     463.487             5.9   \n",
              "1       Released           english    110.0     235.701             7.2   \n",
              "\n",
              "   Rating_Count                               Production_Companies  \\\n",
              "0          2863  New Regency Productions | Keep Your Head | Mad...   \n",
              "1          1384  Sony Pictures | Cross Creek Pictures | Mimran ...   \n",
              "\n",
              "                           Country_of_Origin      Budget      Revenue  \\\n",
              "0  Brazil | China | United States of America  87500000.0  127175922.0   \n",
              "1           China | United States of America  42000000.0   24573617.0   \n",
              "\n",
              "   year_of_release  movie_Id  \\\n",
              "0           2019.0    419704   \n",
              "1           2020.0    338762   \n",
              "\n",
              "                                           tag_final  \n",
              "0  The near future, a time when both hope and har...  \n",
              "1  After he and his wife are murdered, marine Ray...  "
            ],
            "text/html": [
              "\n",
              "  <div id=\"df-b82c3e60-b459-41ba-940f-599641975349\">\n",
              "    <div class=\"colab-df-container\">\n",
              "      <div>\n",
              "<style scoped>\n",
              "    .dataframe tbody tr th:only-of-type {\n",
              "        vertical-align: middle;\n",
              "    }\n",
              "\n",
              "    .dataframe tbody tr th {\n",
              "        vertical-align: top;\n",
              "    }\n",
              "\n",
              "    .dataframe thead th {\n",
              "        text-align: right;\n",
              "    }\n",
              "</style>\n",
              "<table border=\"1\" class=\"dataframe\">\n",
              "  <thead>\n",
              "    <tr style=\"text-align: right;\">\n",
              "      <th></th>\n",
              "      <th>TMDb_Id</th>\n",
              "      <th>IMDb_Id</th>\n",
              "      <th>Title</th>\n",
              "      <th>Original_Title</th>\n",
              "      <th>Genres</th>\n",
              "      <th>Cast</th>\n",
              "      <th>Crew</th>\n",
              "      <th>Collection</th>\n",
              "      <th>Release_Date</th>\n",
              "      <th>Release_Status</th>\n",
              "      <th>Original_Language</th>\n",
              "      <th>Runtime</th>\n",
              "      <th>Popularity</th>\n",
              "      <th>Rating_average</th>\n",
              "      <th>Rating_Count</th>\n",
              "      <th>Production_Companies</th>\n",
              "      <th>Country_of_Origin</th>\n",
              "      <th>Budget</th>\n",
              "      <th>Revenue</th>\n",
              "      <th>year_of_release</th>\n",
              "      <th>movie_Id</th>\n",
              "      <th>tag_final</th>\n",
              "    </tr>\n",
              "  </thead>\n",
              "  <tbody>\n",
              "    <tr>\n",
              "      <th>0</th>\n",
              "      <td>419704</td>\n",
              "      <td>tt2935510</td>\n",
              "      <td>Ad Astra</td>\n",
              "      <td>Ad Astra</td>\n",
              "      <td>Drama , Science Fiction</td>\n",
              "      <td>Brad Pitt , Tommy Lee Jones , Ruth Negga , Joh...</td>\n",
              "      <td>Brad Pitt , Arnon Milchan , Gary Rydstrom , Ga...</td>\n",
              "      <td>Single</td>\n",
              "      <td>2019-09-17</td>\n",
              "      <td>Released</td>\n",
              "      <td>english</td>\n",
              "      <td>123.0</td>\n",
              "      <td>463.487</td>\n",
              "      <td>5.9</td>\n",
              "      <td>2863</td>\n",
              "      <td>New Regency Productions | Keep Your Head | Mad...</td>\n",
              "      <td>Brazil | China | United States of America</td>\n",
              "      <td>87500000.0</td>\n",
              "      <td>127175922.0</td>\n",
              "      <td>2019.0</td>\n",
              "      <td>419704</td>\n",
              "      <td>The near future, a time when both hope and har...</td>\n",
              "    </tr>\n",
              "    <tr>\n",
              "      <th>1</th>\n",
              "      <td>338762</td>\n",
              "      <td>tt1634106</td>\n",
              "      <td>Bloodshot</td>\n",
              "      <td>Bloodshot</td>\n",
              "      <td>Action , Science Fiction</td>\n",
              "      <td>Vin Diesel , Eiza González , Sam Heughan , Tob...</td>\n",
              "      <td>John Papsidera , Matthew Vaughn , Jim May , Ne...</td>\n",
              "      <td>Single</td>\n",
              "      <td>2020-03-05</td>\n",
              "      <td>Released</td>\n",
              "      <td>english</td>\n",
              "      <td>110.0</td>\n",
              "      <td>235.701</td>\n",
              "      <td>7.2</td>\n",
              "      <td>1384</td>\n",
              "      <td>Sony Pictures | Cross Creek Pictures | Mimran ...</td>\n",
              "      <td>China | United States of America</td>\n",
              "      <td>42000000.0</td>\n",
              "      <td>24573617.0</td>\n",
              "      <td>2020.0</td>\n",
              "      <td>338762</td>\n",
              "      <td>After he and his wife are murdered, marine Ray...</td>\n",
              "    </tr>\n",
              "  </tbody>\n",
              "</table>\n",
              "</div>\n",
              "      <button class=\"colab-df-convert\" onclick=\"convertToInteractive('df-b82c3e60-b459-41ba-940f-599641975349')\"\n",
              "              title=\"Convert this dataframe to an interactive table.\"\n",
              "              style=\"display:none;\">\n",
              "        \n",
              "  <svg xmlns=\"http://www.w3.org/2000/svg\" height=\"24px\"viewBox=\"0 0 24 24\"\n",
              "       width=\"24px\">\n",
              "    <path d=\"M0 0h24v24H0V0z\" fill=\"none\"/>\n",
              "    <path d=\"M18.56 5.44l.94 2.06.94-2.06 2.06-.94-2.06-.94-.94-2.06-.94 2.06-2.06.94zm-11 1L8.5 8.5l.94-2.06 2.06-.94-2.06-.94L8.5 2.5l-.94 2.06-2.06.94zm10 10l.94 2.06.94-2.06 2.06-.94-2.06-.94-.94-2.06-.94 2.06-2.06.94z\"/><path d=\"M17.41 7.96l-1.37-1.37c-.4-.4-.92-.59-1.43-.59-.52 0-1.04.2-1.43.59L10.3 9.45l-7.72 7.72c-.78.78-.78 2.05 0 2.83L4 21.41c.39.39.9.59 1.41.59.51 0 1.02-.2 1.41-.59l7.78-7.78 2.81-2.81c.8-.78.8-2.07 0-2.86zM5.41 20L4 18.59l7.72-7.72 1.47 1.35L5.41 20z\"/>\n",
              "  </svg>\n",
              "      </button>\n",
              "      \n",
              "  <style>\n",
              "    .colab-df-container {\n",
              "      display:flex;\n",
              "      flex-wrap:wrap;\n",
              "      gap: 12px;\n",
              "    }\n",
              "\n",
              "    .colab-df-convert {\n",
              "      background-color: #E8F0FE;\n",
              "      border: none;\n",
              "      border-radius: 50%;\n",
              "      cursor: pointer;\n",
              "      display: none;\n",
              "      fill: #1967D2;\n",
              "      height: 32px;\n",
              "      padding: 0 0 0 0;\n",
              "      width: 32px;\n",
              "    }\n",
              "\n",
              "    .colab-df-convert:hover {\n",
              "      background-color: #E2EBFA;\n",
              "      box-shadow: 0px 1px 2px rgba(60, 64, 67, 0.3), 0px 1px 3px 1px rgba(60, 64, 67, 0.15);\n",
              "      fill: #174EA6;\n",
              "    }\n",
              "\n",
              "    [theme=dark] .colab-df-convert {\n",
              "      background-color: #3B4455;\n",
              "      fill: #D2E3FC;\n",
              "    }\n",
              "\n",
              "    [theme=dark] .colab-df-convert:hover {\n",
              "      background-color: #434B5C;\n",
              "      box-shadow: 0px 1px 3px 1px rgba(0, 0, 0, 0.15);\n",
              "      filter: drop-shadow(0px 1px 2px rgba(0, 0, 0, 0.3));\n",
              "      fill: #FFFFFF;\n",
              "    }\n",
              "  </style>\n",
              "\n",
              "      <script>\n",
              "        const buttonEl =\n",
              "          document.querySelector('#df-b82c3e60-b459-41ba-940f-599641975349 button.colab-df-convert');\n",
              "        buttonEl.style.display =\n",
              "          google.colab.kernel.accessAllowed ? 'block' : 'none';\n",
              "\n",
              "        async function convertToInteractive(key) {\n",
              "          const element = document.querySelector('#df-b82c3e60-b459-41ba-940f-599641975349');\n",
              "          const dataTable =\n",
              "            await google.colab.kernel.invokeFunction('convertToInteractive',\n",
              "                                                     [key], {});\n",
              "          if (!dataTable) return;\n",
              "\n",
              "          const docLinkHtml = 'Like what you see? Visit the ' +\n",
              "            '<a target=\"_blank\" href=https://colab.research.google.com/notebooks/data_table.ipynb>data table notebook</a>'\n",
              "            + ' to learn more about interactive tables.';\n",
              "          element.innerHTML = '';\n",
              "          dataTable['output_type'] = 'display_data';\n",
              "          await google.colab.output.renderOutput(dataTable, element);\n",
              "          const docLink = document.createElement('div');\n",
              "          docLink.innerHTML = docLinkHtml;\n",
              "          element.appendChild(docLink);\n",
              "        }\n",
              "      </script>\n",
              "    </div>\n",
              "  </div>\n",
              "  "
            ]
          },
          "metadata": {},
          "execution_count": 56
        }
      ]
    },
    {
      "cell_type": "markdown",
      "source": [
        "#Data Visualization"
      ],
      "metadata": {
        "id": "YUQZ8fTZPXPg"
      }
    },
    {
      "cell_type": "code",
      "source": [
        "from wordcloud import WordCloud\n",
        "\n",
        "wc = WordCloud(width=400, height=200, background_color = 'white', min_font_size=7)\n",
        "\n",
        "gen_wc=wc.generate(data['Genres'].str.cat(sep=\" \"))\n",
        "plt.figure(figsize=(10,15))\n",
        "plt.imshow(gen_wc)"
      ],
      "metadata": {
        "colab": {
          "base_uri": "https://localhost:8080/",
          "height": 347
        },
        "id": "KMFNttjWGzqr",
        "outputId": "9f7f8484-04f1-4e75-f82f-3a5369c0bb46"
      },
      "execution_count": 57,
      "outputs": [
        {
          "output_type": "execute_result",
          "data": {
            "text/plain": [
              "<matplotlib.image.AxesImage at 0x7f64561d0c10>"
            ]
          },
          "metadata": {},
          "execution_count": 57
        },
        {
          "output_type": "display_data",
          "data": {
            "text/plain": [
              "<Figure size 720x1080 with 1 Axes>"
            ],
            "image/png": "[encoded data removed]"
          },
          "metadata": {
            "needs_background": "light"
          }
        }
      ]
    },
    {
      "cell_type": "code",
      "source": [
        "plt.figure(figsize =(10, 5))\n",
        "data['Rating_average'].hist(bins = 80)"
      ],
      "metadata": {
        "colab": {
          "base_uri": "https://localhost:8080/",
          "height": 337
        },
        "id": "STCS0hmQ3slk",
        "outputId": "53602fb0-52ed-4764-acd8-43418d052a41"
      },
      "execution_count": 58,
      "outputs": [
        {
          "output_type": "execute_result",
          "data": {
            "text/plain": [
              "<matplotlib.axes._subplots.AxesSubplot at 0x7f645603b160>"
            ]
          },
          "metadata": {},
          "execution_count": 58
        },
        {
          "output_type": "display_data",
          "data": {
            "text/plain": [
              "<Figure size 720x360 with 1 Axes>"
            ],
            "image/png": "[encoded data removed]"
          },
          "metadata": {
            "needs_background": "light"
          }
        }
      ]
    },
    {
      "cell_type": "code",
      "source": [
        "Popularity = data.sort_values(\"Popularity\", ascending=False)\n",
        "plt.figure(figsize=(12, 6))\n",
        "plt.barh(Popularity[\"Title\"].head(10), Popularity[\"Popularity\"].head(10), align=\"center\",color=['red','green','yellow','pink','cyan'])\n",
        "plt.gca().invert_yaxis()\n",
        "plt.title(\"Top 10 movies\")\n",
        "plt.xlabel(\"Popularity\")\n",
        "plt.show()"
      ],
      "metadata": {
        "colab": {
          "base_uri": "https://localhost:8080/",
          "height": 367
        },
        "id": "NIO_OXrPHTMh",
        "outputId": "0e1c6f19-5a6e-4343-d6c4-5363f7f6cc2a"
      },
      "execution_count": 59,
      "outputs": [
        {
          "output_type": "display_data",
          "data": {
            "text/plain": [
              "<Figure size 864x432 with 1 Axes>"
            ],
            "image/png": "[encoded data removed]"
          },
          "metadata": {
            "needs_background": "light"
          }
        }
      ]
    },
    {
      "cell_type": "code",
      "execution_count": 60,
      "metadata": {
        "colab": {
          "base_uri": "https://localhost:8080/"
        },
        "id": "3uIs_qrgnfgx",
        "outputId": "552e8f80-61b5-4efe-cf21-ba5000077ca4"
      },
      "outputs": [
        {
          "output_type": "execute_result",
          "data": {
            "text/plain": [
              "Index(['TMDb_Id', 'IMDb_Id', 'Title', 'Original_Title', 'Genres', 'Cast',\n",
              "       'Crew', 'Collection', 'Release_Date', 'Release_Status',\n",
              "       'Original_Language', 'Runtime', 'Popularity', 'Rating_average',\n",
              "       'Rating_Count', 'Production_Companies', 'Country_of_Origin', 'Budget',\n",
              "       'Revenue', 'year_of_release', 'movie_Id', 'tag_final'],\n",
              "      dtype='object')"
            ]
          },
          "metadata": {},
          "execution_count": 60
        }
      ],
      "source": [
        "data.columns"
      ]
    },
    {
      "cell_type": "code",
      "execution_count": 61,
      "metadata": {
        "colab": {
          "base_uri": "https://localhost:8080/"
        },
        "id": "NInKNUrinvaz",
        "outputId": "38c50d24-f486-4645-bfdd-7bc04217e0eb"
      },
      "outputs": [
        {
          "output_type": "execute_result",
          "data": {
            "text/plain": [
              "75                                  Avengers: Endgame\n",
              "149                                      The Irishman\n",
              "180                                           Titanic\n",
              "194                           The Wolf of Wall Street\n",
              "198     The Lord of the Rings: The Return of the King\n",
              "                            ...                      \n",
              "10                                     The Green Mile\n",
              "56                                  The Best of Youth\n",
              "869                Fabrizio De André: Principe libero\n",
              "1910                        Blue Is the Warmest Color\n",
              "2968                                        King Kong\n",
              "Name: Title, Length: 95, dtype: object"
            ]
          },
          "metadata": {},
          "execution_count": 61
        }
      ],
      "source": [
        "data[data['Runtime']>=180]['Title']"
      ]
    },
    {
      "cell_type": "code",
      "execution_count": 62,
      "metadata": {
        "id": "xqzEdA8EtVXn"
      },
      "outputs": [],
      "source": [
        "Top_10=data.nlargest(10,'Runtime')[['Title','Runtime']]\n",
        "set_index=('Title')"
      ]
    },
    {
      "cell_type": "code",
      "execution_count": 63,
      "metadata": {
        "colab": {
          "base_uri": "https://localhost:8080/",
          "height": 363
        },
        "id": "T9YmgyrVvKho",
        "outputId": "4b665944-9c9b-49d4-ce72-d4bbc9e587c0"
      },
      "outputs": [
        {
          "output_type": "execute_result",
          "data": {
            "text/plain": [
              "                                                  Title  Runtime\n",
              "9248  Crystal Lake Memories: The Complete History of...    400.0\n",
              "56                                    The Best of Youth    366.0\n",
              "6541                                               1900    317.0\n",
              "7458                                        The Kingdom    273.0\n",
              "9166                                         Gettysburg    254.0\n",
              "6585                                          Cleopatra    248.0\n",
              "1486                 Kill Bill: The Whole Bloody Affair    247.0\n",
              "7098                                             Hamlet    242.0\n",
              "7811                                      Love Exposure    237.0\n",
              "7947                              A Brighter Summer Day    237.0"
            ],
            "text/html": [
              "\n",
              "  <div id=\"df-6852f448-f85d-49a2-9817-7576f7e3eadc\">\n",
              "    <div class=\"colab-df-container\">\n",
              "      <div>\n",
              "<style scoped>\n",
              "    .dataframe tbody tr th:only-of-type {\n",
              "        vertical-align: middle;\n",
              "    }\n",
              "\n",
              "    .dataframe tbody tr th {\n",
              "        vertical-align: top;\n",
              "    }\n",
              "\n",
              "    .dataframe thead th {\n",
              "        text-align: right;\n",
              "    }\n",
              "</style>\n",
              "<table border=\"1\" class=\"dataframe\">\n",
              "  <thead>\n",
              "    <tr style=\"text-align: right;\">\n",
              "      <th></th>\n",
              "      <th>Title</th>\n",
              "      <th>Runtime</th>\n",
              "    </tr>\n",
              "  </thead>\n",
              "  <tbody>\n",
              "    <tr>\n",
              "      <th>9248</th>\n",
              "      <td>Crystal Lake Memories: The Complete History of...</td>\n",
              "      <td>400.0</td>\n",
              "    </tr>\n",
              "    <tr>\n",
              "      <th>56</th>\n",
              "      <td>The Best of Youth</td>\n",
              "      <td>366.0</td>\n",
              "    </tr>\n",
              "    <tr>\n",
              "      <th>6541</th>\n",
              "      <td>1900</td>\n",
              "      <td>317.0</td>\n",
              "    </tr>\n",
              "    <tr>\n",
              "      <th>7458</th>\n",
              "      <td>The Kingdom</td>\n",
              "      <td>273.0</td>\n",
              "    </tr>\n",
              "    <tr>\n",
              "      <th>9166</th>\n",
              "      <td>Gettysburg</td>\n",
              "      <td>254.0</td>\n",
              "    </tr>\n",
              "    <tr>\n",
              "      <th>6585</th>\n",
              "      <td>Cleopatra</td>\n",
              "      <td>248.0</td>\n",
              "    </tr>\n",
              "    <tr>\n",
              "      <th>1486</th>\n",
              "      <td>Kill Bill: The Whole Bloody Affair</td>\n",
              "      <td>247.0</td>\n",
              "    </tr>\n",
              "    <tr>\n",
              "      <th>7098</th>\n",
              "      <td>Hamlet</td>\n",
              "      <td>242.0</td>\n",
              "    </tr>\n",
              "    <tr>\n",
              "      <th>7811</th>\n",
              "      <td>Love Exposure</td>\n",
              "      <td>237.0</td>\n",
              "    </tr>\n",
              "    <tr>\n",
              "      <th>7947</th>\n",
              "      <td>A Brighter Summer Day</td>\n",
              "      <td>237.0</td>\n",
              "    </tr>\n",
              "  </tbody>\n",
              "</table>\n",
              "</div>\n",
              "      <button class=\"colab-df-convert\" onclick=\"convertToInteractive('df-6852f448-f85d-49a2-9817-7576f7e3eadc')\"\n",
              "              title=\"Convert this dataframe to an interactive table.\"\n",
              "              style=\"display:none;\">\n",
              "        \n",
              "  <svg xmlns=\"http://www.w3.org/2000/svg\" height=\"24px\"viewBox=\"0 0 24 24\"\n",
              "       width=\"24px\">\n",
              "    <path d=\"M0 0h24v24H0V0z\" fill=\"none\"/>\n",
              "    <path d=\"M18.56 5.44l.94 2.06.94-2.06 2.06-.94-2.06-.94-.94-2.06-.94 2.06-2.06.94zm-11 1L8.5 8.5l.94-2.06 2.06-.94-2.06-.94L8.5 2.5l-.94 2.06-2.06.94zm10 10l.94 2.06.94-2.06 2.06-.94-2.06-.94-.94-2.06-.94 2.06-2.06.94z\"/><path d=\"M17.41 7.96l-1.37-1.37c-.4-.4-.92-.59-1.43-.59-.52 0-1.04.2-1.43.59L10.3 9.45l-7.72 7.72c-.78.78-.78 2.05 0 2.83L4 21.41c.39.39.9.59 1.41.59.51 0 1.02-.2 1.41-.59l7.78-7.78 2.81-2.81c.8-.78.8-2.07 0-2.86zM5.41 20L4 18.59l7.72-7.72 1.47 1.35L5.41 20z\"/>\n",
              "  </svg>\n",
              "      </button>\n",
              "      \n",
              "  <style>\n",
              "    .colab-df-container {\n",
              "      display:flex;\n",
              "      flex-wrap:wrap;\n",
              "      gap: 12px;\n",
              "    }\n",
              "\n",
              "    .colab-df-convert {\n",
              "      background-color: #E8F0FE;\n",
              "      border: none;\n",
              "      border-radius: 50%;\n",
              "      cursor: pointer;\n",
              "      display: none;\n",
              "      fill: #1967D2;\n",
              "      height: 32px;\n",
              "      padding: 0 0 0 0;\n",
              "      width: 32px;\n",
              "    }\n",
              "\n",
              "    .colab-df-convert:hover {\n",
              "      background-color: #E2EBFA;\n",
              "      box-shadow: 0px 1px 2px rgba(60, 64, 67, 0.3), 0px 1px 3px 1px rgba(60, 64, 67, 0.15);\n",
              "      fill: #174EA6;\n",
              "    }\n",
              "\n",
              "    [theme=dark] .colab-df-convert {\n",
              "      background-color: #3B4455;\n",
              "      fill: #D2E3FC;\n",
              "    }\n",
              "\n",
              "    [theme=dark] .colab-df-convert:hover {\n",
              "      background-color: #434B5C;\n",
              "      box-shadow: 0px 1px 3px 1px rgba(0, 0, 0, 0.15);\n",
              "      filter: drop-shadow(0px 1px 2px rgba(0, 0, 0, 0.3));\n",
              "      fill: #FFFFFF;\n",
              "    }\n",
              "  </style>\n",
              "\n",
              "      <script>\n",
              "        const buttonEl =\n",
              "          document.querySelector('#df-6852f448-f85d-49a2-9817-7576f7e3eadc button.colab-df-convert');\n",
              "        buttonEl.style.display =\n",
              "          google.colab.kernel.accessAllowed ? 'block' : 'none';\n",
              "\n",
              "        async function convertToInteractive(key) {\n",
              "          const element = document.querySelector('#df-6852f448-f85d-49a2-9817-7576f7e3eadc');\n",
              "          const dataTable =\n",
              "            await google.colab.kernel.invokeFunction('convertToInteractive',\n",
              "                                                     [key], {});\n",
              "          if (!dataTable) return;\n",
              "\n",
              "          const docLinkHtml = 'Like what you see? Visit the ' +\n",
              "            '<a target=\"_blank\" href=https://colab.research.google.com/notebooks/data_table.ipynb>data table notebook</a>'\n",
              "            + ' to learn more about interactive tables.';\n",
              "          element.innerHTML = '';\n",
              "          dataTable['output_type'] = 'display_data';\n",
              "          await google.colab.output.renderOutput(dataTable, element);\n",
              "          const docLink = document.createElement('div');\n",
              "          docLink.innerHTML = docLinkHtml;\n",
              "          element.appendChild(docLink);\n",
              "        }\n",
              "      </script>\n",
              "    </div>\n",
              "  </div>\n",
              "  "
            ]
          },
          "metadata": {},
          "execution_count": 63
        }
      ],
      "source": [
        "Top_10"
      ]
    },
    {
      "cell_type": "code",
      "execution_count": 64,
      "metadata": {
        "colab": {
          "base_uri": "https://localhost:8080/"
        },
        "id": "1nrBezEqwbXL",
        "outputId": "bc905cb0-7662-4458-d705-1aeeb9c2b798"
      },
      "outputs": [
        {
          "output_type": "execute_result",
          "data": {
            "text/plain": [
              "2019.0    641\n",
              "2017.0    542\n",
              "2018.0    523\n",
              "2016.0    503\n",
              "2014.0    479\n",
              "         ... \n",
              "2023.0      1\n",
              "1916.0      1\n",
              "1923.0      1\n",
              "1903.0      1\n",
              "1915.0      1\n",
              "Name: year_of_release, Length: 108, dtype: int64"
            ]
          },
          "metadata": {},
          "execution_count": 64
        }
      ],
      "source": [
        "data['year_of_release'].value_counts()"
      ]
    },
    {
      "cell_type": "code",
      "execution_count": 65,
      "metadata": {
        "colab": {
          "base_uri": "https://localhost:8080/"
        },
        "id": "5bc39qRKw0m5",
        "outputId": "206b6653-6f81-4c35-f83a-713b16b7c1f9"
      },
      "outputs": [
        {
          "output_type": "execute_result",
          "data": {
            "text/plain": [
              "75    Avengers: Endgame\n",
              "Name: Title, dtype: object"
            ]
          },
          "metadata": {},
          "execution_count": 65
        }
      ],
      "source": [
        "data[data['Revenue'].max()==data['Revenue']]['Title']\n"
      ]
    },
    {
      "cell_type": "code",
      "execution_count": 66,
      "metadata": {
        "id": "llULBp_3x8a3"
      },
      "outputs": [],
      "source": [
        "top_10=data.nlargest(10,'Rating_Count')[['Title','Rating_Count']]\n",
        "set_index=('Title')"
      ]
    },
    {
      "cell_type": "code",
      "execution_count": 67,
      "metadata": {
        "colab": {
          "base_uri": "https://localhost:8080/",
          "height": 363
        },
        "id": "qjsMlZiFyn0L",
        "outputId": "1cd1c0e7-ab93-4561-fd27-834a61b7ade5"
      },
      "outputs": [
        {
          "output_type": "execute_result",
          "data": {
            "text/plain": [
              "                       Title  Rating_Count\n",
              "81                 Inception         25159\n",
              "128                 Deadpool         22246\n",
              "87              The Avengers         21907\n",
              "47              Interstellar         21605\n",
              "89           The Dark Knight         21575\n",
              "16           The Dark Knight         21575\n",
              "132                   Avatar         20789\n",
              "404  Guardians of the Galaxy         20146\n",
              "245               Fight Club         18679\n",
              "218             Pulp Fiction         18018"
            ],
            "text/html": [
              "\n",
              "  <div id=\"df-10920692-4263-4697-8bcb-5a3b664ae6e0\">\n",
              "    <div class=\"colab-df-container\">\n",
              "      <div>\n",
              "<style scoped>\n",
              "    .dataframe tbody tr th:only-of-type {\n",
              "        vertical-align: middle;\n",
              "    }\n",
              "\n",
              "    .dataframe tbody tr th {\n",
              "        vertical-align: top;\n",
              "    }\n",
              "\n",
              "    .dataframe thead th {\n",
              "        text-align: right;\n",
              "    }\n",
              "</style>\n",
              "<table border=\"1\" class=\"dataframe\">\n",
              "  <thead>\n",
              "    <tr style=\"text-align: right;\">\n",
              "      <th></th>\n",
              "      <th>Title</th>\n",
              "      <th>Rating_Count</th>\n",
              "    </tr>\n",
              "  </thead>\n",
              "  <tbody>\n",
              "    <tr>\n",
              "      <th>81</th>\n",
              "      <td>Inception</td>\n",
              "      <td>25159</td>\n",
              "    </tr>\n",
              "    <tr>\n",
              "      <th>128</th>\n",
              "      <td>Deadpool</td>\n",
              "      <td>22246</td>\n",
              "    </tr>\n",
              "    <tr>\n",
              "      <th>87</th>\n",
              "      <td>The Avengers</td>\n",
              "      <td>21907</td>\n",
              "    </tr>\n",
              "    <tr>\n",
              "      <th>47</th>\n",
              "      <td>Interstellar</td>\n",
              "      <td>21605</td>\n",
              "    </tr>\n",
              "    <tr>\n",
              "      <th>89</th>\n",
              "      <td>The Dark Knight</td>\n",
              "      <td>21575</td>\n",
              "    </tr>\n",
              "    <tr>\n",
              "      <th>16</th>\n",
              "      <td>The Dark Knight</td>\n",
              "      <td>21575</td>\n",
              "    </tr>\n",
              "    <tr>\n",
              "      <th>132</th>\n",
              "      <td>Avatar</td>\n",
              "      <td>20789</td>\n",
              "    </tr>\n",
              "    <tr>\n",
              "      <th>404</th>\n",
              "      <td>Guardians of the Galaxy</td>\n",
              "      <td>20146</td>\n",
              "    </tr>\n",
              "    <tr>\n",
              "      <th>245</th>\n",
              "      <td>Fight Club</td>\n",
              "      <td>18679</td>\n",
              "    </tr>\n",
              "    <tr>\n",
              "      <th>218</th>\n",
              "      <td>Pulp Fiction</td>\n",
              "      <td>18018</td>\n",
              "    </tr>\n",
              "  </tbody>\n",
              "</table>\n",
              "</div>\n",
              "      <button class=\"colab-df-convert\" onclick=\"convertToInteractive('df-10920692-4263-4697-8bcb-5a3b664ae6e0')\"\n",
              "              title=\"Convert this dataframe to an interactive table.\"\n",
              "              style=\"display:none;\">\n",
              "        \n",
              "  <svg xmlns=\"http://www.w3.org/2000/svg\" height=\"24px\"viewBox=\"0 0 24 24\"\n",
              "       width=\"24px\">\n",
              "    <path d=\"M0 0h24v24H0V0z\" fill=\"none\"/>\n",
              "    <path d=\"M18.56 5.44l.94 2.06.94-2.06 2.06-.94-2.06-.94-.94-2.06-.94 2.06-2.06.94zm-11 1L8.5 8.5l.94-2.06 2.06-.94-2.06-.94L8.5 2.5l-.94 2.06-2.06.94zm10 10l.94 2.06.94-2.06 2.06-.94-2.06-.94-.94-2.06-.94 2.06-2.06.94z\"/><path d=\"M17.41 7.96l-1.37-1.37c-.4-.4-.92-.59-1.43-.59-.52 0-1.04.2-1.43.59L10.3 9.45l-7.72 7.72c-.78.78-.78 2.05 0 2.83L4 21.41c.39.39.9.59 1.41.59.51 0 1.02-.2 1.41-.59l7.78-7.78 2.81-2.81c.8-.78.8-2.07 0-2.86zM5.41 20L4 18.59l7.72-7.72 1.47 1.35L5.41 20z\"/>\n",
              "  </svg>\n",
              "      </button>\n",
              "      \n",
              "  <style>\n",
              "    .colab-df-container {\n",
              "      display:flex;\n",
              "      flex-wrap:wrap;\n",
              "      gap: 12px;\n",
              "    }\n",
              "\n",
              "    .colab-df-convert {\n",
              "      background-color: #E8F0FE;\n",
              "      border: none;\n",
              "      border-radius: 50%;\n",
              "      cursor: pointer;\n",
              "      display: none;\n",
              "      fill: #1967D2;\n",
              "      height: 32px;\n",
              "      padding: 0 0 0 0;\n",
              "      width: 32px;\n",
              "    }\n",
              "\n",
              "    .colab-df-convert:hover {\n",
              "      background-color: #E2EBFA;\n",
              "      box-shadow: 0px 1px 2px rgba(60, 64, 67, 0.3), 0px 1px 3px 1px rgba(60, 64, 67, 0.15);\n",
              "      fill: #174EA6;\n",
              "    }\n",
              "\n",
              "    [theme=dark] .colab-df-convert {\n",
              "      background-color: #3B4455;\n",
              "      fill: #D2E3FC;\n",
              "    }\n",
              "\n",
              "    [theme=dark] .colab-df-convert:hover {\n",
              "      background-color: #434B5C;\n",
              "      box-shadow: 0px 1px 3px 1px rgba(0, 0, 0, 0.15);\n",
              "      filter: drop-shadow(0px 1px 2px rgba(0, 0, 0, 0.3));\n",
              "      fill: #FFFFFF;\n",
              "    }\n",
              "  </style>\n",
              "\n",
              "      <script>\n",
              "        const buttonEl =\n",
              "          document.querySelector('#df-10920692-4263-4697-8bcb-5a3b664ae6e0 button.colab-df-convert');\n",
              "        buttonEl.style.display =\n",
              "          google.colab.kernel.accessAllowed ? 'block' : 'none';\n",
              "\n",
              "        async function convertToInteractive(key) {\n",
              "          const element = document.querySelector('#df-10920692-4263-4697-8bcb-5a3b664ae6e0');\n",
              "          const dataTable =\n",
              "            await google.colab.kernel.invokeFunction('convertToInteractive',\n",
              "                                                     [key], {});\n",
              "          if (!dataTable) return;\n",
              "\n",
              "          const docLinkHtml = 'Like what you see? Visit the ' +\n",
              "            '<a target=\"_blank\" href=https://colab.research.google.com/notebooks/data_table.ipynb>data table notebook</a>'\n",
              "            + ' to learn more about interactive tables.';\n",
              "          element.innerHTML = '';\n",
              "          dataTable['output_type'] = 'display_data';\n",
              "          await google.colab.output.renderOutput(dataTable, element);\n",
              "          const docLink = document.createElement('div');\n",
              "          docLink.innerHTML = docLinkHtml;\n",
              "          element.appendChild(docLink);\n",
              "        }\n",
              "      </script>\n",
              "    </div>\n",
              "  </div>\n",
              "  "
            ]
          },
          "metadata": {},
          "execution_count": 67
        }
      ],
      "source": [
        "top_10"
      ]
    },
    {
      "cell_type": "code",
      "source": [
        "top_voted = data.sort_values(['Rating_Count'], ascending = False)"
      ],
      "metadata": {
        "id": "OhyOA3yB23cl"
      },
      "execution_count": 68,
      "outputs": []
    },
    {
      "cell_type": "code",
      "execution_count": 69,
      "metadata": {
        "id": "qWhyqO7bzU8T",
        "colab": {
          "base_uri": "https://localhost:8080/",
          "height": 350
        },
        "outputId": "63003be0-a317-480c-b55f-6d85334bce56"
      },
      "outputs": [
        {
          "output_type": "display_data",
          "data": {
            "text/plain": [
              "<Figure size 1080x360 with 1 Axes>"
            ],
            "image/png": "[encoded data removed]"
          },
          "metadata": {
            "needs_background": "light"
          }
        }
      ],
      "source": [
        "fig,axs=plt.subplots(figsize=(15,5))\n",
        "g=sns.barplot(x=top_voted['Title'][:7],y=top_voted['Rating_Count'][:7], palette = 'hls')\n",
        "g.set_title(\"Top Rated Movies\", weight = \"bold\")\n",
        "plt.show()"
      ]
    },
    {
      "cell_type": "markdown",
      "source": [
        "# Recommendation System\n"
      ],
      "metadata": {
        "id": "FAGYeVvfQO70"
      }
    },
    {
      "cell_type": "code",
      "source": [
        "features=['Genres','Cast','tag_final','Original_Language','Production_Companies','Country_of_Origin']"
      ],
      "metadata": {
        "id": "paLv8wfoB68q"
      },
      "execution_count": 70,
      "outputs": []
    },
    {
      "cell_type": "code",
      "source": [
        "for feature in features:\n",
        "  data[feature]=data[feature].fillna('')"
      ],
      "metadata": {
        "id": "pVOoJDCSYsWA"
      },
      "execution_count": 71,
      "outputs": []
    },
    {
      "cell_type": "code",
      "source": [
        "def combine_features(row):\n",
        "  return row['Genres'] + ' '+row['Cast']+' '+ row['tag_final']+row['Original_Language']+row['Production_Companies']+row['Country_of_Origin']"
      ],
      "metadata": {
        "id": "7dPgg9SeWoSd"
      },
      "execution_count": 72,
      "outputs": []
    },
    {
      "cell_type": "code",
      "source": [
        "data['features']=data.apply(combine_features,axis=1)"
      ],
      "metadata": {
        "id": "ja1n6mjbXddl"
      },
      "execution_count": 73,
      "outputs": []
    },
    {
      "cell_type": "code",
      "source": [
        "data['features'].head()"
      ],
      "metadata": {
        "colab": {
          "base_uri": "https://localhost:8080/"
        },
        "id": "82f_y6MyYkFM",
        "outputId": "970b719f-63ce-45bc-f689-386c80d11272"
      },
      "execution_count": 74,
      "outputs": [
        {
          "output_type": "execute_result",
          "data": {
            "text/plain": [
              "0    Drama , Science Fiction Brad Pitt , Tommy Lee ...\n",
              "1    Action , Science Fiction Vin Diesel , Eiza Gon...\n",
              "2    Action , Crime , Thriller Will Smith , Martin ...\n",
              "3    Action , Adventure , Science Fiction Paul Rudd...\n",
              "4    Adventure , Fantasy , Family Logan Lerman , Al...\n",
              "Name: features, dtype: object"
            ]
          },
          "metadata": {},
          "execution_count": 74
        }
      ]
    },
    {
      "cell_type": "code",
      "execution_count": 75,
      "metadata": {
        "colab": {
          "base_uri": "https://localhost:8080/"
        },
        "id": "bDYjIaJSiMqW",
        "outputId": "542afe36-c38f-456b-b35b-423b3b5e86da"
      },
      "outputs": [
        {
          "output_type": "stream",
          "name": "stderr",
          "text": [
            "[nltk_data] Downloading package stopwords to /root/nltk_data...\n",
            "[nltk_data]   Unzipping corpora/stopwords.zip.\n"
          ]
        },
        {
          "output_type": "execute_result",
          "data": {
            "text/plain": [
              "True"
            ]
          },
          "metadata": {},
          "execution_count": 75
        }
      ],
      "source": [
        "import string\n",
        "import nltk\n",
        "from nltk.corpus import stopwords\n",
        "nltk.download('stopwords') "
      ]
    },
    {
      "cell_type": "code",
      "execution_count": 76,
      "metadata": {
        "id": "XfM9ldFjijOY"
      },
      "outputs": [],
      "source": [
        "from nltk.stem.porter import PorterStemmer\n",
        "ps=PorterStemmer()"
      ]
    },
    {
      "cell_type": "code",
      "source": [
        "nltk.download('punkt')"
      ],
      "metadata": {
        "colab": {
          "base_uri": "https://localhost:8080/"
        },
        "id": "hh4taRfMA7O0",
        "outputId": "dd38d0dd-2d92-4761-fba1-994ff649b226"
      },
      "execution_count": 77,
      "outputs": [
        {
          "output_type": "stream",
          "name": "stderr",
          "text": [
            "[nltk_data] Downloading package punkt to /root/nltk_data...\n",
            "[nltk_data]   Unzipping tokenizers/punkt.zip.\n"
          ]
        },
        {
          "output_type": "execute_result",
          "data": {
            "text/plain": [
              "True"
            ]
          },
          "metadata": {},
          "execution_count": 77
        }
      ]
    },
    {
      "cell_type": "code",
      "execution_count": 78,
      "metadata": {
        "id": "V_mJ5NOointA"
      },
      "outputs": [],
      "source": [
        "def transform_text(text):\n",
        "  text=text.lower()\n",
        "  text=nltk.word_tokenize(text)\n",
        "  y=[]\n",
        "  for i in text:\n",
        "    if i.isalnum():\n",
        "       y.append(i)\n",
        "\n",
        "  text=y[:]\n",
        "  y.clear()\n",
        "\n",
        "  for i in text:\n",
        "    if i not in stopwords.words('english') and i not in string.punctuation:\n",
        "      y.append(i)\n",
        "\n",
        "  text=y[:]\n",
        "  y.clear( )\n",
        "  for i in text:\n",
        "      y.append(ps.stem(i))\n",
        "\n",
        "  return \" \".join(y)"
      ]
    },
    {
      "cell_type": "code",
      "source": [
        "data_final=data['features'].apply(transform_text)"
      ],
      "metadata": {
        "id": "veH5M8QtZHJm"
      },
      "execution_count": 79,
      "outputs": []
    },
    {
      "cell_type": "code",
      "source": [
        "data_final"
      ],
      "metadata": {
        "colab": {
          "base_uri": "https://localhost:8080/"
        },
        "id": "pS3SCnw_bAAr",
        "outputId": "f2a89f87-c302-44d2-bd8a-231ae2c26da7"
      },
      "execution_count": 80,
      "outputs": [
        {
          "output_type": "execute_result",
          "data": {
            "text/plain": [
              "0       drama scienc fiction brad pitt tommi lee jone ...\n",
              "1       action scienc fiction vin diesel eiza gonzález...\n",
              "2       action crime thriller smith martin lawrenc pao...\n",
              "3       action adventur scienc fiction paul rudd micha...\n",
              "4       adventur fantasi famili logan lerman alexandra...\n",
              "                              ...                        \n",
              "7071    comedi aldo baglio giovanni storti giacomo por...\n",
              "7078    comedi massimo boldi vincenzo salemm enzo salv...\n",
              "7081    comedi paolo ruffini guglielmo scilla andrea p...\n",
              "7089    comedi veronica olivi beatric flammini flavia ...\n",
              "7093    horror thriller stephen dorff natascha mcelhon...\n",
              "Name: features, Length: 10886, dtype: object"
            ]
          },
          "metadata": {},
          "execution_count": 80
        }
      ]
    },
    {
      "cell_type": "code",
      "source": [
        "data_final[0]"
      ],
      "metadata": {
        "colab": {
          "base_uri": "https://localhost:8080/",
          "height": 140
        },
        "id": "QN_qtELsRzXw",
        "outputId": "9fe0a8d4-a263-4f6d-9fe6-cb6d36218122"
      },
      "execution_count": 81,
      "outputs": [
        {
          "output_type": "execute_result",
          "data": {
            "text/plain": [
              "'drama scienc fiction brad pitt tommi lee jone ruth negga john ortiz liv tyler donald sutherland greg bryk loren dean kimberli elis john finn lisagay hamilton donni keshawarz bobbi nish sean blakemor freda foh shen kayla adam ravi kapoor elisa perri daniel sauli kimmi shield kunal dudhek alyson reed sasha compèr justin dray alexandria rousset natasha lyonn zoro saro manuel daghlian jacob sandler elizabeth willaman near futur time hope hardship drive human look star beyond mysteri phenomenon menac destroy life planet earth astronaut roy mcbride undertak mission across immens space mani peril uncov truth lost expedit decad boldli face empti silenc search answer seek outsid reachenglishnew regenc product keep head madriv pictur plan b entertain rt featur bona film group tsg entertainmentbrazil china unit state america'"
            ],
            "application/vnd.google.colaboratory.intrinsic+json": {
              "type": "string"
            }
          },
          "metadata": {},
          "execution_count": 81
        }
      ]
    },
    {
      "cell_type": "markdown",
      "source": [
        "# 1.  Content Based Recommendation System"
      ],
      "metadata": {
        "id": "_1c0e5myR2xm"
      }
    },
    {
      "cell_type": "code",
      "source": [
        "from sklearn.feature_extraction.text import CountVectorizer"
      ],
      "metadata": {
        "id": "YOTE2FlrbCLc"
      },
      "execution_count": 82,
      "outputs": []
    },
    {
      "cell_type": "code",
      "source": [
        "cv= CountVectorizer()"
      ],
      "metadata": {
        "id": "ZwoPkTixdOqe"
      },
      "execution_count": 83,
      "outputs": []
    },
    {
      "cell_type": "code",
      "source": [
        "count_matrix=cv.fit_transform(data_final)"
      ],
      "metadata": {
        "id": "QUYLKDQki_TX"
      },
      "execution_count": 84,
      "outputs": []
    },
    {
      "cell_type": "code",
      "source": [
        "from sklearn.metrics.pairwise import cosine_similarity"
      ],
      "metadata": {
        "id": "HTE9_rekk6bz"
      },
      "execution_count": 85,
      "outputs": []
    },
    {
      "cell_type": "code",
      "source": [
        "cosine_sim= cosine_similarity(count_matrix)\n"
      ],
      "metadata": {
        "id": "XOf2zK0-llYp"
      },
      "execution_count": 86,
      "outputs": []
    },
    {
      "cell_type": "code",
      "source": [
        "cosine_sim[0]"
      ],
      "metadata": {
        "colab": {
          "base_uri": "https://localhost:8080/"
        },
        "id": "Et5SCX2JzuwZ",
        "outputId": "94a7cdbe-9514-4c0a-8c25-326194b219e1"
      },
      "execution_count": 87,
      "outputs": [
        {
          "output_type": "execute_result",
          "data": {
            "text/plain": [
              "array([1.        , 0.11953045, 0.06441021, ..., 0.02738442, 0.00810042,\n",
              "       0.09914626])"
            ]
          },
          "metadata": {},
          "execution_count": 87
        }
      ]
    },
    {
      "cell_type": "code",
      "source": [
        "def recommendation(movie_title):\n",
        "    id_of_movie= data_final[data['Title']==movie_title].index[0]\n",
        "    distances = cosine_sim[id_of_movie]\n",
        "    movie_list = sorted(list(enumerate(distances)), reverse=True, key=lambda x:x[1])[1:10]\n",
        "    \n",
        "    for i in movie_list:\n",
        "        print(data.iloc[i[0]].Title)"
      ],
      "metadata": {
        "id": "rddvBRhmmM9p"
      },
      "execution_count": 92,
      "outputs": []
    },
    {
      "cell_type": "code",
      "source": [
        "# Build a code which will not give error when we type thhe \"movie name\" in different letter case or we type\n",
        "# a name of any movie which is not in our datset\n",
        "recommendation('Avatar')"
      ],
      "metadata": {
        "colab": {
          "base_uri": "https://localhost:8080/"
        },
        "id": "PcvQnOg9nSrz",
        "outputId": "8d29ce5e-3f83-4536-9e5c-abcbb0b785c4"
      },
      "execution_count": 93,
      "outputs": [
        {
          "output_type": "stream",
          "name": "stdout",
          "text": [
            "Avatar 2\n",
            "The Dark Knight\n",
            "The Dark Knight\n",
            "Star Trek Into Darkness\n",
            "Fantastic Four\n",
            "Idiocracy\n",
            "X-Men Origins: Wolverine\n",
            "Night at the Museum: Secret of the Tomb\n",
            "The Dark Knight Rises\n"
          ]
        }
      ]
    },
    {
      "cell_type": "code",
      "source": [
        "recommendation('Iron Man')"
      ],
      "metadata": {
        "colab": {
          "base_uri": "https://localhost:8080/"
        },
        "id": "9Go3akOMMlee",
        "outputId": "c8c3b58b-d439-48dd-a357-f3d2d1975e1f"
      },
      "execution_count": 94,
      "outputs": [
        {
          "output_type": "stream",
          "name": "stdout",
          "text": [
            "Iron Man 2\n",
            "Iron Man 3\n",
            "The Avengers\n",
            "Marvel Studios: Assembling a Universe\n",
            "Avengers: Endgame\n",
            "Avengers: Infinity War\n",
            "The Incredible Hulk\n",
            "Sherlock Holmes\n",
            "A Time to Kill\n"
          ]
        }
      ]
    },
    {
      "cell_type": "code",
      "source": [
        "#for deployment"
      ],
      "metadata": {
        "id": "vqfmUgoO8LBP"
      },
      "execution_count": 95,
      "outputs": []
    },
    {
      "cell_type": "code",
      "source": [
        "import pickle"
      ],
      "metadata": {
        "id": "BIpbQUO-8NVC"
      },
      "execution_count": 96,
      "outputs": []
    },
    {
      "cell_type": "code",
      "source": [
        "data['Title'].values"
      ],
      "metadata": {
        "colab": {
          "base_uri": "https://localhost:8080/"
        },
        "id": "QiPLTUAY8Ozc",
        "outputId": "be23f9dc-e23b-43f7-b363-4577d56d2f78"
      },
      "execution_count": 98,
      "outputs": [
        {
          "output_type": "execute_result",
          "data": {
            "text/plain": [
              "array(['Ad Astra', 'Bloodshot', 'Bad Boys for Life', ...,\n",
              "       'Fuga di cervelli', 'Amore 14', 'FearDotCom'], dtype=object)"
            ]
          },
          "metadata": {},
          "execution_count": 98
        }
      ]
    },
    {
      "cell_type": "code",
      "source": [
        "similarity=pickle.dump(cosine_sim,open('similarity.pkl','wb'))\n",
        "movies_dict=pickle.dump(data.to_dict(),open('movies_data.pkl','wb'))"
      ],
      "metadata": {
        "id": "OdqJd24u8ZBa"
      },
      "execution_count": 104,
      "outputs": []
    },
    {
      "cell_type": "markdown",
      "source": [
        "#2.POPULARITY BASED RECOMMENDATION SYSTEM"
      ],
      "metadata": {
        "id": "YYhJJazh0mHW"
      }
    },
    {
      "cell_type": "code",
      "source": [
        "data.keys()"
      ],
      "metadata": {
        "colab": {
          "base_uri": "https://localhost:8080/"
        },
        "id": "gktlD_L21Q9E",
        "outputId": "4723d856-d23c-48e1-defa-800ecd8f240b"
      },
      "execution_count": null,
      "outputs": [
        {
          "output_type": "execute_result",
          "data": {
            "text/plain": [
              "Index(['TMDb_Id', 'IMDb_Id', 'Title', 'Original_Title', 'Genres', 'Cast',\n",
              "       'Crew', 'Collection', 'Release_Date', 'Release_Status',\n",
              "       'Original_Language', 'Runtime', 'Popularity', 'Rating_average',\n",
              "       'Rating_Count', 'Production_Companies', 'Country_of_Origin', 'Budget',\n",
              "       'Revenue', 'year_of_release', 'movie_Id', 'tag_final', 'features'],\n",
              "      dtype='object')"
            ]
          },
          "metadata": {},
          "execution_count": 198
        }
      ]
    },
    {
      "cell_type": "code",
      "source": [
        "df=data[['movie_Id','Rating_Count','Rating_average','Title','Popularity']]"
      ],
      "metadata": {
        "id": "CJ6y1-3P0ocA"
      },
      "execution_count": null,
      "outputs": []
    },
    {
      "cell_type": "code",
      "source": [
        "df"
      ],
      "metadata": {
        "colab": {
          "base_uri": "https://localhost:8080/",
          "height": 424
        },
        "id": "qkazrsiV1oGy",
        "outputId": "1f97a186-e97f-4d67-d48a-c93e226ec316"
      },
      "execution_count": null,
      "outputs": [
        {
          "output_type": "execute_result",
          "data": {
            "text/plain": [
              "      movie_Id  Rating_Count  Rating_average                           Title  \\\n",
              "0       419704          2863             5.9                        Ad Astra   \n",
              "1       338762          1384             7.2                       Bloodshot   \n",
              "2        38700          2596             7.1               Bad Boys for Life   \n",
              "3       102899         13625             7.1                         Ant-Man   \n",
              "4        76285          3547             5.9  Percy Jackson: Sea of Monsters   \n",
              "...        ...           ...             ...                             ...   \n",
              "7071    419507           313             3.9              Fuga da Reuma Park   \n",
              "7078    103112           225             3.9                             Olè   \n",
              "7081    238930           335             3.8                Fuga di cervelli   \n",
              "7089     35885           200             3.7                        Amore 14   \n",
              "7093      9544           206             3.6                      FearDotCom   \n",
              "\n",
              "      Popularity  \n",
              "0        463.487  \n",
              "1        235.701  \n",
              "2        255.068  \n",
              "3        134.294  \n",
              "4        124.417  \n",
              "...          ...  \n",
              "7071       5.351  \n",
              "7078       6.200  \n",
              "7081       4.897  \n",
              "7089       7.818  \n",
              "7093       9.853  \n",
              "\n",
              "[10886 rows x 5 columns]"
            ],
            "text/html": [
              "\n",
              "  <div id=\"df-76343131-3c92-41d9-8131-339baf572212\">\n",
              "    <div class=\"colab-df-container\">\n",
              "      <div>\n",
              "<style scoped>\n",
              "    .dataframe tbody tr th:only-of-type {\n",
              "        vertical-align: middle;\n",
              "    }\n",
              "\n",
              "    .dataframe tbody tr th {\n",
              "        vertical-align: top;\n",
              "    }\n",
              "\n",
              "    .dataframe thead th {\n",
              "        text-align: right;\n",
              "    }\n",
              "</style>\n",
              "<table border=\"1\" class=\"dataframe\">\n",
              "  <thead>\n",
              "    <tr style=\"text-align: right;\">\n",
              "      <th></th>\n",
              "      <th>movie_Id</th>\n",
              "      <th>Rating_Count</th>\n",
              "      <th>Rating_average</th>\n",
              "      <th>Title</th>\n",
              "      <th>Popularity</th>\n",
              "    </tr>\n",
              "  </thead>\n",
              "  <tbody>\n",
              "    <tr>\n",
              "      <th>0</th>\n",
              "      <td>419704</td>\n",
              "      <td>2863</td>\n",
              "      <td>5.9</td>\n",
              "      <td>Ad Astra</td>\n",
              "      <td>463.487</td>\n",
              "    </tr>\n",
              "    <tr>\n",
              "      <th>1</th>\n",
              "      <td>338762</td>\n",
              "      <td>1384</td>\n",
              "      <td>7.2</td>\n",
              "      <td>Bloodshot</td>\n",
              "      <td>235.701</td>\n",
              "    </tr>\n",
              "    <tr>\n",
              "      <th>2</th>\n",
              "      <td>38700</td>\n",
              "      <td>2596</td>\n",
              "      <td>7.1</td>\n",
              "      <td>Bad Boys for Life</td>\n",
              "      <td>255.068</td>\n",
              "    </tr>\n",
              "    <tr>\n",
              "      <th>3</th>\n",
              "      <td>102899</td>\n",
              "      <td>13625</td>\n",
              "      <td>7.1</td>\n",
              "      <td>Ant-Man</td>\n",
              "      <td>134.294</td>\n",
              "    </tr>\n",
              "    <tr>\n",
              "      <th>4</th>\n",
              "      <td>76285</td>\n",
              "      <td>3547</td>\n",
              "      <td>5.9</td>\n",
              "      <td>Percy Jackson: Sea of Monsters</td>\n",
              "      <td>124.417</td>\n",
              "    </tr>\n",
              "    <tr>\n",
              "      <th>...</th>\n",
              "      <td>...</td>\n",
              "      <td>...</td>\n",
              "      <td>...</td>\n",
              "      <td>...</td>\n",
              "      <td>...</td>\n",
              "    </tr>\n",
              "    <tr>\n",
              "      <th>7071</th>\n",
              "      <td>419507</td>\n",
              "      <td>313</td>\n",
              "      <td>3.9</td>\n",
              "      <td>Fuga da Reuma Park</td>\n",
              "      <td>5.351</td>\n",
              "    </tr>\n",
              "    <tr>\n",
              "      <th>7078</th>\n",
              "      <td>103112</td>\n",
              "      <td>225</td>\n",
              "      <td>3.9</td>\n",
              "      <td>Olè</td>\n",
              "      <td>6.200</td>\n",
              "    </tr>\n",
              "    <tr>\n",
              "      <th>7081</th>\n",
              "      <td>238930</td>\n",
              "      <td>335</td>\n",
              "      <td>3.8</td>\n",
              "      <td>Fuga di cervelli</td>\n",
              "      <td>4.897</td>\n",
              "    </tr>\n",
              "    <tr>\n",
              "      <th>7089</th>\n",
              "      <td>35885</td>\n",
              "      <td>200</td>\n",
              "      <td>3.7</td>\n",
              "      <td>Amore 14</td>\n",
              "      <td>7.818</td>\n",
              "    </tr>\n",
              "    <tr>\n",
              "      <th>7093</th>\n",
              "      <td>9544</td>\n",
              "      <td>206</td>\n",
              "      <td>3.6</td>\n",
              "      <td>FearDotCom</td>\n",
              "      <td>9.853</td>\n",
              "    </tr>\n",
              "  </tbody>\n",
              "</table>\n",
              "<p>10886 rows × 5 columns</p>\n",
              "</div>\n",
              "      <button class=\"colab-df-convert\" onclick=\"convertToInteractive('df-76343131-3c92-41d9-8131-339baf572212')\"\n",
              "              title=\"Convert this dataframe to an interactive table.\"\n",
              "              style=\"display:none;\">\n",
              "        \n",
              "  <svg xmlns=\"http://www.w3.org/2000/svg\" height=\"24px\"viewBox=\"0 0 24 24\"\n",
              "       width=\"24px\">\n",
              "    <path d=\"M0 0h24v24H0V0z\" fill=\"none\"/>\n",
              "    <path d=\"M18.56 5.44l.94 2.06.94-2.06 2.06-.94-2.06-.94-.94-2.06-.94 2.06-2.06.94zm-11 1L8.5 8.5l.94-2.06 2.06-.94-2.06-.94L8.5 2.5l-.94 2.06-2.06.94zm10 10l.94 2.06.94-2.06 2.06-.94-2.06-.94-.94-2.06-.94 2.06-2.06.94z\"/><path d=\"M17.41 7.96l-1.37-1.37c-.4-.4-.92-.59-1.43-.59-.52 0-1.04.2-1.43.59L10.3 9.45l-7.72 7.72c-.78.78-.78 2.05 0 2.83L4 21.41c.39.39.9.59 1.41.59.51 0 1.02-.2 1.41-.59l7.78-7.78 2.81-2.81c.8-.78.8-2.07 0-2.86zM5.41 20L4 18.59l7.72-7.72 1.47 1.35L5.41 20z\"/>\n",
              "  </svg>\n",
              "      </button>\n",
              "      \n",
              "  <style>\n",
              "    .colab-df-container {\n",
              "      display:flex;\n",
              "      flex-wrap:wrap;\n",
              "      gap: 12px;\n",
              "    }\n",
              "\n",
              "    .colab-df-convert {\n",
              "      background-color: #E8F0FE;\n",
              "      border: none;\n",
              "      border-radius: 50%;\n",
              "      cursor: pointer;\n",
              "      display: none;\n",
              "      fill: #1967D2;\n",
              "      height: 32px;\n",
              "      padding: 0 0 0 0;\n",
              "      width: 32px;\n",
              "    }\n",
              "\n",
              "    .colab-df-convert:hover {\n",
              "      background-color: #E2EBFA;\n",
              "      box-shadow: 0px 1px 2px rgba(60, 64, 67, 0.3), 0px 1px 3px 1px rgba(60, 64, 67, 0.15);\n",
              "      fill: #174EA6;\n",
              "    }\n",
              "\n",
              "    [theme=dark] .colab-df-convert {\n",
              "      background-color: #3B4455;\n",
              "      fill: #D2E3FC;\n",
              "    }\n",
              "\n",
              "    [theme=dark] .colab-df-convert:hover {\n",
              "      background-color: #434B5C;\n",
              "      box-shadow: 0px 1px 3px 1px rgba(0, 0, 0, 0.15);\n",
              "      filter: drop-shadow(0px 1px 2px rgba(0, 0, 0, 0.3));\n",
              "      fill: #FFFFFF;\n",
              "    }\n",
              "  </style>\n",
              "\n",
              "      <script>\n",
              "        const buttonEl =\n",
              "          document.querySelector('#df-76343131-3c92-41d9-8131-339baf572212 button.colab-df-convert');\n",
              "        buttonEl.style.display =\n",
              "          google.colab.kernel.accessAllowed ? 'block' : 'none';\n",
              "\n",
              "        async function convertToInteractive(key) {\n",
              "          const element = document.querySelector('#df-76343131-3c92-41d9-8131-339baf572212');\n",
              "          const dataTable =\n",
              "            await google.colab.kernel.invokeFunction('convertToInteractive',\n",
              "                                                     [key], {});\n",
              "          if (!dataTable) return;\n",
              "\n",
              "          const docLinkHtml = 'Like what you see? Visit the ' +\n",
              "            '<a target=\"_blank\" href=https://colab.research.google.com/notebooks/data_table.ipynb>data table notebook</a>'\n",
              "            + ' to learn more about interactive tables.';\n",
              "          element.innerHTML = '';\n",
              "          dataTable['output_type'] = 'display_data';\n",
              "          await google.colab.output.renderOutput(dataTable, element);\n",
              "          const docLink = document.createElement('div');\n",
              "          docLink.innerHTML = docLinkHtml;\n",
              "          element.appendChild(docLink);\n",
              "        }\n",
              "      </script>\n",
              "    </div>\n",
              "  </div>\n",
              "  "
            ]
          },
          "metadata": {},
          "execution_count": 200
        }
      ]
    },
    {
      "cell_type": "code",
      "source": [
        "df.isnull().sum()"
      ],
      "metadata": {
        "colab": {
          "base_uri": "https://localhost:8080/"
        },
        "id": "LGWhz2wNy3PE",
        "outputId": "109d0b83-552a-4281-c040-661e9534b00b"
      },
      "execution_count": null,
      "outputs": [
        {
          "output_type": "execute_result",
          "data": {
            "text/plain": [
              "movie_Id          0\n",
              "Rating_Count      0\n",
              "Rating_average    0\n",
              "Title             0\n",
              "Popularity        0\n",
              "dtype: int64"
            ]
          },
          "metadata": {},
          "execution_count": 201
        }
      ]
    },
    {
      "cell_type": "code",
      "source": [
        "movies.head()"
      ],
      "metadata": {
        "colab": {
          "base_uri": "https://localhost:8080/",
          "height": 206
        },
        "id": "V2m0I1YGNext",
        "outputId": "8b8a4c30-a9ad-40ca-da34-4cd9ef3d1408"
      },
      "execution_count": null,
      "outputs": [
        {
          "output_type": "execute_result",
          "data": {
            "text/plain": [
              "   movie_Id  Rating_Count  Rating_average  \\\n",
              "0    419704          2863             5.9   \n",
              "3    102899         13625             7.1   \n",
              "4     76285          3547             5.9   \n",
              "5    495764          2681             7.1   \n",
              "6      1571          3717             6.5   \n",
              "\n",
              "                                               Title  Popularity  \n",
              "0                                           Ad Astra     463.487  \n",
              "3                                            Ant-Man     134.294  \n",
              "4                     Percy Jackson: Sea of Monsters     124.417  \n",
              "5  Birds of Prey (and the Fantabulous Emancipatio...     192.582  \n",
              "6                              Live Free or Die Hard     101.430  "
            ],
            "text/html": [
              "\n",
              "  <div id=\"df-ed3eee6c-bdd1-482b-8978-9123aa918d24\">\n",
              "    <div class=\"colab-df-container\">\n",
              "      <div>\n",
              "<style scoped>\n",
              "    .dataframe tbody tr th:only-of-type {\n",
              "        vertical-align: middle;\n",
              "    }\n",
              "\n",
              "    .dataframe tbody tr th {\n",
              "        vertical-align: top;\n",
              "    }\n",
              "\n",
              "    .dataframe thead th {\n",
              "        text-align: right;\n",
              "    }\n",
              "</style>\n",
              "<table border=\"1\" class=\"dataframe\">\n",
              "  <thead>\n",
              "    <tr style=\"text-align: right;\">\n",
              "      <th></th>\n",
              "      <th>movie_Id</th>\n",
              "      <th>Rating_Count</th>\n",
              "      <th>Rating_average</th>\n",
              "      <th>Title</th>\n",
              "      <th>Popularity</th>\n",
              "    </tr>\n",
              "  </thead>\n",
              "  <tbody>\n",
              "    <tr>\n",
              "      <th>0</th>\n",
              "      <td>419704</td>\n",
              "      <td>2863</td>\n",
              "      <td>5.9</td>\n",
              "      <td>Ad Astra</td>\n",
              "      <td>463.487</td>\n",
              "    </tr>\n",
              "    <tr>\n",
              "      <th>3</th>\n",
              "      <td>102899</td>\n",
              "      <td>13625</td>\n",
              "      <td>7.1</td>\n",
              "      <td>Ant-Man</td>\n",
              "      <td>134.294</td>\n",
              "    </tr>\n",
              "    <tr>\n",
              "      <th>4</th>\n",
              "      <td>76285</td>\n",
              "      <td>3547</td>\n",
              "      <td>5.9</td>\n",
              "      <td>Percy Jackson: Sea of Monsters</td>\n",
              "      <td>124.417</td>\n",
              "    </tr>\n",
              "    <tr>\n",
              "      <th>5</th>\n",
              "      <td>495764</td>\n",
              "      <td>2681</td>\n",
              "      <td>7.1</td>\n",
              "      <td>Birds of Prey (and the Fantabulous Emancipatio...</td>\n",
              "      <td>192.582</td>\n",
              "    </tr>\n",
              "    <tr>\n",
              "      <th>6</th>\n",
              "      <td>1571</td>\n",
              "      <td>3717</td>\n",
              "      <td>6.5</td>\n",
              "      <td>Live Free or Die Hard</td>\n",
              "      <td>101.430</td>\n",
              "    </tr>\n",
              "  </tbody>\n",
              "</table>\n",
              "</div>\n",
              "      <button class=\"colab-df-convert\" onclick=\"convertToInteractive('df-ed3eee6c-bdd1-482b-8978-9123aa918d24')\"\n",
              "              title=\"Convert this dataframe to an interactive table.\"\n",
              "              style=\"display:none;\">\n",
              "        \n",
              "  <svg xmlns=\"http://www.w3.org/2000/svg\" height=\"24px\"viewBox=\"0 0 24 24\"\n",
              "       width=\"24px\">\n",
              "    <path d=\"M0 0h24v24H0V0z\" fill=\"none\"/>\n",
              "    <path d=\"M18.56 5.44l.94 2.06.94-2.06 2.06-.94-2.06-.94-.94-2.06-.94 2.06-2.06.94zm-11 1L8.5 8.5l.94-2.06 2.06-.94-2.06-.94L8.5 2.5l-.94 2.06-2.06.94zm10 10l.94 2.06.94-2.06 2.06-.94-2.06-.94-.94-2.06-.94 2.06-2.06.94z\"/><path d=\"M17.41 7.96l-1.37-1.37c-.4-.4-.92-.59-1.43-.59-.52 0-1.04.2-1.43.59L10.3 9.45l-7.72 7.72c-.78.78-.78 2.05 0 2.83L4 21.41c.39.39.9.59 1.41.59.51 0 1.02-.2 1.41-.59l7.78-7.78 2.81-2.81c.8-.78.8-2.07 0-2.86zM5.41 20L4 18.59l7.72-7.72 1.47 1.35L5.41 20z\"/>\n",
              "  </svg>\n",
              "      </button>\n",
              "      \n",
              "  <style>\n",
              "    .colab-df-container {\n",
              "      display:flex;\n",
              "      flex-wrap:wrap;\n",
              "      gap: 12px;\n",
              "    }\n",
              "\n",
              "    .colab-df-convert {\n",
              "      background-color: #E8F0FE;\n",
              "      border: none;\n",
              "      border-radius: 50%;\n",
              "      cursor: pointer;\n",
              "      display: none;\n",
              "      fill: #1967D2;\n",
              "      height: 32px;\n",
              "      padding: 0 0 0 0;\n",
              "      width: 32px;\n",
              "    }\n",
              "\n",
              "    .colab-df-convert:hover {\n",
              "      background-color: #E2EBFA;\n",
              "      box-shadow: 0px 1px 2px rgba(60, 64, 67, 0.3), 0px 1px 3px 1px rgba(60, 64, 67, 0.15);\n",
              "      fill: #174EA6;\n",
              "    }\n",
              "\n",
              "    [theme=dark] .colab-df-convert {\n",
              "      background-color: #3B4455;\n",
              "      fill: #D2E3FC;\n",
              "    }\n",
              "\n",
              "    [theme=dark] .colab-df-convert:hover {\n",
              "      background-color: #434B5C;\n",
              "      box-shadow: 0px 1px 3px 1px rgba(0, 0, 0, 0.15);\n",
              "      filter: drop-shadow(0px 1px 2px rgba(0, 0, 0, 0.3));\n",
              "      fill: #FFFFFF;\n",
              "    }\n",
              "  </style>\n",
              "\n",
              "      <script>\n",
              "        const buttonEl =\n",
              "          document.querySelector('#df-ed3eee6c-bdd1-482b-8978-9123aa918d24 button.colab-df-convert');\n",
              "        buttonEl.style.display =\n",
              "          google.colab.kernel.accessAllowed ? 'block' : 'none';\n",
              "\n",
              "        async function convertToInteractive(key) {\n",
              "          const element = document.querySelector('#df-ed3eee6c-bdd1-482b-8978-9123aa918d24');\n",
              "          const dataTable =\n",
              "            await google.colab.kernel.invokeFunction('convertToInteractive',\n",
              "                                                     [key], {});\n",
              "          if (!dataTable) return;\n",
              "\n",
              "          const docLinkHtml = 'Like what you see? Visit the ' +\n",
              "            '<a target=\"_blank\" href=https://colab.research.google.com/notebooks/data_table.ipynb>data table notebook</a>'\n",
              "            + ' to learn more about interactive tables.';\n",
              "          element.innerHTML = '';\n",
              "          dataTable['output_type'] = 'display_data';\n",
              "          await google.colab.output.renderOutput(dataTable, element);\n",
              "          const docLink = document.createElement('div');\n",
              "          docLink.innerHTML = docLinkHtml;\n",
              "          element.appendChild(docLink);\n",
              "        }\n",
              "      </script>\n",
              "    </div>\n",
              "  </div>\n",
              "  "
            ]
          },
          "metadata": {},
          "execution_count": 213
        }
      ]
    },
    {
      "cell_type": "code",
      "source": [
        "#Calculating Weighted Rating for each movie's Average Rating"
      ],
      "metadata": {
        "id": "us2mBeUDXljt"
      },
      "execution_count": null,
      "outputs": []
    },
    {
      "cell_type": "code",
      "source": [
        "def movie_score(x):\n",
        "    R=x['Rating_average']\n",
        "    v=x['Rating_Count']\n",
        "    m=df['Rating_Count'].quantile(q=0.9)\n",
        "    C=df['Rating_average'].mean()\n",
        "    return ((R*v)/(v+m))+((C*m)/(v+m))"
      ],
      "metadata": {
        "id": "F2yn7MnF9GWR"
      },
      "execution_count": null,
      "outputs": []
    },
    {
      "cell_type": "code",
      "source": [
        "df['score']=df.apply(movie_score, axis=1)"
      ],
      "metadata": {
        "id": "yWFBUOY9DW08"
      },
      "execution_count": null,
      "outputs": []
    },
    {
      "cell_type": "code",
      "source": [
        "data_highscore=df.sort_values(by='score', ascending=False)\n",
        "data_highscore"
      ],
      "metadata": {
        "colab": {
          "base_uri": "https://localhost:8080/",
          "height": 424
        },
        "id": "JNm3s34EEiwG",
        "outputId": "167c9fc5-175a-45da-f955-337efdef9b81"
      },
      "execution_count": null,
      "outputs": [
        {
          "output_type": "execute_result",
          "data": {
            "text/plain": [
              "      movie_Id  Rating_Count  Rating_average                     Title  \\\n",
              "97         278         15535             8.7  The Shawshank Redemption   \n",
              "110        238         11774             8.7             The Godfather   \n",
              "218        680         18018             8.5              Pulp Fiction   \n",
              "16         155         21575             8.4           The Dark Knight   \n",
              "89         155         21575             8.4           The Dark Knight   \n",
              "...        ...           ...             ...                       ...   \n",
              "2301       314          2109             4.4                  Catwoman   \n",
              "4024    351460          2798             4.2                Death Note   \n",
              "2011       415          3127             4.3            Batman & Robin   \n",
              "2305     14164          1153             2.6      Dragonball Evolution   \n",
              "925     166424          4230             4.4            Fantastic Four   \n",
              "\n",
              "      Popularity     score  \n",
              "97        57.663  8.356756  \n",
              "110       38.681  8.267086  \n",
              "218       38.846  8.223459  \n",
              "16        50.327  8.174948  \n",
              "89        50.327  8.174948  \n",
              "...          ...       ...  \n",
              "2301      11.803  5.466110  \n",
              "4024      15.077  5.227359  \n",
              "2011      20.305  5.222959  \n",
              "2305      11.502  5.186360  \n",
              "925       14.991  5.136126  \n",
              "\n",
              "[10886 rows x 6 columns]"
            ],
            "text/html": [
              "\n",
              "  <div id=\"df-f6375f18-c575-40a6-8b5e-c01c89e2ffb0\">\n",
              "    <div class=\"colab-df-container\">\n",
              "      <div>\n",
              "<style scoped>\n",
              "    .dataframe tbody tr th:only-of-type {\n",
              "        vertical-align: middle;\n",
              "    }\n",
              "\n",
              "    .dataframe tbody tr th {\n",
              "        vertical-align: top;\n",
              "    }\n",
              "\n",
              "    .dataframe thead th {\n",
              "        text-align: right;\n",
              "    }\n",
              "</style>\n",
              "<table border=\"1\" class=\"dataframe\">\n",
              "  <thead>\n",
              "    <tr style=\"text-align: right;\">\n",
              "      <th></th>\n",
              "      <th>movie_Id</th>\n",
              "      <th>Rating_Count</th>\n",
              "      <th>Rating_average</th>\n",
              "      <th>Title</th>\n",
              "      <th>Popularity</th>\n",
              "      <th>score</th>\n",
              "    </tr>\n",
              "  </thead>\n",
              "  <tbody>\n",
              "    <tr>\n",
              "      <th>97</th>\n",
              "      <td>278</td>\n",
              "      <td>15535</td>\n",
              "      <td>8.7</td>\n",
              "      <td>The Shawshank Redemption</td>\n",
              "      <td>57.663</td>\n",
              "      <td>8.356756</td>\n",
              "    </tr>\n",
              "    <tr>\n",
              "      <th>110</th>\n",
              "      <td>238</td>\n",
              "      <td>11774</td>\n",
              "      <td>8.7</td>\n",
              "      <td>The Godfather</td>\n",
              "      <td>38.681</td>\n",
              "      <td>8.267086</td>\n",
              "    </tr>\n",
              "    <tr>\n",
              "      <th>218</th>\n",
              "      <td>680</td>\n",
              "      <td>18018</td>\n",
              "      <td>8.5</td>\n",
              "      <td>Pulp Fiction</td>\n",
              "      <td>38.846</td>\n",
              "      <td>8.223459</td>\n",
              "    </tr>\n",
              "    <tr>\n",
              "      <th>16</th>\n",
              "      <td>155</td>\n",
              "      <td>21575</td>\n",
              "      <td>8.4</td>\n",
              "      <td>The Dark Knight</td>\n",
              "      <td>50.327</td>\n",
              "      <td>8.174948</td>\n",
              "    </tr>\n",
              "    <tr>\n",
              "      <th>89</th>\n",
              "      <td>155</td>\n",
              "      <td>21575</td>\n",
              "      <td>8.4</td>\n",
              "      <td>The Dark Knight</td>\n",
              "      <td>50.327</td>\n",
              "      <td>8.174948</td>\n",
              "    </tr>\n",
              "    <tr>\n",
              "      <th>...</th>\n",
              "      <td>...</td>\n",
              "      <td>...</td>\n",
              "      <td>...</td>\n",
              "      <td>...</td>\n",
              "      <td>...</td>\n",
              "      <td>...</td>\n",
              "    </tr>\n",
              "    <tr>\n",
              "      <th>2301</th>\n",
              "      <td>314</td>\n",
              "      <td>2109</td>\n",
              "      <td>4.4</td>\n",
              "      <td>Catwoman</td>\n",
              "      <td>11.803</td>\n",
              "      <td>5.466110</td>\n",
              "    </tr>\n",
              "    <tr>\n",
              "      <th>4024</th>\n",
              "      <td>351460</td>\n",
              "      <td>2798</td>\n",
              "      <td>4.2</td>\n",
              "      <td>Death Note</td>\n",
              "      <td>15.077</td>\n",
              "      <td>5.227359</td>\n",
              "    </tr>\n",
              "    <tr>\n",
              "      <th>2011</th>\n",
              "      <td>415</td>\n",
              "      <td>3127</td>\n",
              "      <td>4.3</td>\n",
              "      <td>Batman &amp; Robin</td>\n",
              "      <td>20.305</td>\n",
              "      <td>5.222959</td>\n",
              "    </tr>\n",
              "    <tr>\n",
              "      <th>2305</th>\n",
              "      <td>14164</td>\n",
              "      <td>1153</td>\n",
              "      <td>2.6</td>\n",
              "      <td>Dragonball Evolution</td>\n",
              "      <td>11.502</td>\n",
              "      <td>5.186360</td>\n",
              "    </tr>\n",
              "    <tr>\n",
              "      <th>925</th>\n",
              "      <td>166424</td>\n",
              "      <td>4230</td>\n",
              "      <td>4.4</td>\n",
              "      <td>Fantastic Four</td>\n",
              "      <td>14.991</td>\n",
              "      <td>5.136126</td>\n",
              "    </tr>\n",
              "  </tbody>\n",
              "</table>\n",
              "<p>10886 rows × 6 columns</p>\n",
              "</div>\n",
              "      <button class=\"colab-df-convert\" onclick=\"convertToInteractive('df-f6375f18-c575-40a6-8b5e-c01c89e2ffb0')\"\n",
              "              title=\"Convert this dataframe to an interactive table.\"\n",
              "              style=\"display:none;\">\n",
              "        \n",
              "  <svg xmlns=\"http://www.w3.org/2000/svg\" height=\"24px\"viewBox=\"0 0 24 24\"\n",
              "       width=\"24px\">\n",
              "    <path d=\"M0 0h24v24H0V0z\" fill=\"none\"/>\n",
              "    <path d=\"M18.56 5.44l.94 2.06.94-2.06 2.06-.94-2.06-.94-.94-2.06-.94 2.06-2.06.94zm-11 1L8.5 8.5l.94-2.06 2.06-.94-2.06-.94L8.5 2.5l-.94 2.06-2.06.94zm10 10l.94 2.06.94-2.06 2.06-.94-2.06-.94-.94-2.06-.94 2.06-2.06.94z\"/><path d=\"M17.41 7.96l-1.37-1.37c-.4-.4-.92-.59-1.43-.59-.52 0-1.04.2-1.43.59L10.3 9.45l-7.72 7.72c-.78.78-.78 2.05 0 2.83L4 21.41c.39.39.9.59 1.41.59.51 0 1.02-.2 1.41-.59l7.78-7.78 2.81-2.81c.8-.78.8-2.07 0-2.86zM5.41 20L4 18.59l7.72-7.72 1.47 1.35L5.41 20z\"/>\n",
              "  </svg>\n",
              "      </button>\n",
              "      \n",
              "  <style>\n",
              "    .colab-df-container {\n",
              "      display:flex;\n",
              "      flex-wrap:wrap;\n",
              "      gap: 12px;\n",
              "    }\n",
              "\n",
              "    .colab-df-convert {\n",
              "      background-color: #E8F0FE;\n",
              "      border: none;\n",
              "      border-radius: 50%;\n",
              "      cursor: pointer;\n",
              "      display: none;\n",
              "      fill: #1967D2;\n",
              "      height: 32px;\n",
              "      padding: 0 0 0 0;\n",
              "      width: 32px;\n",
              "    }\n",
              "\n",
              "    .colab-df-convert:hover {\n",
              "      background-color: #E2EBFA;\n",
              "      box-shadow: 0px 1px 2px rgba(60, 64, 67, 0.3), 0px 1px 3px 1px rgba(60, 64, 67, 0.15);\n",
              "      fill: #174EA6;\n",
              "    }\n",
              "\n",
              "    [theme=dark] .colab-df-convert {\n",
              "      background-color: #3B4455;\n",
              "      fill: #D2E3FC;\n",
              "    }\n",
              "\n",
              "    [theme=dark] .colab-df-convert:hover {\n",
              "      background-color: #434B5C;\n",
              "      box-shadow: 0px 1px 3px 1px rgba(0, 0, 0, 0.15);\n",
              "      filter: drop-shadow(0px 1px 2px rgba(0, 0, 0, 0.3));\n",
              "      fill: #FFFFFF;\n",
              "    }\n",
              "  </style>\n",
              "\n",
              "      <script>\n",
              "        const buttonEl =\n",
              "          document.querySelector('#df-f6375f18-c575-40a6-8b5e-c01c89e2ffb0 button.colab-df-convert');\n",
              "        buttonEl.style.display =\n",
              "          google.colab.kernel.accessAllowed ? 'block' : 'none';\n",
              "\n",
              "        async function convertToInteractive(key) {\n",
              "          const element = document.querySelector('#df-f6375f18-c575-40a6-8b5e-c01c89e2ffb0');\n",
              "          const dataTable =\n",
              "            await google.colab.kernel.invokeFunction('convertToInteractive',\n",
              "                                                     [key], {});\n",
              "          if (!dataTable) return;\n",
              "\n",
              "          const docLinkHtml = 'Like what you see? Visit the ' +\n",
              "            '<a target=\"_blank\" href=https://colab.research.google.com/notebooks/data_table.ipynb>data table notebook</a>'\n",
              "            + ' to learn more about interactive tables.';\n",
              "          element.innerHTML = '';\n",
              "          dataTable['output_type'] = 'display_data';\n",
              "          await google.colab.output.renderOutput(dataTable, element);\n",
              "          const docLink = document.createElement('div');\n",
              "          docLink.innerHTML = docLinkHtml;\n",
              "          element.appendChild(docLink);\n",
              "        }\n",
              "      </script>\n",
              "    </div>\n",
              "  </div>\n",
              "  "
            ]
          },
          "metadata": {},
          "execution_count": 221
        }
      ]
    },
    {
      "cell_type": "code",
      "source": [
        "from sklearn.preprocessing import MinMaxScaler\n",
        "\n",
        "scaling=MinMaxScaler()\n",
        "movie_scaled_data=scaling.fit_transform(data_highscore[['score','Popularity']])\n",
        "movie_normalized_data=pd.DataFrame(movie_scaled_data,columns=['normalized_score','normalized_Popularity'])\n",
        "movie_normalized_data.head()\n"
      ],
      "metadata": {
        "colab": {
          "base_uri": "https://localhost:8080/",
          "height": 206
        },
        "id": "OniDvRlJH3L-",
        "outputId": "ab2494e1-6157-4699-a83c-52b9bad54d04"
      },
      "execution_count": null,
      "outputs": [
        {
          "output_type": "execute_result",
          "data": {
            "text/plain": [
              "   normalized_score  normalized_Popularity\n",
              "0          1.000000               0.123276\n",
              "1          0.972158               0.082268\n",
              "2          0.958611               0.082625\n",
              "3          0.943549               0.107428\n",
              "4          0.943549               0.107428"
            ],
            "text/html": [
              "\n",
              "  <div id=\"df-b5708580-1e13-45ad-83b5-040bd3c4a137\">\n",
              "    <div class=\"colab-df-container\">\n",
              "      <div>\n",
              "<style scoped>\n",
              "    .dataframe tbody tr th:only-of-type {\n",
              "        vertical-align: middle;\n",
              "    }\n",
              "\n",
              "    .dataframe tbody tr th {\n",
              "        vertical-align: top;\n",
              "    }\n",
              "\n",
              "    .dataframe thead th {\n",
              "        text-align: right;\n",
              "    }\n",
              "</style>\n",
              "<table border=\"1\" class=\"dataframe\">\n",
              "  <thead>\n",
              "    <tr style=\"text-align: right;\">\n",
              "      <th></th>\n",
              "      <th>normalized_score</th>\n",
              "      <th>normalized_Popularity</th>\n",
              "    </tr>\n",
              "  </thead>\n",
              "  <tbody>\n",
              "    <tr>\n",
              "      <th>0</th>\n",
              "      <td>1.000000</td>\n",
              "      <td>0.123276</td>\n",
              "    </tr>\n",
              "    <tr>\n",
              "      <th>1</th>\n",
              "      <td>0.972158</td>\n",
              "      <td>0.082268</td>\n",
              "    </tr>\n",
              "    <tr>\n",
              "      <th>2</th>\n",
              "      <td>0.958611</td>\n",
              "      <td>0.082625</td>\n",
              "    </tr>\n",
              "    <tr>\n",
              "      <th>3</th>\n",
              "      <td>0.943549</td>\n",
              "      <td>0.107428</td>\n",
              "    </tr>\n",
              "    <tr>\n",
              "      <th>4</th>\n",
              "      <td>0.943549</td>\n",
              "      <td>0.107428</td>\n",
              "    </tr>\n",
              "  </tbody>\n",
              "</table>\n",
              "</div>\n",
              "      <button class=\"colab-df-convert\" onclick=\"convertToInteractive('df-b5708580-1e13-45ad-83b5-040bd3c4a137')\"\n",
              "              title=\"Convert this dataframe to an interactive table.\"\n",
              "              style=\"display:none;\">\n",
              "        \n",
              "  <svg xmlns=\"http://www.w3.org/2000/svg\" height=\"24px\"viewBox=\"0 0 24 24\"\n",
              "       width=\"24px\">\n",
              "    <path d=\"M0 0h24v24H0V0z\" fill=\"none\"/>\n",
              "    <path d=\"M18.56 5.44l.94 2.06.94-2.06 2.06-.94-2.06-.94-.94-2.06-.94 2.06-2.06.94zm-11 1L8.5 8.5l.94-2.06 2.06-.94-2.06-.94L8.5 2.5l-.94 2.06-2.06.94zm10 10l.94 2.06.94-2.06 2.06-.94-2.06-.94-.94-2.06-.94 2.06-2.06.94z\"/><path d=\"M17.41 7.96l-1.37-1.37c-.4-.4-.92-.59-1.43-.59-.52 0-1.04.2-1.43.59L10.3 9.45l-7.72 7.72c-.78.78-.78 2.05 0 2.83L4 21.41c.39.39.9.59 1.41.59.51 0 1.02-.2 1.41-.59l7.78-7.78 2.81-2.81c.8-.78.8-2.07 0-2.86zM5.41 20L4 18.59l7.72-7.72 1.47 1.35L5.41 20z\"/>\n",
              "  </svg>\n",
              "      </button>\n",
              "      \n",
              "  <style>\n",
              "    .colab-df-container {\n",
              "      display:flex;\n",
              "      flex-wrap:wrap;\n",
              "      gap: 12px;\n",
              "    }\n",
              "\n",
              "    .colab-df-convert {\n",
              "      background-color: #E8F0FE;\n",
              "      border: none;\n",
              "      border-radius: 50%;\n",
              "      cursor: pointer;\n",
              "      display: none;\n",
              "      fill: #1967D2;\n",
              "      height: 32px;\n",
              "      padding: 0 0 0 0;\n",
              "      width: 32px;\n",
              "    }\n",
              "\n",
              "    .colab-df-convert:hover {\n",
              "      background-color: #E2EBFA;\n",
              "      box-shadow: 0px 1px 2px rgba(60, 64, 67, 0.3), 0px 1px 3px 1px rgba(60, 64, 67, 0.15);\n",
              "      fill: #174EA6;\n",
              "    }\n",
              "\n",
              "    [theme=dark] .colab-df-convert {\n",
              "      background-color: #3B4455;\n",
              "      fill: #D2E3FC;\n",
              "    }\n",
              "\n",
              "    [theme=dark] .colab-df-convert:hover {\n",
              "      background-color: #434B5C;\n",
              "      box-shadow: 0px 1px 3px 1px rgba(0, 0, 0, 0.15);\n",
              "      filter: drop-shadow(0px 1px 2px rgba(0, 0, 0, 0.3));\n",
              "      fill: #FFFFFF;\n",
              "    }\n",
              "  </style>\n",
              "\n",
              "      <script>\n",
              "        const buttonEl =\n",
              "          document.querySelector('#df-b5708580-1e13-45ad-83b5-040bd3c4a137 button.colab-df-convert');\n",
              "        buttonEl.style.display =\n",
              "          google.colab.kernel.accessAllowed ? 'block' : 'none';\n",
              "\n",
              "        async function convertToInteractive(key) {\n",
              "          const element = document.querySelector('#df-b5708580-1e13-45ad-83b5-040bd3c4a137');\n",
              "          const dataTable =\n",
              "            await google.colab.kernel.invokeFunction('convertToInteractive',\n",
              "                                                     [key], {});\n",
              "          if (!dataTable) return;\n",
              "\n",
              "          const docLinkHtml = 'Like what you see? Visit the ' +\n",
              "            '<a target=\"_blank\" href=https://colab.research.google.com/notebooks/data_table.ipynb>data table notebook</a>'\n",
              "            + ' to learn more about interactive tables.';\n",
              "          element.innerHTML = '';\n",
              "          dataTable['output_type'] = 'display_data';\n",
              "          await google.colab.output.renderOutput(dataTable, element);\n",
              "          const docLink = document.createElement('div');\n",
              "          docLink.innerHTML = docLinkHtml;\n",
              "          element.appendChild(docLink);\n",
              "        }\n",
              "      </script>\n",
              "    </div>\n",
              "  </div>\n",
              "  "
            ]
          },
          "metadata": {},
          "execution_count": 205
        }
      ]
    },
    {
      "cell_type": "code",
      "source": [
        "data_highscore.shape"
      ],
      "metadata": {
        "colab": {
          "base_uri": "https://localhost:8080/"
        },
        "id": "HRbN6MY_Ki6k",
        "outputId": "77dcbba5-f404-4e76-ea50-a14dbc810f44"
      },
      "execution_count": null,
      "outputs": [
        {
          "output_type": "execute_result",
          "data": {
            "text/plain": [
              "(10886, 6)"
            ]
          },
          "metadata": {},
          "execution_count": 206
        }
      ]
    },
    {
      "cell_type": "code",
      "source": [
        "movie_normalized_data.shape"
      ],
      "metadata": {
        "colab": {
          "base_uri": "https://localhost:8080/"
        },
        "id": "smiSo_xxU3mX",
        "outputId": "9a1c6945-f090-4c07-9da9-2905d4cd7867"
      },
      "execution_count": null,
      "outputs": [
        {
          "output_type": "execute_result",
          "data": {
            "text/plain": [
              "(10886, 2)"
            ]
          },
          "metadata": {},
          "execution_count": 207
        }
      ]
    },
    {
      "cell_type": "code",
      "source": [
        "data_highscore.insert(0, \"ID\",np.arange(0,10886), True)"
      ],
      "metadata": {
        "id": "MYfkB_sYOfxU"
      },
      "execution_count": null,
      "outputs": []
    },
    {
      "cell_type": "code",
      "source": [
        "data_highscore.head()"
      ],
      "metadata": {
        "colab": {
          "base_uri": "https://localhost:8080/",
          "height": 206
        },
        "id": "d9sF-g8gXE-A",
        "outputId": "986ec546-4593-4de5-e853-9970a49455e2"
      },
      "execution_count": null,
      "outputs": [
        {
          "output_type": "execute_result",
          "data": {
            "text/plain": [
              "     ID  movie_Id  Rating_Count  Rating_average                     Title  \\\n",
              "97    0       278         15535             8.7  The Shawshank Redemption   \n",
              "110   1       238         11774             8.7             The Godfather   \n",
              "218   2       680         18018             8.5              Pulp Fiction   \n",
              "16    3       155         21575             8.4           The Dark Knight   \n",
              "89    4       155         21575             8.4           The Dark Knight   \n",
              "\n",
              "     Popularity     score  \n",
              "97       57.663  8.356756  \n",
              "110      38.681  8.267086  \n",
              "218      38.846  8.223459  \n",
              "16       50.327  8.174948  \n",
              "89       50.327  8.174948  "
            ],
            "text/html": [
              "\n",
              "  <div id=\"df-117a6d45-5e53-4942-839d-725157ff4ea5\">\n",
              "    <div class=\"colab-df-container\">\n",
              "      <div>\n",
              "<style scoped>\n",
              "    .dataframe tbody tr th:only-of-type {\n",
              "        vertical-align: middle;\n",
              "    }\n",
              "\n",
              "    .dataframe tbody tr th {\n",
              "        vertical-align: top;\n",
              "    }\n",
              "\n",
              "    .dataframe thead th {\n",
              "        text-align: right;\n",
              "    }\n",
              "</style>\n",
              "<table border=\"1\" class=\"dataframe\">\n",
              "  <thead>\n",
              "    <tr style=\"text-align: right;\">\n",
              "      <th></th>\n",
              "      <th>ID</th>\n",
              "      <th>movie_Id</th>\n",
              "      <th>Rating_Count</th>\n",
              "      <th>Rating_average</th>\n",
              "      <th>Title</th>\n",
              "      <th>Popularity</th>\n",
              "      <th>score</th>\n",
              "    </tr>\n",
              "  </thead>\n",
              "  <tbody>\n",
              "    <tr>\n",
              "      <th>97</th>\n",
              "      <td>0</td>\n",
              "      <td>278</td>\n",
              "      <td>15535</td>\n",
              "      <td>8.7</td>\n",
              "      <td>The Shawshank Redemption</td>\n",
              "      <td>57.663</td>\n",
              "      <td>8.356756</td>\n",
              "    </tr>\n",
              "    <tr>\n",
              "      <th>110</th>\n",
              "      <td>1</td>\n",
              "      <td>238</td>\n",
              "      <td>11774</td>\n",
              "      <td>8.7</td>\n",
              "      <td>The Godfather</td>\n",
              "      <td>38.681</td>\n",
              "      <td>8.267086</td>\n",
              "    </tr>\n",
              "    <tr>\n",
              "      <th>218</th>\n",
              "      <td>2</td>\n",
              "      <td>680</td>\n",
              "      <td>18018</td>\n",
              "      <td>8.5</td>\n",
              "      <td>Pulp Fiction</td>\n",
              "      <td>38.846</td>\n",
              "      <td>8.223459</td>\n",
              "    </tr>\n",
              "    <tr>\n",
              "      <th>16</th>\n",
              "      <td>3</td>\n",
              "      <td>155</td>\n",
              "      <td>21575</td>\n",
              "      <td>8.4</td>\n",
              "      <td>The Dark Knight</td>\n",
              "      <td>50.327</td>\n",
              "      <td>8.174948</td>\n",
              "    </tr>\n",
              "    <tr>\n",
              "      <th>89</th>\n",
              "      <td>4</td>\n",
              "      <td>155</td>\n",
              "      <td>21575</td>\n",
              "      <td>8.4</td>\n",
              "      <td>The Dark Knight</td>\n",
              "      <td>50.327</td>\n",
              "      <td>8.174948</td>\n",
              "    </tr>\n",
              "  </tbody>\n",
              "</table>\n",
              "</div>\n",
              "      <button class=\"colab-df-convert\" onclick=\"convertToInteractive('df-117a6d45-5e53-4942-839d-725157ff4ea5')\"\n",
              "              title=\"Convert this dataframe to an interactive table.\"\n",
              "              style=\"display:none;\">\n",
              "        \n",
              "  <svg xmlns=\"http://www.w3.org/2000/svg\" height=\"24px\"viewBox=\"0 0 24 24\"\n",
              "       width=\"24px\">\n",
              "    <path d=\"M0 0h24v24H0V0z\" fill=\"none\"/>\n",
              "    <path d=\"M18.56 5.44l.94 2.06.94-2.06 2.06-.94-2.06-.94-.94-2.06-.94 2.06-2.06.94zm-11 1L8.5 8.5l.94-2.06 2.06-.94-2.06-.94L8.5 2.5l-.94 2.06-2.06.94zm10 10l.94 2.06.94-2.06 2.06-.94-2.06-.94-.94-2.06-.94 2.06-2.06.94z\"/><path d=\"M17.41 7.96l-1.37-1.37c-.4-.4-.92-.59-1.43-.59-.52 0-1.04.2-1.43.59L10.3 9.45l-7.72 7.72c-.78.78-.78 2.05 0 2.83L4 21.41c.39.39.9.59 1.41.59.51 0 1.02-.2 1.41-.59l7.78-7.78 2.81-2.81c.8-.78.8-2.07 0-2.86zM5.41 20L4 18.59l7.72-7.72 1.47 1.35L5.41 20z\"/>\n",
              "  </svg>\n",
              "      </button>\n",
              "      \n",
              "  <style>\n",
              "    .colab-df-container {\n",
              "      display:flex;\n",
              "      flex-wrap:wrap;\n",
              "      gap: 12px;\n",
              "    }\n",
              "\n",
              "    .colab-df-convert {\n",
              "      background-color: #E8F0FE;\n",
              "      border: none;\n",
              "      border-radius: 50%;\n",
              "      cursor: pointer;\n",
              "      display: none;\n",
              "      fill: #1967D2;\n",
              "      height: 32px;\n",
              "      padding: 0 0 0 0;\n",
              "      width: 32px;\n",
              "    }\n",
              "\n",
              "    .colab-df-convert:hover {\n",
              "      background-color: #E2EBFA;\n",
              "      box-shadow: 0px 1px 2px rgba(60, 64, 67, 0.3), 0px 1px 3px 1px rgba(60, 64, 67, 0.15);\n",
              "      fill: #174EA6;\n",
              "    }\n",
              "\n",
              "    [theme=dark] .colab-df-convert {\n",
              "      background-color: #3B4455;\n",
              "      fill: #D2E3FC;\n",
              "    }\n",
              "\n",
              "    [theme=dark] .colab-df-convert:hover {\n",
              "      background-color: #434B5C;\n",
              "      box-shadow: 0px 1px 3px 1px rgba(0, 0, 0, 0.15);\n",
              "      filter: drop-shadow(0px 1px 2px rgba(0, 0, 0, 0.3));\n",
              "      fill: #FFFFFF;\n",
              "    }\n",
              "  </style>\n",
              "\n",
              "      <script>\n",
              "        const buttonEl =\n",
              "          document.querySelector('#df-117a6d45-5e53-4942-839d-725157ff4ea5 button.colab-df-convert');\n",
              "        buttonEl.style.display =\n",
              "          google.colab.kernel.accessAllowed ? 'block' : 'none';\n",
              "\n",
              "        async function convertToInteractive(key) {\n",
              "          const element = document.querySelector('#df-117a6d45-5e53-4942-839d-725157ff4ea5');\n",
              "          const dataTable =\n",
              "            await google.colab.kernel.invokeFunction('convertToInteractive',\n",
              "                                                     [key], {});\n",
              "          if (!dataTable) return;\n",
              "\n",
              "          const docLinkHtml = 'Like what you see? Visit the ' +\n",
              "            '<a target=\"_blank\" href=https://colab.research.google.com/notebooks/data_table.ipynb>data table notebook</a>'\n",
              "            + ' to learn more about interactive tables.';\n",
              "          element.innerHTML = '';\n",
              "          dataTable['output_type'] = 'display_data';\n",
              "          await google.colab.output.renderOutput(dataTable, element);\n",
              "          const docLink = document.createElement('div');\n",
              "          docLink.innerHTML = docLinkHtml;\n",
              "          element.appendChild(docLink);\n",
              "        }\n",
              "      </script>\n",
              "    </div>\n",
              "  </div>\n",
              "  "
            ]
          },
          "metadata": {},
          "execution_count": 209
        }
      ]
    },
    {
      "cell_type": "code",
      "source": [
        "movie_normalized_data.insert(0,'ID',np.arange(0,10886),True)"
      ],
      "metadata": {
        "id": "J-kk8CLMVFEX"
      },
      "execution_count": null,
      "outputs": []
    },
    {
      "cell_type": "code",
      "source": [
        "data_final=data_highscore.merge(movie_normalized_data,on='ID')\n",
        "data_final.head()"
      ],
      "metadata": {
        "colab": {
          "base_uri": "https://localhost:8080/",
          "height": 206
        },
        "id": "YlhTDhAjQVl1",
        "outputId": "d08171ce-4843-4d93-9387-d4d909cccd55"
      },
      "execution_count": null,
      "outputs": [
        {
          "output_type": "execute_result",
          "data": {
            "text/plain": [
              "   ID  movie_Id  Rating_Count  Rating_average                     Title  \\\n",
              "0   0       278         15535             8.7  The Shawshank Redemption   \n",
              "1   1       238         11774             8.7             The Godfather   \n",
              "2   2       680         18018             8.5              Pulp Fiction   \n",
              "3   3       155         21575             8.4           The Dark Knight   \n",
              "4   4       155         21575             8.4           The Dark Knight   \n",
              "\n",
              "   Popularity     score  normalized_score  normalized_Popularity  \n",
              "0      57.663  8.356756          1.000000               0.123276  \n",
              "1      38.681  8.267086          0.972158               0.082268  \n",
              "2      38.846  8.223459          0.958611               0.082625  \n",
              "3      50.327  8.174948          0.943549               0.107428  \n",
              "4      50.327  8.174948          0.943549               0.107428  "
            ],
            "text/html": [
              "\n",
              "  <div id=\"df-da2b820f-2ad5-4e8a-8f1c-516e424c91fd\">\n",
              "    <div class=\"colab-df-container\">\n",
              "      <div>\n",
              "<style scoped>\n",
              "    .dataframe tbody tr th:only-of-type {\n",
              "        vertical-align: middle;\n",
              "    }\n",
              "\n",
              "    .dataframe tbody tr th {\n",
              "        vertical-align: top;\n",
              "    }\n",
              "\n",
              "    .dataframe thead th {\n",
              "        text-align: right;\n",
              "    }\n",
              "</style>\n",
              "<table border=\"1\" class=\"dataframe\">\n",
              "  <thead>\n",
              "    <tr style=\"text-align: right;\">\n",
              "      <th></th>\n",
              "      <th>ID</th>\n",
              "      <th>movie_Id</th>\n",
              "      <th>Rating_Count</th>\n",
              "      <th>Rating_average</th>\n",
              "      <th>Title</th>\n",
              "      <th>Popularity</th>\n",
              "      <th>score</th>\n",
              "      <th>normalized_score</th>\n",
              "      <th>normalized_Popularity</th>\n",
              "    </tr>\n",
              "  </thead>\n",
              "  <tbody>\n",
              "    <tr>\n",
              "      <th>0</th>\n",
              "      <td>0</td>\n",
              "      <td>278</td>\n",
              "      <td>15535</td>\n",
              "      <td>8.7</td>\n",
              "      <td>The Shawshank Redemption</td>\n",
              "      <td>57.663</td>\n",
              "      <td>8.356756</td>\n",
              "      <td>1.000000</td>\n",
              "      <td>0.123276</td>\n",
              "    </tr>\n",
              "    <tr>\n",
              "      <th>1</th>\n",
              "      <td>1</td>\n",
              "      <td>238</td>\n",
              "      <td>11774</td>\n",
              "      <td>8.7</td>\n",
              "      <td>The Godfather</td>\n",
              "      <td>38.681</td>\n",
              "      <td>8.267086</td>\n",
              "      <td>0.972158</td>\n",
              "      <td>0.082268</td>\n",
              "    </tr>\n",
              "    <tr>\n",
              "      <th>2</th>\n",
              "      <td>2</td>\n",
              "      <td>680</td>\n",
              "      <td>18018</td>\n",
              "      <td>8.5</td>\n",
              "      <td>Pulp Fiction</td>\n",
              "      <td>38.846</td>\n",
              "      <td>8.223459</td>\n",
              "      <td>0.958611</td>\n",
              "      <td>0.082625</td>\n",
              "    </tr>\n",
              "    <tr>\n",
              "      <th>3</th>\n",
              "      <td>3</td>\n",
              "      <td>155</td>\n",
              "      <td>21575</td>\n",
              "      <td>8.4</td>\n",
              "      <td>The Dark Knight</td>\n",
              "      <td>50.327</td>\n",
              "      <td>8.174948</td>\n",
              "      <td>0.943549</td>\n",
              "      <td>0.107428</td>\n",
              "    </tr>\n",
              "    <tr>\n",
              "      <th>4</th>\n",
              "      <td>4</td>\n",
              "      <td>155</td>\n",
              "      <td>21575</td>\n",
              "      <td>8.4</td>\n",
              "      <td>The Dark Knight</td>\n",
              "      <td>50.327</td>\n",
              "      <td>8.174948</td>\n",
              "      <td>0.943549</td>\n",
              "      <td>0.107428</td>\n",
              "    </tr>\n",
              "  </tbody>\n",
              "</table>\n",
              "</div>\n",
              "      <button class=\"colab-df-convert\" onclick=\"convertToInteractive('df-da2b820f-2ad5-4e8a-8f1c-516e424c91fd')\"\n",
              "              title=\"Convert this dataframe to an interactive table.\"\n",
              "              style=\"display:none;\">\n",
              "        \n",
              "  <svg xmlns=\"http://www.w3.org/2000/svg\" height=\"24px\"viewBox=\"0 0 24 24\"\n",
              "       width=\"24px\">\n",
              "    <path d=\"M0 0h24v24H0V0z\" fill=\"none\"/>\n",
              "    <path d=\"M18.56 5.44l.94 2.06.94-2.06 2.06-.94-2.06-.94-.94-2.06-.94 2.06-2.06.94zm-11 1L8.5 8.5l.94-2.06 2.06-.94-2.06-.94L8.5 2.5l-.94 2.06-2.06.94zm10 10l.94 2.06.94-2.06 2.06-.94-2.06-.94-.94-2.06-.94 2.06-2.06.94z\"/><path d=\"M17.41 7.96l-1.37-1.37c-.4-.4-.92-.59-1.43-.59-.52 0-1.04.2-1.43.59L10.3 9.45l-7.72 7.72c-.78.78-.78 2.05 0 2.83L4 21.41c.39.39.9.59 1.41.59.51 0 1.02-.2 1.41-.59l7.78-7.78 2.81-2.81c.8-.78.8-2.07 0-2.86zM5.41 20L4 18.59l7.72-7.72 1.47 1.35L5.41 20z\"/>\n",
              "  </svg>\n",
              "      </button>\n",
              "      \n",
              "  <style>\n",
              "    .colab-df-container {\n",
              "      display:flex;\n",
              "      flex-wrap:wrap;\n",
              "      gap: 12px;\n",
              "    }\n",
              "\n",
              "    .colab-df-convert {\n",
              "      background-color: #E8F0FE;\n",
              "      border: none;\n",
              "      border-radius: 50%;\n",
              "      cursor: pointer;\n",
              "      display: none;\n",
              "      fill: #1967D2;\n",
              "      height: 32px;\n",
              "      padding: 0 0 0 0;\n",
              "      width: 32px;\n",
              "    }\n",
              "\n",
              "    .colab-df-convert:hover {\n",
              "      background-color: #E2EBFA;\n",
              "      box-shadow: 0px 1px 2px rgba(60, 64, 67, 0.3), 0px 1px 3px 1px rgba(60, 64, 67, 0.15);\n",
              "      fill: #174EA6;\n",
              "    }\n",
              "\n",
              "    [theme=dark] .colab-df-convert {\n",
              "      background-color: #3B4455;\n",
              "      fill: #D2E3FC;\n",
              "    }\n",
              "\n",
              "    [theme=dark] .colab-df-convert:hover {\n",
              "      background-color: #434B5C;\n",
              "      box-shadow: 0px 1px 3px 1px rgba(0, 0, 0, 0.15);\n",
              "      filter: drop-shadow(0px 1px 2px rgba(0, 0, 0, 0.3));\n",
              "      fill: #FFFFFF;\n",
              "    }\n",
              "  </style>\n",
              "\n",
              "      <script>\n",
              "        const buttonEl =\n",
              "          document.querySelector('#df-da2b820f-2ad5-4e8a-8f1c-516e424c91fd button.colab-df-convert');\n",
              "        buttonEl.style.display =\n",
              "          google.colab.kernel.accessAllowed ? 'block' : 'none';\n",
              "\n",
              "        async function convertToInteractive(key) {\n",
              "          const element = document.querySelector('#df-da2b820f-2ad5-4e8a-8f1c-516e424c91fd');\n",
              "          const dataTable =\n",
              "            await google.colab.kernel.invokeFunction('convertToInteractive',\n",
              "                                                     [key], {});\n",
              "          if (!dataTable) return;\n",
              "\n",
              "          const docLinkHtml = 'Like what you see? Visit the ' +\n",
              "            '<a target=\"_blank\" href=https://colab.research.google.com/notebooks/data_table.ipynb>data table notebook</a>'\n",
              "            + ' to learn more about interactive tables.';\n",
              "          element.innerHTML = '';\n",
              "          dataTable['output_type'] = 'display_data';\n",
              "          await google.colab.output.renderOutput(dataTable, element);\n",
              "          const docLink = document.createElement('div');\n",
              "          docLink.innerHTML = docLinkHtml;\n",
              "          element.appendChild(docLink);\n",
              "        }\n",
              "      </script>\n",
              "    </div>\n",
              "  </div>\n",
              "  "
            ]
          },
          "metadata": {},
          "execution_count": 211
        }
      ]
    },
    {
      "cell_type": "code",
      "source": [
        "data_final['final_score']=data_final['normalized_score']*0.5+data_final['normalized_Popularity']*0.5\n",
        "data_final=data_final.sort_values(['final_score'],ascending=False)\n",
        "data_final[['movie_Id','Title','final_score']].head(10)"
      ],
      "metadata": {
        "colab": {
          "base_uri": "https://localhost:8080/",
          "height": 363
        },
        "id": "wZjOyUfNQZE7",
        "outputId": "be29cadb-002e-41b1-dd71-e8040b989fec"
      },
      "execution_count": null,
      "outputs": [
        {
          "output_type": "execute_result",
          "data": {
            "text/plain": [
              "       movie_Id                     Title  final_score\n",
              "10481    419704                  Ad Astra     0.650021\n",
              "0           278  The Shawshank Redemption     0.561638\n",
              "10       157336              Interstellar     0.538367\n",
              "11       299536    Avengers: Infinity War     0.527495\n",
              "1           238             The Godfather     0.527213\n",
              "4           155           The Dark Knight     0.525488\n",
              "3           155           The Dark Knight     0.525488\n",
              "33       496243                  Parasite     0.523791\n",
              "35       475557                     Joker     0.523140\n",
              "2           680              Pulp Fiction     0.520618"
            ],
            "text/html": [
              "\n",
              "  <div id=\"df-18e605d1-daa3-48b2-a5b2-d408c1f19442\">\n",
              "    <div class=\"colab-df-container\">\n",
              "      <div>\n",
              "<style scoped>\n",
              "    .dataframe tbody tr th:only-of-type {\n",
              "        vertical-align: middle;\n",
              "    }\n",
              "\n",
              "    .dataframe tbody tr th {\n",
              "        vertical-align: top;\n",
              "    }\n",
              "\n",
              "    .dataframe thead th {\n",
              "        text-align: right;\n",
              "    }\n",
              "</style>\n",
              "<table border=\"1\" class=\"dataframe\">\n",
              "  <thead>\n",
              "    <tr style=\"text-align: right;\">\n",
              "      <th></th>\n",
              "      <th>movie_Id</th>\n",
              "      <th>Title</th>\n",
              "      <th>final_score</th>\n",
              "    </tr>\n",
              "  </thead>\n",
              "  <tbody>\n",
              "    <tr>\n",
              "      <th>10481</th>\n",
              "      <td>419704</td>\n",
              "      <td>Ad Astra</td>\n",
              "      <td>0.650021</td>\n",
              "    </tr>\n",
              "    <tr>\n",
              "      <th>0</th>\n",
              "      <td>278</td>\n",
              "      <td>The Shawshank Redemption</td>\n",
              "      <td>0.561638</td>\n",
              "    </tr>\n",
              "    <tr>\n",
              "      <th>10</th>\n",
              "      <td>157336</td>\n",
              "      <td>Interstellar</td>\n",
              "      <td>0.538367</td>\n",
              "    </tr>\n",
              "    <tr>\n",
              "      <th>11</th>\n",
              "      <td>299536</td>\n",
              "      <td>Avengers: Infinity War</td>\n",
              "      <td>0.527495</td>\n",
              "    </tr>\n",
              "    <tr>\n",
              "      <th>1</th>\n",
              "      <td>238</td>\n",
              "      <td>The Godfather</td>\n",
              "      <td>0.527213</td>\n",
              "    </tr>\n",
              "    <tr>\n",
              "      <th>4</th>\n",
              "      <td>155</td>\n",
              "      <td>The Dark Knight</td>\n",
              "      <td>0.525488</td>\n",
              "    </tr>\n",
              "    <tr>\n",
              "      <th>3</th>\n",
              "      <td>155</td>\n",
              "      <td>The Dark Knight</td>\n",
              "      <td>0.525488</td>\n",
              "    </tr>\n",
              "    <tr>\n",
              "      <th>33</th>\n",
              "      <td>496243</td>\n",
              "      <td>Parasite</td>\n",
              "      <td>0.523791</td>\n",
              "    </tr>\n",
              "    <tr>\n",
              "      <th>35</th>\n",
              "      <td>475557</td>\n",
              "      <td>Joker</td>\n",
              "      <td>0.523140</td>\n",
              "    </tr>\n",
              "    <tr>\n",
              "      <th>2</th>\n",
              "      <td>680</td>\n",
              "      <td>Pulp Fiction</td>\n",
              "      <td>0.520618</td>\n",
              "    </tr>\n",
              "  </tbody>\n",
              "</table>\n",
              "</div>\n",
              "      <button class=\"colab-df-convert\" onclick=\"convertToInteractive('df-18e605d1-daa3-48b2-a5b2-d408c1f19442')\"\n",
              "              title=\"Convert this dataframe to an interactive table.\"\n",
              "              style=\"display:none;\">\n",
              "        \n",
              "  <svg xmlns=\"http://www.w3.org/2000/svg\" height=\"24px\"viewBox=\"0 0 24 24\"\n",
              "       width=\"24px\">\n",
              "    <path d=\"M0 0h24v24H0V0z\" fill=\"none\"/>\n",
              "    <path d=\"M18.56 5.44l.94 2.06.94-2.06 2.06-.94-2.06-.94-.94-2.06-.94 2.06-2.06.94zm-11 1L8.5 8.5l.94-2.06 2.06-.94-2.06-.94L8.5 2.5l-.94 2.06-2.06.94zm10 10l.94 2.06.94-2.06 2.06-.94-2.06-.94-.94-2.06-.94 2.06-2.06.94z\"/><path d=\"M17.41 7.96l-1.37-1.37c-.4-.4-.92-.59-1.43-.59-.52 0-1.04.2-1.43.59L10.3 9.45l-7.72 7.72c-.78.78-.78 2.05 0 2.83L4 21.41c.39.39.9.59 1.41.59.51 0 1.02-.2 1.41-.59l7.78-7.78 2.81-2.81c.8-.78.8-2.07 0-2.86zM5.41 20L4 18.59l7.72-7.72 1.47 1.35L5.41 20z\"/>\n",
              "  </svg>\n",
              "      </button>\n",
              "      \n",
              "  <style>\n",
              "    .colab-df-container {\n",
              "      display:flex;\n",
              "      flex-wrap:wrap;\n",
              "      gap: 12px;\n",
              "    }\n",
              "\n",
              "    .colab-df-convert {\n",
              "      background-color: #E8F0FE;\n",
              "      border: none;\n",
              "      border-radius: 50%;\n",
              "      cursor: pointer;\n",
              "      display: none;\n",
              "      fill: #1967D2;\n",
              "      height: 32px;\n",
              "      padding: 0 0 0 0;\n",
              "      width: 32px;\n",
              "    }\n",
              "\n",
              "    .colab-df-convert:hover {\n",
              "      background-color: #E2EBFA;\n",
              "      box-shadow: 0px 1px 2px rgba(60, 64, 67, 0.3), 0px 1px 3px 1px rgba(60, 64, 67, 0.15);\n",
              "      fill: #174EA6;\n",
              "    }\n",
              "\n",
              "    [theme=dark] .colab-df-convert {\n",
              "      background-color: #3B4455;\n",
              "      fill: #D2E3FC;\n",
              "    }\n",
              "\n",
              "    [theme=dark] .colab-df-convert:hover {\n",
              "      background-color: #434B5C;\n",
              "      box-shadow: 0px 1px 3px 1px rgba(0, 0, 0, 0.15);\n",
              "      filter: drop-shadow(0px 1px 2px rgba(0, 0, 0, 0.3));\n",
              "      fill: #FFFFFF;\n",
              "    }\n",
              "  </style>\n",
              "\n",
              "      <script>\n",
              "        const buttonEl =\n",
              "          document.querySelector('#df-18e605d1-daa3-48b2-a5b2-d408c1f19442 button.colab-df-convert');\n",
              "        buttonEl.style.display =\n",
              "          google.colab.kernel.accessAllowed ? 'block' : 'none';\n",
              "\n",
              "        async function convertToInteractive(key) {\n",
              "          const element = document.querySelector('#df-18e605d1-daa3-48b2-a5b2-d408c1f19442');\n",
              "          const dataTable =\n",
              "            await google.colab.kernel.invokeFunction('convertToInteractive',\n",
              "                                                     [key], {});\n",
              "          if (!dataTable) return;\n",
              "\n",
              "          const docLinkHtml = 'Like what you see? Visit the ' +\n",
              "            '<a target=\"_blank\" href=https://colab.research.google.com/notebooks/data_table.ipynb>data table notebook</a>'\n",
              "            + ' to learn more about interactive tables.';\n",
              "          element.innerHTML = '';\n",
              "          dataTable['output_type'] = 'display_data';\n",
              "          await google.colab.output.renderOutput(dataTable, element);\n",
              "          const docLink = document.createElement('div');\n",
              "          docLink.innerHTML = docLinkHtml;\n",
              "          element.appendChild(docLink);\n",
              "        }\n",
              "      </script>\n",
              "    </div>\n",
              "  </div>\n",
              "  "
            ]
          },
          "metadata": {},
          "execution_count": 212
        }
      ]
    },
    {
      "cell_type": "code",
      "source": [
        "scored_df=data_final.sort_values('final_score',ascending=False)\n",
        "plt.figure(figsize=(16,6))\n",
        "\n",
        "ax =sns.barplot(x=scored_df['final_score'].head(10),y=scored_df['Title'].head(10),data=scored_df)\n",
        "\n",
        "plt.title('Best Rated & Most Popular Movies',weight='bold')\n",
        "\n",
        "\n",
        "plt.savefig('scored_movies.png')\n",
        "plt.show"
      ],
      "metadata": {
        "colab": {
          "base_uri": "https://localhost:8080/",
          "height": 422
        },
        "id": "5-ASrmWDbSpQ",
        "outputId": "dc5b3d7a-e773-432f-fd5b-4650c89698f4"
      },
      "execution_count": null,
      "outputs": [
        {
          "output_type": "execute_result",
          "data": {
            "text/plain": [
              "<function matplotlib.pyplot.show(*args, **kw)>"
            ]
          },
          "metadata": {},
          "execution_count": 196
        },
        {
          "output_type": "display_data",
          "data": {
            "text/plain": [
              "<Figure size 1152x432 with 1 Axes>"
            ],
            "image/png": "[encoded data removed]"
          },
          "metadata": {
            "needs_background": "light"
          }
        }
      ]
    },
    {
      "cell_type": "markdown",
      "source": [
        "#CONCLUSION:\n",
        "-Using \"Popularity Based Recommender System\" we can see the top movies which are having highest rating and most popular"
      ],
      "metadata": {
        "id": "aE84XXLf5UXG"
      }
    }
  ],
  "metadata": {
    "colab": {
      "provenance": []
    },
    "kernelspec": {
      "display_name": "Python 3",
      "name": "python3"
    },
    "language_info": {
      "name": "python"
    }
  },
  "nbformat": 4,
  "nbformat_minor": 0
}